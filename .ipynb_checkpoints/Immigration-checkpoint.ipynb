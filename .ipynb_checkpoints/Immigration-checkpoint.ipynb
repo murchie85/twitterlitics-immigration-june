{
 "cells": [
  {
   "cell_type": "markdown",
   "metadata": {},
   "source": [
    "# MURCHIE85 TWITTER PROCESSING \n",
    "\n",
    "&#x1F34E; **TOPIC = \"Immigration\"**\n",
    "\n",
    "\n",
    "## AUTOMATED RESEARCH SUMMARY\n",
    "    \n",
    "\n",
    "![image](https://i.dailymail.co.uk/i/pix/2017/05/20/00/035B04BB000003E8-0-image-a-6_1495235383029.jpg)\n",
    "\n",
    "<br></br>\n",
    "\n",
    "<div class=\"alert alert-block alert-danger\"><b> This repo is for pulling metrics on a given keyword or hashtag and performs a series of reporting and analysis.</b>\n",
    "</div>\n",
    "\n",
    "<br>\n",
    "\n",
    "   \n",
    "![image](TWEETS.png)\n",
    "\n",
    "<br></br>\n",
    "\n",
    "|                ** Sample-Tweets  **        |\n",
    "| :-------------: |\n",
    "| <div class=\"alert alert-block alert-warning\">RT @MaximeBernier: Listen to my interview with Evan Solomon (at 11 min.) We’re discussing immigration, PPC candidates and abortion.</div><div class=\"alert alert-block alert-success\">Bolton and Israel lobby will end up pushing @realDonaldTrump into war, especially when he sees that he can't win th… https://t.co/dGrDTCbhH0</div> <div class=\"alert alert-block alert-info\">RT @mitchellvii: Can I just laugh at those on the right and the left saying Trump's tariffs against Mexico are a \"bad idea?\" Oh no, Mexico…</div>     | \n",
    "\n",
    "<br></br>\n",
    "\n",
    "\n",
    "\n",
    "\n",
    "## GOOGLE SEARCH DEMOGRAPHICS \n",
    "\n",
    "Tweeting demographic           | Countries\n",
    ":-------------------------:|:-------------------------:\n",
    "![](maps.png)  |  ![](gcompare.png)\n",
    "<br>\n",
    "\n",
    "\n",
    "\n",
    "## RELATED TOPICS  & QUERIES \n",
    "\n",
    "topics          | searches\n",
    ":-------------------------:|:-------------------------:\n",
    "![](topic.png)  |  ![](query.png)\n",
    "\n",
    "\n",
    "<br>\n",
    "<br>\n",
    "\n",
    "\n",
    "\n",
    "\n",
    "## RELATED METRICS\n",
    "<br>\n",
    "\n",
    "\n",
    "\n",
    "\n",
    "| Metric | Value |\n",
    "| ------------- | ------------- |\n",
    "| #1 Most tweeted to  | **realDonaldTrump** |\n",
    "| #2 Most tweeted to  | **mitchellvii**|\n",
    "| #3 Most tweeted to  | **RVAwonk** |\n",
    "| NewProfiles (less than 10 days) | 0.95%  |\n",
    "| Tweeters with < 100 followers  | 3.81%|\n",
    "| Tweeters with > 100k followers  | 0.09%  |\n",
    "\n",
    "\n",
    "\n",
    "<br>\n",
    "\n",
    "## MOST POPULAR TWEET TERMS \n",
    "\n",
    "\n",
    "\n",
    "\n",
    "| Popularity Rank  | Term |\n",
    "| ------------- | ------------- |\n",
    "| first  | **MEXICO**  |\n",
    "| second  | **TRUMP**  |\n",
    "| third  | **TARIFFS** |\n",
    "| fourth  | **US**  |\n",
    "| fifth  | **PRESIDENT**  |\n",
    "\n",
    "\n",
    "\n",
    "<br>\n",
    "\n",
    "![image](comparetweets.png)\n",
    "\n",
    "\n",
    "## Twitter Bio Analysis\n",
    "\n",
    "![image](BIO.png)\n",
    "\n",
    "\n",
    "\n",
    "\n",
    "\n",
    "\n",
    "\n",
    "\n",
    "\n",
    "\n",
    "    \n",
    "### SENTIMENT ANALYSIS\n",
    "VIEWS WERE : **SUBJECTIVE**  (30%) & **NEGATIVELY-SUBJECTIVE** (10%) **OBJECTIVE** (60%)\n",
    "\n",
    "\n",
    "\n",
    "### TWEET SAMPLE \n",
    "\n",
    "Random value picked from array: \n",
    "\n",
    "\n",
    "<div class=\"alert alert-block alert-info\">\"RT @realDonaldTrump: On June 10th, the United States will impose a 5% Tariff on all goods coming into our Country from Mexico, until such t…\"</div>\n",
    "\n",
    "### MOST RETWEETED\n",
    "\n",
    "<div class=\"alert alert-block alert-danger\">JackDeskins RT @adamcbest: Conservatives on abortion: We want a ban!, Conservatives on gay marriage: We want a ban!, Conservatives on immigration: We w…</div>\n",
    "\n",
    "### CONCLUSION & EXTERNAL ANALYSIS\n",
    "\n",
    "*This is my (Adam McMurchie's) opinion on the data from the tweets, it serves as no objective truth.Since the tweets themselves are a mixture of fact & opinion. \n",
    "\n",
    "<br><br>\n",
    "\n",
    "**OVERVIEW** The majority of tweets are from people with Bio's describing themseves as/with conservative, MAGA, God & Trump. A very large amount of tweets are surprisngly objective (this is due to a large portion being retweets with minimal commentary). Current trend shows most tweets from the USA, but historical shows that just last week a large portion were from Canada. \n",
    "\n",
    " Demographics show Columbia being the most active searchers of immigration related topics, approximately 1% of tweets appear to be automated (from bots). \n",
    " \n",
    "\n",
    "<br>\n",
    "<br>\n",
    "\n",
    "Authors analytical summary on request.\n"
   ]
  },
  {
   "cell_type": "markdown",
   "metadata": {},
   "source": [
    "# TECHNICAL WALKTHROUGH \n",
    "\n",
    "\n",
    "## OVERVIEW\n",
    "\n",
    "**SKIP TO BOTTOM FOR FULL RESULTS & GRAPH BREAKDOWN **\n",
    "\n",
    "- Pulls live tweets from all over twitter \n",
    "- Imports Tweepy Library \n",
    "- Consumes Twitter API \n",
    "- Desgined to be keyword driven\n",
    "- All metrics can be captured\n",
    "- No limit on Runtime (best to terminate when you want)\n",
    "\n",
    "## Limitations & info\n",
    "1. LOCATION filter is tricky\n",
    "2. Streaming connects to the “public streams” (all public data) \n",
    "3. This is data provided by the Twitter API which accesses their database, the maintenence of DB and thus data quality is managed by Twitter\n",
    "\n",
    "Example of parameter setting done in stream filter \n",
    "\n",
    "```\n",
    "stream.filter(follow=[\"2211149702\"])\n",
    "```\n",
    "\n",
    "\n",
    "### AUTHOR : ADAM MCMURCHIE \n",
    "\n",
    "![image](https://s3.amazonaws.com/re-work-production/avatars/1104/original.png?1485507466)\n",
    "\n",
    "Github [here](https://github.com/murchie85)  \n",
    "\n",
    "Mysite [here](https://murchie85.github.io/)"
   ]
  },
  {
   "cell_type": "markdown",
   "metadata": {},
   "source": [
    "# AUTHENTICATION\n",
    "\n",
    "You will need to change f variable to point to your credentials file, I save mines in a text file and split the comma. Not uploaded to this repo obviously."
   ]
  },
  {
   "cell_type": "code",
   "execution_count": 1,
   "metadata": {},
   "outputs": [],
   "source": [
    "import datetime\n",
    "import os\n",
    "from ipywidgets import IntProgress\n",
    "from IPython.display import display\n",
    "from IPython.display import clear_output\n",
    "import time\n",
    "import sys\n",
    "# Import the necessary package to process data in JSON format\n",
    "try:\n",
    "    import json\n",
    "except ImportError:\n",
    "    import simplejson as json\n",
    "\n",
    "# Import the tweepy library\n",
    "import tweepy\n",
    "\n",
    "\n",
    "\n",
    "\n",
    "f = open(\"../donotgit/access.txt\", \"r\")\n",
    "keys = f.read()\n",
    "f.close()\n",
    "keys  = keys.split(',')\n",
    "#print(\"Access Keys are : \" + str(keys))\n",
    "ACCESS_TOKEN = keys[0]\n",
    "ACCESS_SECRET = keys[1]\n",
    "\n",
    "\n",
    "f = open(\"../donotgit/consumer.txt\", \"r\")\n",
    "keys = f.read()\n",
    "keys  = keys.split(',')\n",
    "#print(\"Consumer Keys are : \" + str(keys))\n",
    "CONSUMER_KEY = keys[0]\n",
    "CONSUMER_SECRET = keys[1]\n"
   ]
  },
  {
   "cell_type": "markdown",
   "metadata": {},
   "source": [
    "# TOPIC & SCANTYPE SELECTION\n",
    "\n",
    "1. Select which topic you wish to scan for (You can use # or most special characters). \n",
    "2. Scantype means you can chose between pulling in tweets as they happen or pull down historical tweets so you can view things like number of retweets (as if it is realtime, there wont have been time for retweet)"
   ]
  },
  {
   "cell_type": "code",
   "execution_count": 2,
   "metadata": {},
   "outputs": [],
   "source": [
    "TOPIC = 'immigration'\n",
    "\n",
    "# Realtime = 1 Historical = 2\n",
    "scantype = 2"
   ]
  },
  {
   "cell_type": "markdown",
   "metadata": {},
   "source": [
    "# PULLING DOWN THE DATA \n",
    "\n",
    "This is where the magic happens, api authentication is set up, tweepy library is imported for the work and a class allow us to pull live data. This is appended to array for processing later. \n",
    "\n",
    "\n",
    "*NOTE* -   this will just keep running until you force terminate, i haven't added in a terminate loop yet."
   ]
  },
  {
   "cell_type": "markdown",
   "metadata": {},
   "source": [
    "# REALTIME TWEETS"
   ]
  },
  {
   "cell_type": "code",
   "execution_count": 3,
   "metadata": {},
   "outputs": [
    {
     "name": "stdout",
     "output_type": "stream",
     "text": [
      "Ignore this error = jump to next\n"
     ]
    },
    {
     "ename": "RuntimeError",
     "evalue": "No active exception to reraise",
     "output_type": "error",
     "traceback": [
      "\u001b[0;31m---------------------------------------------------------------------------\u001b[0m",
      "\u001b[0;31mRuntimeError\u001b[0m                              Traceback (most recent call last)",
      "\u001b[0;32m<ipython-input-3-507a36592e10>\u001b[0m in \u001b[0;36m<module>\u001b[0;34m\u001b[0m\n\u001b[1;32m      1\u001b[0m \u001b[0;32mif\u001b[0m \u001b[0mscantype\u001b[0m \u001b[0;34m!=\u001b[0m \u001b[0;36m1\u001b[0m\u001b[0;34m:\u001b[0m\u001b[0;34m\u001b[0m\u001b[0;34m\u001b[0m\u001b[0m\n\u001b[1;32m      2\u001b[0m     \u001b[0mprint\u001b[0m\u001b[0;34m(\u001b[0m\u001b[0;34m\"Ignore this error = jump to next\"\u001b[0m\u001b[0;34m)\u001b[0m\u001b[0;34m\u001b[0m\u001b[0;34m\u001b[0m\u001b[0m\n\u001b[0;32m----> 3\u001b[0;31m     \u001b[0;32mraise\u001b[0m\u001b[0;34m\u001b[0m\u001b[0;34m\u001b[0m\u001b[0m\n\u001b[0m\u001b[1;32m      4\u001b[0m \u001b[0;34m\u001b[0m\u001b[0m\n\u001b[1;32m      5\u001b[0m \u001b[0;34m\u001b[0m\u001b[0m\n",
      "\u001b[0;31mRuntimeError\u001b[0m: No active exception to reraise"
     ]
    }
   ],
   "source": [
    "if scantype != 1:\n",
    "    print(\"Ignore this error = jump to next\")\n",
    "    raise\n",
    "\n",
    "\n",
    "# Variables that contains the user credentials to access Twitter API \n",
    "# Captured earlier \n",
    "\n",
    "# Setup tweepy to authenticate with Twitter credentials:\n",
    "\n",
    "auth = tweepy.OAuthHandler(CONSUMER_KEY, CONSUMER_SECRET)\n",
    "auth.set_access_token(ACCESS_TOKEN, ACCESS_SECRET)\n",
    "\n",
    "# Create the api to connect to twitter with your creadentials\n",
    "api = tweepy.API(auth, wait_on_rate_limit=True, wait_on_rate_limit_notify=True, compression=True)\n",
    "\n",
    "status_array = []\n",
    "\n",
    "progress = 0\n",
    "max_count = 10000\n",
    "\n",
    "f = IntProgress(description='Processing:',min=0, max=max_count,) # instantiate the bar\n",
    "display(f) # display the bar\n",
    "\n",
    "\n",
    "\n",
    "\n",
    "class StreamListener(tweepy.StreamListener):\n",
    "    tweet_number=0   # class variable\n",
    "    \n",
    "\n",
    "\n",
    "    def on_status(self, status):\n",
    "        self.max_tweets=max_count # max number of tweets\n",
    "        self.tweet_number+=1   \n",
    "        f.value += 1 # signal to increment the progress bar\n",
    "        progress = (f.value/max_count) * 100\n",
    "        progress = format(progress, '.2f')\n",
    "        print('Progress: ' + str(progress) + \" %\")\n",
    "        clear_output(wait=True)\n",
    "        status_array.append(status._json)\n",
    "\n",
    "        if self.tweet_number>=self.max_tweets:\n",
    "            sys.exit('PROCESSING COMPLETE : '+str(self.max_tweets)+' tweets processed.')\n",
    "\n",
    "        \n",
    "    def on_error(self, status_code):\n",
    "        if status_code == 420:\n",
    "            return False\n",
    "\n",
    "stream_listener = StreamListener()\n",
    "stream = tweepy.Stream(auth=api.auth, listener=stream_listener)\n",
    "\n",
    "#print('Pulling down data.....')\n",
    "stream.filter(track=[TOPIC],languages=[\"en\"])\n",
    "\n",
    "\n"
   ]
  },
  {
   "cell_type": "markdown",
   "metadata": {},
   "source": [
    "# HISTORICAL TWEETS"
   ]
  },
  {
   "cell_type": "code",
   "execution_count": 4,
   "metadata": {
    "scrolled": true
   },
   "outputs": [
    {
     "ename": "KeyboardInterrupt",
     "evalue": "",
     "output_type": "error",
     "traceback": [
      "\u001b[0;31m---------------------------------------------------------------------------\u001b[0m",
      "\u001b[0;31mKeyboardInterrupt\u001b[0m                         Traceback (most recent call last)",
      "\u001b[0;32m<ipython-input-4-5aa0c895b519>\u001b[0m in \u001b[0;36m<module>\u001b[0;34m\u001b[0m\n\u001b[1;32m     44\u001b[0m     \u001b[0mprint\u001b[0m\u001b[0;34m(\u001b[0m\u001b[0;34m'Progress: '\u001b[0m \u001b[0;34m+\u001b[0m \u001b[0mstr\u001b[0m\u001b[0;34m(\u001b[0m\u001b[0mprogress\u001b[0m\u001b[0;34m)\u001b[0m \u001b[0;34m+\u001b[0m \u001b[0;34m\" %\"\u001b[0m\u001b[0;34m)\u001b[0m\u001b[0;34m\u001b[0m\u001b[0;34m\u001b[0m\u001b[0m\n\u001b[1;32m     45\u001b[0m     \u001b[0mclear_output\u001b[0m\u001b[0;34m(\u001b[0m\u001b[0mwait\u001b[0m\u001b[0;34m=\u001b[0m\u001b[0;32mTrue\u001b[0m\u001b[0;34m)\u001b[0m\u001b[0;34m\u001b[0m\u001b[0;34m\u001b[0m\u001b[0m\n\u001b[0;32m---> 46\u001b[0;31m     \u001b[0mtime\u001b[0m\u001b[0;34m.\u001b[0m\u001b[0msleep\u001b[0m\u001b[0;34m(\u001b[0m\u001b[0;36m.1\u001b[0m\u001b[0;34m)\u001b[0m\u001b[0;34m\u001b[0m\u001b[0;34m\u001b[0m\u001b[0m\n\u001b[0m\u001b[1;32m     47\u001b[0m     \u001b[0mstatus_array\u001b[0m\u001b[0;34m.\u001b[0m\u001b[0mappend\u001b[0m\u001b[0;34m(\u001b[0m\u001b[0mtweet\u001b[0m\u001b[0;34m.\u001b[0m\u001b[0m_json\u001b[0m\u001b[0;34m)\u001b[0m\u001b[0;34m\u001b[0m\u001b[0;34m\u001b[0m\u001b[0m\n\u001b[1;32m     48\u001b[0m \u001b[0;34m\u001b[0m\u001b[0m\n",
      "\u001b[0;31mKeyboardInterrupt\u001b[0m: "
     ]
    }
   ],
   "source": [
    "# HISTORICAL DATA SWITCHED OFF (IF YOU SWITCH ON, THEN SWITCH STREAM OFF ABOVE)\n",
    "\n",
    "if scantype != 2:\n",
    "    raise\n",
    "\n",
    "\n",
    "# Variables that contains the user credentials to access Twitter API \n",
    "# Captured earlier \n",
    "\n",
    "# Setup tweepy to authenticate with Twitter credentials:\n",
    "\n",
    "auth = tweepy.OAuthHandler(CONSUMER_KEY, CONSUMER_SECRET)\n",
    "auth.set_access_token(ACCESS_TOKEN, ACCESS_SECRET)\n",
    "\n",
    "# Create the api to connect to twitter with your creadentials\n",
    "api = tweepy.API(auth, wait_on_rate_limit=True, wait_on_rate_limit_notify=True, compression=True)\n",
    "\n",
    "\n",
    "\n",
    "\n",
    "\n",
    "\n",
    "\n",
    "\n",
    "\n",
    "status_array = []\n",
    "LOOP_COUNT = 0\n",
    "max_count = 10000\n",
    "\n",
    "\n",
    "# ------ENTER YOUR SERACH TERM HER E--------\n",
    "tweets = tweepy.Cursor(api.search, q=TOPIC, count=int(max_count))\n",
    "\n",
    "# TRACK PROGRESS\n",
    "f = IntProgress(min=0, max=max_count) # instantiate the bar\n",
    "display(f) # display the bar\n",
    "progress = 0\n",
    "\n",
    "print('Pulling down data.....')                    \n",
    "for tweet in tweets.items(int(max_count)):\n",
    "    f.value+=1 # signal to increment the progress bar\n",
    "    progress = (f.value/max_count) * 100\n",
    "    progress = format(progress, '.2f')\n",
    "    print('Progress: ' + str(progress) + \" %\")\n",
    "    clear_output(wait=True)\n",
    "    time.sleep(.1)\n",
    "    status_array.append(tweet._json)\n",
    "\n",
    "\n",
    "\n",
    "print('Processing complete')\n",
    "\n"
   ]
  },
  {
   "cell_type": "markdown",
   "metadata": {},
   "source": [
    "# QUICK STREAM"
   ]
  },
  {
   "cell_type": "code",
   "execution_count": 5,
   "metadata": {},
   "outputs": [
    {
     "name": "stdout",
     "output_type": "stream",
     "text": [
      "Number of records\n",
      "217\n",
      "\n",
      "The data keys are : \n",
      "dict_keys(['created_at', 'id', 'id_str', 'text', 'truncated', 'entities', 'metadata', 'source', 'in_reply_to_status_id', 'in_reply_to_status_id_str', 'in_reply_to_user_id', 'in_reply_to_user_id_str', 'in_reply_to_screen_name', 'user', 'geo', 'coordinates', 'place', 'contributors', 'retweeted_status', 'is_quote_status', 'retweet_count', 'favorite_count', 'favorited', 'retweeted', 'lang'])\n",
      "\n"
     ]
    }
   ],
   "source": [
    "print('Number of records')\n",
    "print(len(status_array))\n",
    "print('')\n",
    "print('The data keys are : ')\n",
    "print(status_array[0].keys())\n",
    "print('')\n",
    "#print('An example element looks like: ')\n",
    "#print(status_array[0])"
   ]
  },
  {
   "cell_type": "markdown",
   "metadata": {},
   "source": [
    "# REPORT GENERATION\n",
    "\n",
    "**REMOVE** quotes to switch on reporting, you may need to create the folders listed below i.e. data folder description folder etc."
   ]
  },
  {
   "cell_type": "code",
   "execution_count": 6,
   "metadata": {
    "scrolled": true
   },
   "outputs": [
    {
     "data": {
      "text/plain": [
       "'\\ncurrentDT = datetime.datetime.now()\\nfilename = \"data/streamout-\" + str(currentDT) + \".txt\"\\n\\nprint(filename)\\n\\nwith open(filename, \\'w\\') as f:\\n    for item in status_array:\\n        f.write(\"%s\\n\" % item)\\nf.close()\\n\\n\\n# WRITE OUT FULL REPORT\\nreportfile = \"reports/printout-\"+ str(currentDT) + \".txt\"\\ndescriptionfile = \"data/description/printout-\"+ str(currentDT) + \".txt\"\\ntweetfile = \"data/tweet/printout-\"+ str(currentDT) + \".txt\"\\n\\nREPORTCOUNT = 0\\nwith open(reportfile, \\'w\\') as f:\\n    for y in range(0, len(status_array)):\\n        REPORTCOUNT = REPORTCOUNT + 1\\n        f.write(\\'************************************************************\\n\\')\\n        f.write(status_array[y][\\'text\\'])\\n        f.write(\\'------------------------------\\n\\')\\n        f.write(status_array[y][\\'created_at\\'])\\n        f.write(\\'------------------------------\\n\\')\\n        f.write(status_array[y][\\'user\\'][\\'name\\'])\\n        f.write(\\'------------------------------\\n\\')\\n        f.write(str(status_array[y][\\'user\\'][\\'location\\']))\\n        f.write(\\'------------------------------\\n\\')\\n        f.write(str(status_array[y][\\'user\\'][\\'description\\']))\\n        f.write(\\'--------------REPLY COUNT----------------\\n|\\')\\n        f.write(str(status_array[y][\\'reply_count\\']))\\n        f.write(\\'--------------RETWEET COUNT----------------\\n\\')\\n        f.write(str(status_array[y][\\'retweet_count\\']))\\n        f.write(\\'--------------RETWEETED?----------------\\n\\')\\n        f.write(str(status_array[y][\\'retweeted\\']))\\n        f.write(\\'--------------RETWEET COUNT----------------\\n\\')\\n        f.write(str(status_array[y][\\'retweet_count\\']))\\n        f.write(\\'--------------FAVOURITED----------------\\n\\')\\n        f.write(str(status_array[y][\\'favorited\\']))\\n        f.write(\\'--------------FAVOURITE COUNT----------------\\n\\')\\n        f.write(str(status_array[y][\\'favorite_count\\']))\\n        f.write(\\'\\n\\')\\n        f.write(\\'\\n\\')\\n    f.write(\\'number of records are : \\')\\n    f.write(str(REPORTCOUNT))\\n        \\nf.close()\\n    \\n    \\n# WRITE OUT ONLY DESCRIPTION\\n    \\nREPORTCOUNT = 0\\nwith open(descriptionfile, \\'w\\') as f:\\n    for y in range(0, len(status_array)):\\n        REPORTCOUNT = REPORTCOUNT + 1\\n        f.write(\\'************************************************************\\n\\')\\n        f.write(str(status_array[y][\\'user\\'][\\'description\\']))\\n        f.write(\\'\\n\\')\\n    f.write(\\'number of records are : \\')\\n    f.write(str(REPORTCOUNT))\\n        \\nf.close()\\n    \\n\\n# WRITE OUT ONLY TWEET\\n    \\nREPORTCOUNT = 0\\nwith open(tweetfile, \\'w\\') as f:\\n    for y in range(0, len(status_array)):\\n        REPORTCOUNT = REPORTCOUNT + 1\\n        f.write(\\'************************************************************\\n\\')\\n        f.write(status_array[y][\\'text\\'])\\n        f.write(\\'\\n\\')\\n    f.write(\\'number of records are : \\')\\n    f.write(str(REPORTCOUNT))\\n        \\nf.close()\\n\\n    \\n    \\n    \\n    \\n    \\nprint(\\'=========================SAMPLE OUTPUT================================\\')\\nprint(\\'************************************************************\\')\\nprint(status_array[0][\\'text\\'])\\nprint(\\'------------------------------\\')\\nprint(status_array[0][\\'created_at\\'])\\nprint(\\'------------------------------\\')\\nprint(status_array[0][\\'user\\'][\\'name\\'])\\nprint(\\'------------------------------\\')\\nprint(status_array[0][\\'user\\'][\\'location\\'])\\nprint(\\'------------------------------\\')\\nprint(status_array[0][\\'user\\'][\\'description\\'])\\nprint(\\'--------------REPLY COUNT----------------\\')\\nprint(status_array[0][\\'reply_count\\'])\\nprint(\\'--------------RETWEET COUNT----------------\\')\\nprint(status_array[0][\\'retweet_count\\'])\\nprint(\\'--------------RETWEETED?----------------\\') \\nprint(status_array[0][\\'retweeted\\'])\\nprint(\\'--------------RETWEET COUNT----------------\\')\\nprint(status_array[0][\\'retweet_count\\'])\\nprint(\\'--------------FAVOURITED----------------\\')\\nprint(status_array[0][\\'favorited\\'])\\nprint(\\'--------------FAVOURITE COUNT----------------\\')\\nprint(status_array[0][\\'favorite_count\\'])\\n'"
      ]
     },
     "execution_count": 6,
     "metadata": {},
     "output_type": "execute_result"
    }
   ],
   "source": [
    "# REMOVE QUOTES TO ACTIVATE \n",
    "# append to filename\n",
    "\"\"\"\n",
    "currentDT = datetime.datetime.now()\n",
    "filename = \"data/streamout-\" + str(currentDT) + \".txt\"\n",
    "\n",
    "print(filename)\n",
    "\n",
    "with open(filename, 'w') as f:\n",
    "    for item in status_array:\n",
    "        f.write(\"%s\\n\" % item)\n",
    "f.close()\n",
    "\n",
    "\n",
    "# WRITE OUT FULL REPORT\n",
    "reportfile = \"reports/printout-\"+ str(currentDT) + \".txt\"\n",
    "descriptionfile = \"data/description/printout-\"+ str(currentDT) + \".txt\"\n",
    "tweetfile = \"data/tweet/printout-\"+ str(currentDT) + \".txt\"\n",
    "\n",
    "REPORTCOUNT = 0\n",
    "with open(reportfile, 'w') as f:\n",
    "    for y in range(0, len(status_array)):\n",
    "        REPORTCOUNT = REPORTCOUNT + 1\n",
    "        f.write('************************************************************\\n')\n",
    "        f.write(status_array[y]['text'])\n",
    "        f.write('------------------------------\\n')\n",
    "        f.write(status_array[y]['created_at'])\n",
    "        f.write('------------------------------\\n')\n",
    "        f.write(status_array[y]['user']['name'])\n",
    "        f.write('------------------------------\\n')\n",
    "        f.write(str(status_array[y]['user']['location']))\n",
    "        f.write('------------------------------\\n')\n",
    "        f.write(str(status_array[y]['user']['description']))\n",
    "        f.write('--------------REPLY COUNT----------------\\n|')\n",
    "        f.write(str(status_array[y]['reply_count']))\n",
    "        f.write('--------------RETWEET COUNT----------------\\n')\n",
    "        f.write(str(status_array[y]['retweet_count']))\n",
    "        f.write('--------------RETWEETED?----------------\\n')\n",
    "        f.write(str(status_array[y]['retweeted']))\n",
    "        f.write('--------------RETWEET COUNT----------------\\n')\n",
    "        f.write(str(status_array[y]['retweet_count']))\n",
    "        f.write('--------------FAVOURITED----------------\\n')\n",
    "        f.write(str(status_array[y]['favorited']))\n",
    "        f.write('--------------FAVOURITE COUNT----------------\\n')\n",
    "        f.write(str(status_array[y]['favorite_count']))\n",
    "        f.write('\\n')\n",
    "        f.write('\\n')\n",
    "    f.write('number of records are : ')\n",
    "    f.write(str(REPORTCOUNT))\n",
    "        \n",
    "f.close()\n",
    "    \n",
    "    \n",
    "# WRITE OUT ONLY DESCRIPTION\n",
    "    \n",
    "REPORTCOUNT = 0\n",
    "with open(descriptionfile, 'w') as f:\n",
    "    for y in range(0, len(status_array)):\n",
    "        REPORTCOUNT = REPORTCOUNT + 1\n",
    "        f.write('************************************************************\\n')\n",
    "        f.write(str(status_array[y]['user']['description']))\n",
    "        f.write('\\n')\n",
    "    f.write('number of records are : ')\n",
    "    f.write(str(REPORTCOUNT))\n",
    "        \n",
    "f.close()\n",
    "    \n",
    "\n",
    "# WRITE OUT ONLY TWEET\n",
    "    \n",
    "REPORTCOUNT = 0\n",
    "with open(tweetfile, 'w') as f:\n",
    "    for y in range(0, len(status_array)):\n",
    "        REPORTCOUNT = REPORTCOUNT + 1\n",
    "        f.write('************************************************************\\n')\n",
    "        f.write(status_array[y]['text'])\n",
    "        f.write('\\n')\n",
    "    f.write('number of records are : ')\n",
    "    f.write(str(REPORTCOUNT))\n",
    "        \n",
    "f.close()\n",
    "\n",
    "    \n",
    "    \n",
    "    \n",
    "    \n",
    "    \n",
    "print('=========================SAMPLE OUTPUT================================')\n",
    "print('************************************************************')\n",
    "print(status_array[0]['text'])\n",
    "print('------------------------------')\n",
    "print(status_array[0]['created_at'])\n",
    "print('------------------------------')\n",
    "print(status_array[0]['user']['name'])\n",
    "print('------------------------------')\n",
    "print(status_array[0]['user']['location'])\n",
    "print('------------------------------')\n",
    "print(status_array[0]['user']['description'])\n",
    "print('--------------REPLY COUNT----------------')\n",
    "print(status_array[0]['reply_count'])\n",
    "print('--------------RETWEET COUNT----------------')\n",
    "print(status_array[0]['retweet_count'])\n",
    "print('--------------RETWEETED?----------------') \n",
    "print(status_array[0]['retweeted'])\n",
    "print('--------------RETWEET COUNT----------------')\n",
    "print(status_array[0]['retweet_count'])\n",
    "print('--------------FAVOURITED----------------')\n",
    "print(status_array[0]['favorited'])\n",
    "print('--------------FAVOURITE COUNT----------------')\n",
    "print(status_array[0]['favorite_count'])\n",
    "\"\"\"\n"
   ]
  },
  {
   "cell_type": "markdown",
   "metadata": {},
   "source": [
    "## TWEET NUMERICAL ANALYSIS\n",
    "\n",
    "Change the below values to see how they rank in tweet frequency,  **YOU DON'T NEED TO WORRY ABOUT CASE SENSITIVITY IN WORDING**, that is covered in the code.\n",
    "\n",
    "```\n",
    "WORDONE=''\n",
    "WORDTWO=''\n",
    "WORDTHREE=''\n",
    "```"
   ]
  },
  {
   "cell_type": "code",
   "execution_count": 7,
   "metadata": {
    "scrolled": false
   },
   "outputs": [
    {
     "name": "stdout",
     "output_type": "stream",
     "text": [
      "Total count of words - MEXICO :41               18.89%\n",
      "Total count of words - TRUMP :64              18.89%\n",
      "Total count of words - TARIFFS :11           5.07%\n",
      "Total count of words - ILLEGAL :19             8.76%\n",
      "Total count of words - BORDER :29             13.36%\n",
      "Total count of words - ASYLUM :1               0.46%\n",
      "Total count of words - HUMANITY :0            0.0%\n",
      "Total count of words - DEPORT :1           0.46%\n",
      "Total count of words - TERM :1             0.46%\n",
      "Total count of words - TERM :1               0.46%\n",
      "Total Number of Records: 217\n",
      "\n",
      "Length of appended text array : 29396\n",
      "\n",
      "OrderedDict([('DEAL', 85), ('TRUMP', 33), ('--NO', 32), ('MEXICO', 31), ('BORDER', 27), ('KIDS', 27), ('ENGLISH', 24), ('TRUMP:', 23), ('EMERGENCY', 20), ('FINANCE', 19), ('@RBREICH:', 19), ('CAMPAIGN', 17), ('NORTH', 16), ('CRISIS', 15), ('ILLEGAL', 15), ('CLASSES', 15), ('US', 14), ('POLICY', 14), ('NEW', 14), ('MUST', 13)])\n"
     ]
    }
   ],
   "source": [
    "# UPDATE WITH WORDS YOU WANT TO INTERROGATE\n",
    "WORDONE='MEXICO'\n",
    "WORDTWO='TRUMP'\n",
    "WORDTHREE='TARIFFS'\n",
    "WORDFOUR = 'ILLEGAL'\n",
    "WORDFIVE = 'border'\n",
    "WORDSIX = 'ASYLUM'\n",
    "WORDSEVEN = 'humanity'\n",
    "WORDEIGHT = 'deport'\n",
    "WORDNINE = 'TERM'\n",
    "WORDTEN = 'TERM'\n",
    "\n",
    "\n",
    "\n",
    "\n",
    "WORDONE= WORDONE.upper()\n",
    "WORDTWO= WORDTWO.upper()\n",
    "WORDTHREE=WORDTHREE.upper()\n",
    "WORDFOUR = WORDFOUR.upper()\n",
    "WORDFIVE = WORDFIVE.upper()\n",
    "WORDSIX = WORDSIX.upper()\n",
    "WORDSEVEN = WORDSEVEN.upper()\n",
    "WORDEIGHT = WORDEIGHT.upper()\n",
    "WORDNINE = WORDNINE.upper()\n",
    "WORDTEN = WORDTEN.upper()\n",
    "\n",
    "\n",
    "\n",
    "\n",
    "\n",
    "\n",
    "WORDONE_COUNT = 0\n",
    "WORDTWO_COUNT = 0 \n",
    "WORDTHREE_COUNT = 0 \n",
    "WORDFOUR_COUNT = 0\n",
    "WORDFIVE_COUNT = 0\n",
    "WORDSIX_COUNT = 0\n",
    "WORDSEVEN_COUNT= 0\n",
    "WORDEIGHT_COUNT= 0\n",
    "WORDNINE_COUNT = 0\n",
    "WORDTEN_COUNT = 0\n",
    "\n",
    "\n",
    "\n",
    "\n",
    "linecount = 0\n",
    "APPENDED_TEXT = \"\"\n",
    "\n",
    "\n",
    "\n",
    "for x in range(0, len(status_array)):\n",
    "    linecount = linecount + 1\n",
    "    text = str(status_array[x]['text']).upper()\n",
    "    APPENDED_TEXT = APPENDED_TEXT + str(text)\n",
    "    \n",
    "    \n",
    "    if str(text).count(str(WORDONE)) >= 1:\n",
    "        WORDONE_COUNT = WORDONE_COUNT + 1\n",
    "    if str(text).count(str(WORDTWO)) >= 1:\n",
    "        WORDTWO_COUNT = WORDTWO_COUNT + 1\n",
    "    if str(text).count(str(WORDTHREE)) >= 1:\n",
    "        WORDTHREE_COUNT = WORDTHREE_COUNT + 1\n",
    "    if str(text).count(str(WORDFOUR)) >= 1:\n",
    "        WORDFOUR_COUNT = WORDFOUR_COUNT + 1\n",
    "    if str(text).count(str(WORDFIVE)) >= 1:\n",
    "        WORDFIVE_COUNT = WORDFIVE_COUNT + 1\n",
    "    if str(text).count(str(WORDSIX)) >= 1:\n",
    "        WORDSIX_COUNT = WORDSIX_COUNT + 1\n",
    "    if str(text).count(str(WORDSEVEN)) >= 1:\n",
    "        WORDSEVEN_COUNT = WORDSEVEN_COUNT + 1\n",
    "    if str(text).count(str(WORDEIGHT)) >= 1:\n",
    "        WORDEIGHT_COUNT = WORDEIGHT_COUNT + 1\n",
    "    if str(text).count(str(WORDNINE)) >= 1:\n",
    "        WORDNINE_COUNT = WORDNINE_COUNT + 1\n",
    "    if str(text).count(str(WORDTEN)) >= 1:\n",
    "        WORDTEN_COUNT = WORDTEN_COUNT + 1\n",
    "\n",
    "      \n",
    " \n",
    "\n",
    "\n",
    "WORDONE_COUNT_PERCENT = round(((WORDONE_COUNT/len(status_array))*100),2)\n",
    "WORDTWO_COUNT_PERCENT  = round(((WORDONE_COUNT/len(status_array))*100),2)\n",
    "WORDTHREE_COUNT_PERCENT  = round(((WORDTHREE_COUNT/len(status_array))*100),2)\n",
    "WORDFOUR_COUNT_PERCENT  = round(((WORDFOUR_COUNT/len(status_array))*100),2)\n",
    "WORDFIVE_COUNT_PERCENT  = round(((WORDFIVE_COUNT/len(status_array))*100),2)\n",
    "WORDSIX_COUNT_PERCENT  = round(((WORDSIX_COUNT/len(status_array))*100),2)\n",
    "WORDSEVEN_COUNT_PERCENT  = round(((WORDSEVEN_COUNT/len(status_array))*100),2)\n",
    "WORDEIGHT_COUNT_PERCENT  = round(((WORDEIGHT_COUNT/len(status_array))*100),2)\n",
    "WORDNINE_COUNT_PERCENT  = round(((WORDNINE_COUNT/len(status_array))*100),2)\n",
    "WORDTEN_COUNT_PERCENT  = round(((WORDTEN_COUNT/len(status_array))*100),2)\n",
    "        \n",
    "print('Total count of words - ' + str(WORDONE) + ' :' + str(WORDONE_COUNT) + \"               \" + str(WORDONE_COUNT_PERCENT) + \"%\")\n",
    "print('Total count of words - ' + str(WORDTWO) + ' :' + str(WORDTWO_COUNT) + \"              \" + str(WORDTWO_COUNT_PERCENT)+ \"%\")\n",
    "print('Total count of words - ' + str(WORDTHREE) + ' :' + str(WORDTHREE_COUNT) + \"           \" + str(WORDTHREE_COUNT_PERCENT)+ \"%\")\n",
    "print('Total count of words - ' + str(WORDFOUR) + ' :' + str(WORDFOUR_COUNT) + \"             \" + str(WORDFOUR_COUNT_PERCENT)+ \"%\")\n",
    "print('Total count of words - ' + str(WORDFIVE) + ' :' + str(WORDFIVE_COUNT) + \"             \" + str(WORDFIVE_COUNT_PERCENT)+ \"%\")\n",
    "print('Total count of words - ' + str(WORDSIX) + ' :' + str(WORDSIX_COUNT) + \"               \" + str(WORDSIX_COUNT_PERCENT)+ \"%\")\n",
    "print('Total count of words - ' + str(WORDSEVEN) + ' :' + str(WORDSEVEN_COUNT) + \"            \" + str(WORDSEVEN_COUNT_PERCENT)+ \"%\")\n",
    "print('Total count of words - ' + str(WORDEIGHT) + ' :' + str(WORDEIGHT_COUNT) + \"           \" + str(WORDEIGHT_COUNT_PERCENT)+ \"%\")\n",
    "print('Total count of words - ' + str(WORDNINE) + ' :' + str(WORDNINE_COUNT) + \"             \" + str(WORDNINE_COUNT_PERCENT)+ \"%\")\n",
    "print('Total count of words - ' + str(WORDTEN) + ' :' + str(WORDTEN_COUNT) + \"               \" + str(WORDTEN_COUNT_PERCENT)+ \"%\")\n",
    "print('Total Number of Records: ' + str(linecount)) \n",
    "\n",
    "\n",
    "APPENDED_TEXT = APPENDED_TEXT.replace('#', '')\n",
    "APPENDED_TEXT = APPENDED_TEXT.replace('.', '')\n",
    "APPENDED_TEXT = APPENDED_TEXT.replace(',', '')\n",
    "APPENDED_TEXT = APPENDED_TEXT.replace(',', '')\n",
    "\n",
    "\n",
    "\n",
    "print('')\n",
    "\n",
    "print(\"Length of appended text array : \" + str(len(APPENDED_TEXT)))\n",
    "\n",
    "print('')\n",
    "from collections import Counter, OrderedDict\n",
    "DISC = APPENDED_TEXT.split()\n",
    "x = Counter(DISC)\n",
    "del x['⠀'],x['AND'],x['THE'],x['OF'],x['TO'],x['A'],x['IN'],x['&'],x['MY'],x['FOR'],x['I'],x['NOT'],x['IS'],x['ARE']\n",
    "del x['WITH'],x['ALL'],x['ON'],x['-'],x['YOU'],x['BY'],x['IT'],x['NO'],x['OR'],x['OWN'],x['THAT'],x['AT'],x['BE'],x['|'],x['WILL'],\n",
    "del x['BUT'],x['AN'],x['ABOUT'],x['AS'],x['FROM'],x['WHO'],x['ME'],x['WE'],x['HAVE'],x['OUR'],x['AM'],x['LIKE'],x['JUST']\n",
    "del x['THIS'],x['THEY'],x['IF'],x['HAS'],x['&AMP'],x['HAS'],x['CAN'],x['NOW'],x['SO'],x['ONLY'],x['WAS'],x['WHAT'],x['THEIR'],x['YOUR'],x['WOULD']\n",
    "del x['DO'],x['&AMP;'],x['ONE'],x['WANT'],x['BEEN'],x['THEM'],x['MORE'],x['TODAY'],x['GET'],x['WHEN'],x['COMMENT'],x['HER'],x['SHE'],x['FURTHER']\n",
    "del x['HE'],x['HIS'],x['OUT'],x['HOW'],x['BECAUSE'],x['HIM'],x['WHY'],x['THINK'],x[\"IT'S\"],x['TAKE'],x['OVER'],x[''],x[''],\n",
    "del x['END'], x['ALSO'],x['SINCE'],x['END'],x['THAT'],x['UP'],x['IT’S'],x['SEE'],x['KNOW'],x['SHOULD'],x['HAD'],x['SAYS'],x['SAID'],x['DID'],x['—'],x['EVERY']\n",
    "del x['YOU'],x['J'],x['WERE'],x['THERE'],x['“YOU'],x['THOSE'],x['OFTEN'],x['RIGHT']\n",
    "\n",
    "\n",
    "\n",
    "#SPECIAL DELETE \n",
    "del x['IMMIGRATION']\n",
    "\n",
    "large_top_tweets = OrderedDict(x.most_common(50))\n",
    "top_tweets = OrderedDict(x.most_common(20))\n",
    "print(top_tweets)\n",
    "\n",
    "\n"
   ]
  },
  {
   "cell_type": "code",
   "execution_count": 10,
   "metadata": {},
   "outputs": [
    {
     "data": {
      "image/png": "[encoded data removed]",
      "text/plain": [
       "<Figure size 1440x720 with 1 Axes>"
      ]
     },
     "metadata": {
      "needs_background": "light"
     },
     "output_type": "display_data"
    }
   ],
   "source": [
    "import os\n",
    "import matplotlib.pyplot as plt\n",
    "\n",
    "E = top_tweets\n",
    "one = (0.1, 0.1, 0.1, 0.1)\n",
    "two = (0.1, 0.1, 0.1, 0.1)\n",
    "three = (0.1, 0.1, 0.1, 0.1)\n",
    "four= (0.1, 0.1, 0.1, 0.1)\n",
    "five= (0.1, 0.1, 0.1, 0.1)\n",
    "six= (0.1, 0.1, 0.1, 0.1)\n",
    "seven= (0.1, 0.1, 0.1, 0.1)\n",
    "eight= (0.1, 0.1, 0.1, 0.1)\n",
    "nine= (0.1, 0.1, 0.1, 0.1)\n",
    "ten= (0.1, 0.1, 0.1, 0.1)\n",
    "eleven= (0.1, 0.1, 0.1, 0.1)\n",
    "twelve= (0.1, 0.1, 0.1, 0.1)\n",
    "thirteen= (0.1, 0.1, 0.1, 0.1)\n",
    "fourteen= (0.1, 0.1, 0.1, 0.1)\n",
    "fithteen= (0.1, 0.1, 0.1, 0.1)\n",
    "sixteen= (0.1, 0.1, 0.1, 0.1)\n",
    "seventeen= (0.1, 0.1, 0.1, 0.1)\n",
    "eighteen= (0.1, 0.1, 0.1, 0.1)\n",
    "nineteen= (0.1, 0.1, 0.1, 0.1)\n",
    "twenty= (0.1, 0.1, 0.1, 0.1)\n",
    "\n",
    "\n",
    "\n",
    "color_last = [one, two,three,four,five,six,seven,eight,nine,ten,eleven,twelve,thirteen,fourteen,fithteen,sixteen,seventeen,eighteen,nineteen,twenty]\n",
    "color = (0.1, 0.1, 0.1, 0.1)\n",
    "plt.bar(range(len(E)), list(E.values()), align='center', color=color_last,  edgecolor='blue')\n",
    "\n",
    "plt.xticks(range(len(E)), list(E.keys()), rotation='vertical', fontsize=20)\n",
    "plt.title(\"Most Frequently Tweeted Words\", fontsize=30)\n",
    "plt.ylabel('Number of Occurrences (thousands)', fontsize=20 )\n",
    "plt.xlabel('Tweeted term by Frequency', horizontalalignment='left', position=(0,25),fontsize=18)\n",
    "plt.rcParams[\"figure.figsize\"] = (20,10)\n",
    "\n",
    "exists = os.path.isfile('TWEETS.png')\n",
    "if exists:\n",
    "    os.remove(\"TWEETS.png\")\n",
    "\n",
    "    \n",
    "plt.savefig(\"TWEETS\", bbox_inches=\"tight\")\n",
    "plt.show()\n"
   ]
  },
  {
   "cell_type": "markdown",
   "metadata": {},
   "source": [
    "# TWEET COMPARISON"
   ]
  },
  {
   "cell_type": "code",
   "execution_count": 11,
   "metadata": {},
   "outputs": [
    {
     "data": {
      "image/png": "[encoded data removed]",
      "text/plain": [
       "<Figure size 1440x720 with 1 Axes>"
      ]
     },
     "metadata": {
      "needs_background": "light"
     },
     "output_type": "display_data"
    }
   ],
   "source": [
    "import matplotlib.pyplot as plt\n",
    "B = {str(WORDONE):int(WORDONE_COUNT), \n",
    "     str(WORDTWO):int(WORDTWO_COUNT),\n",
    "    str(WORDTHREE):int(WORDTHREE_COUNT),\n",
    "    str(WORDFOUR):int(WORDFOUR_COUNT),\n",
    "    str(WORDFIVE):int(WORDFIVE_COUNT)}\n",
    "\n",
    "\n",
    "\n",
    "plt.bar(range(len(B)), list(B.values()), align='center', alpha=0.5, color=('#ff8c66'),  edgecolor='blue')\n",
    "\n",
    "plt.xticks(range(len(B)), list(B.keys()), rotation='horizontal', fontsize=20)\n",
    "plt.title(\"Tweet Popular Tweet Word Comparison\", fontsize=30)\n",
    "plt.ylabel('Number of Occurrences (thousands)', fontsize=18)\n",
    "#plt.xlabel('These are the words in which Tweeters describe themselves', horizontalalignment='left', position=(0,25), fontsize=18)\n",
    "plt.rcParams[\"figure.figsize\"] = (20,10)\n",
    "#plt.savefig(\"BESPOKE\", bbox_inches=\"tight\")\n",
    "\n",
    "\n",
    "exists = os.path.isfile('comparetweets.png')\n",
    "if exists:\n",
    "    os.remove(\"comparetweets.png\")\n",
    "\n",
    "    \n",
    "plt.savefig(\"comparetweets\")\n",
    "plt.show()"
   ]
  },
  {
   "cell_type": "markdown",
   "metadata": {},
   "source": [
    "## USER DESCRIPTION NUMERICAL ANALYSIS\n",
    "\n",
    "Change the below values to see how they rank in tweet frequency **YOU DON'T NEED TO WORRY ABOUT CASE SENSITIVITY IN WORDING**, that is covered in the code."
   ]
  },
  {
   "cell_type": "code",
   "execution_count": 12,
   "metadata": {},
   "outputs": [
    {
     "name": "stdout",
     "output_type": "stream",
     "text": [
      "Total count of words - DEMOCRAT :2\n",
      "Total count of words - CONSERVATIVE :13\n",
      "Total count of words - REPUBLICAN :2\n",
      "Total count of words - MEXICAN :0\n",
      "Total count of words - AMERICAN :6\n",
      "Total count of words - LIBERAL :6\n",
      "Total count of words - TERM :1\n",
      "Total count of words - TERM :1\n",
      "Total count of words - TERM :1\n",
      "Total count of words - TERM :1\n",
      "Total Number of Records: 217\n",
      "\n",
      "OrderedDict([('LOVE', 11), ('CONSERVATIVE', 10), ('MAGA', 10), ('TRUMP', 10), ('GOD', 7), ('👍👍', 7), ('RETIRED', 6), ('US', 6), ('COUNTRY', 6), ('WORLD', 6), ('DE', 6), ('WRITER', 5), ('BORDER', 5), ('2A', 5), ('AMERICAN', 5), ('LES', 5), ('PRESIDENT', 5), ('LIFE', 5), ('LOVER', 5), ('AMERICA', 5)])\n"
     ]
    }
   ],
   "source": [
    "# UPDATE WITH WORDS YOU WANT TO INTERROGATE\n",
    "\n",
    "WORDONE='democrat'\n",
    "WORDTWO='conservative'\n",
    "WORDTHREE='republican'\n",
    "WORDFOUR = 'mexican'\n",
    "WORDFIVE = 'American'\n",
    "WORDSIX = 'liberal'\n",
    "WORDSEVEN = 'TERM'\n",
    "WORDEIGHT = 'TERM'\n",
    "WORDNINE = 'TERM'\n",
    "WORDTEN = 'TERM'\n",
    "\n",
    "\n",
    "\n",
    "\n",
    "WORDONE= WORDONE.upper()\n",
    "WORDTWO= WORDTWO.upper()\n",
    "WORDTHREE=WORDTHREE.upper()\n",
    "WORDFOUR = WORDFOUR.upper()\n",
    "WORDFIVE = WORDFIVE.upper()\n",
    "WORDSIX = WORDSIX.upper()\n",
    "WORDSEVEN = WORDSEVEN.upper()\n",
    "WORDEIGHT = WORDEIGHT.upper()\n",
    "WORDNINE = WORDNINE.upper()\n",
    "WORDTEN = WORDTEN.upper()\n",
    "\n",
    "\n",
    "\n",
    "\n",
    "\n",
    "\n",
    "WORDONE_COUNT = 0\n",
    "WORDTWO_COUNT = 0 \n",
    "WORDTHREE_COUNT = 0 \n",
    "WORDFOUR_COUNT = 0\n",
    "WORDFIVE_COUNT = 0\n",
    "WORDSIX_COUNT = 0\n",
    "WORDSEVEN_COUNT= 0\n",
    "WORDEIGHT_COUNT= 0\n",
    "WORDNINE_COUNT = 0\n",
    "WORDTEN_COUNT = 0\n",
    "\n",
    "\n",
    "linecount = 0\n",
    "APPENDED_DESCRIPTION = \"\"\n",
    "\n",
    "\n",
    "\n",
    "for x in range(0, len(status_array)):\n",
    "    linecount = linecount + 1\n",
    "    description = str(status_array[x]['user']['description']).upper()\n",
    "    APPENDED_DESCRIPTION = APPENDED_DESCRIPTION + str(description)\n",
    "    \n",
    "    \n",
    "    if str(description).count(str(WORDONE)) >= 1:\n",
    "        WORDONE_COUNT = WORDONE_COUNT + 1\n",
    "    if str(description).count(str(WORDTWO)) >= 1:\n",
    "        WORDTWO_COUNT = WORDTWO_COUNT + 1\n",
    "    if str(description).count(str(WORDTHREE)) >= 1:\n",
    "        WORDTHREE_COUNT = WORDTHREE_COUNT + 1\n",
    "    if str(description).count(str(WORDFOUR)) >= 1:\n",
    "        WORDFOUR_COUNT = WORDFOUR_COUNT + 1\n",
    "    if str(description).count(str(WORDFIVE)) >= 1:\n",
    "        WORDFIVE_COUNT = WORDFIVE_COUNT + 1\n",
    "    if str(description).count(str(WORDSIX)) >= 1:\n",
    "        WORDSIX_COUNT = WORDSIX_COUNT + 1\n",
    "    if str(description).count(str(WORDSEVEN)) >= 1:\n",
    "        WORDSEVEN_COUNT = WORDSEVEN_COUNT + 1\n",
    "    if str(description).count(str(WORDEIGHT)) >= 1:\n",
    "        WORDEIGHT_COUNT = WORDEIGHT_COUNT + 1\n",
    "    if str(description).count(str(WORDNINE)) >= 1:\n",
    "        WORDNINE_COUNT = WORDNINE_COUNT + 1\n",
    "    if str(description).count(str(WORDTEN)) >= 1:\n",
    "        WORDTEN_COUNT = WORDTEN_COUNT + 1\n",
    "\n",
    "      \n",
    "      \n",
    "        \n",
    "print('Total count of words - ' + str(WORDONE) + ' :' + str(WORDONE_COUNT))\n",
    "print('Total count of words - ' + str(WORDTWO) + ' :' + str(WORDTWO_COUNT))\n",
    "print('Total count of words - ' + str(WORDTHREE) + ' :' + str(WORDTHREE_COUNT))\n",
    "print('Total count of words - ' + str(WORDFOUR) + ' :' + str(WORDFOUR_COUNT))\n",
    "print('Total count of words - ' + str(WORDFIVE) + ' :' + str(WORDFIVE_COUNT))\n",
    "print('Total count of words - ' + str(WORDSIX) + ' :' + str(WORDSIX_COUNT))\n",
    "print('Total count of words - ' + str(WORDSEVEN) + ' :' + str(WORDSEVEN_COUNT))\n",
    "print('Total count of words - ' + str(WORDEIGHT) + ' :' + str(WORDEIGHT_COUNT))\n",
    "print('Total count of words - ' + str(WORDNINE) + ' :' + str(WORDNINE_COUNT))\n",
    "print('Total count of words - ' + str(WORDTEN) + ' :' + str(WORDTEN_COUNT))\n",
    "print('Total Number of Records: ' + str(linecount)) \n",
    "\n",
    "\n",
    "APPENDED_DESCRIPTION = APPENDED_DESCRIPTION.replace('#', '')\n",
    "APPENDED_DESCRIPTION = APPENDED_DESCRIPTION.replace('.', '')\n",
    "APPENDED_DESCRIPTION = APPENDED_DESCRIPTION.replace(',', '')\n",
    "APPENDED_DESCRIPTION = APPENDED_DESCRIPTION.replace(',', '')\n",
    "\n",
    "\n",
    "\n",
    "\n",
    "from collections import Counter, OrderedDict\n",
    "DISC = APPENDED_DESCRIPTION.split()\n",
    "x = Counter(DISC)\n",
    "del x['⠀'],x['AND'],x['THE'],x['OF'],x['TO'],x['A'],x['IN'],x['&'],x['MY'],x['FOR'],x['I'],x['NOT'],x['IS'],x['ARE']\n",
    "del x['WITH'],x['ALL'],x['ON'],x['-'],x['YOU'],x['BY'],x['IT'],x['NO'],x['OR'],x['OWN'],x['THAT'],x['AT'],x['BE'],x['|'],x['WILL'],\n",
    "del x['BUT'],x['AN'],x['ABOUT'],x['AS'],x['FROM'],x['WHO'],x['ME'],x['WE'],x['HAVE'],x['OUR'],x['AM'],x['LIKE'],x['JUST']\n",
    "del x['THIS'],x['THEY'],x['IF'],x['HAS'],x['&AMP'],x['HAS'],x['CAN'],x['NOW'],x['SO'],x['ONLY'],x['WAS'],x['WHAT'],x['THEIR'],x['YOUR'],x['WOULD']\n",
    "del x['DO'],x['&AMP;'],x['ONE'],x['WANT'],x['BEEN'],x['THEM'],x['MORE'],x['/'],x['•'],x[\"I'M\"],x[''],x['']\n",
    "\n",
    "large_bio_desc = OrderedDict(x.most_common(50))\n",
    "top_bio_desc = OrderedDict(x.most_common(20))\n",
    "print('')\n",
    "print(top_bio_desc)\n"
   ]
  },
  {
   "cell_type": "markdown",
   "metadata": {},
   "source": [
    "## BIO TERM COMPARISON"
   ]
  },
  {
   "cell_type": "code",
   "execution_count": 13,
   "metadata": {
    "scrolled": false
   },
   "outputs": [
    {
     "data": {
      "image/png": "[encoded data removed]",
      "text/plain": [
       "<Figure size 1440x720 with 1 Axes>"
      ]
     },
     "metadata": {
      "needs_background": "light"
     },
     "output_type": "display_data"
    }
   ],
   "source": [
    "import matplotlib.pyplot as plt\n",
    "B = {str(WORDONE):int(WORDONE_COUNT), \n",
    "     str(WORDTWO):int(WORDTWO_COUNT),\n",
    "    str(WORDTHREE):int(WORDTHREE_COUNT),\n",
    "    str(WORDFOUR):int(WORDFOUR_COUNT),\n",
    "    str(WORDFIVE):int(WORDFIVE_COUNT)}\n",
    "\n",
    "\n",
    "\n",
    "plt.bar(range(len(B)), list(B.values()), align='center', alpha=0.5, color=('#ff8c66'),  edgecolor='blue')\n",
    "\n",
    "plt.xticks(range(len(B)), list(B.keys()), rotation='horizontal')\n",
    "plt.title(\"Tweeters Bio - Most popular Self Description\", fontsize=30)\n",
    "plt.ylabel('Number of Occurrences (thousands)', fontsize=18)\n",
    "#plt.xlabel('These are the words in which Tweeters describe themselves', horizontalalignment='left', position=(0,25), fontsize=18)\n",
    "plt.rcParams[\"figure.figsize\"] = (20,10)\n",
    "#plt.savefig(\"BESPOKE\", bbox_inches=\"tight\")\n",
    "\n",
    "exists = os.path.isfile('COMPARE.png')\n",
    "if exists:\n",
    "    os.remove(\"COMPARE.png\")\n",
    "\n",
    "\n",
    "\n",
    "plt.savefig(\"COMPARE\")\n",
    "plt.show()"
   ]
  },
  {
   "cell_type": "code",
   "execution_count": 14,
   "metadata": {},
   "outputs": [
    {
     "data": {
      "image/png": "[encoded data removed]",
      "text/plain": [
       "<Figure size 1440x720 with 1 Axes>"
      ]
     },
     "metadata": {
      "needs_background": "light"
     },
     "output_type": "display_data"
    }
   ],
   "source": [
    "import matplotlib.pyplot as plt\n",
    "\n",
    "D = top_bio_desc\n",
    "\n",
    "plt.bar(range(len(D)), list(D.values()), align='center', color=(0.1, 0.5, 1, 0.1),  edgecolor='blue')\n",
    "\n",
    "plt.xticks(range(len(D)), list(D.keys()), rotation='vertical', fontsize=20)\n",
    "plt.title(\"Tweeters Bio - Most popular Self Description\", fontsize=30)\n",
    "plt.ylabel('Number of Occurrences (thousands)', fontsize=18)\n",
    "plt.xlabel('These are the words in which Tweeters describe themselves', horizontalalignment='left', position=(0,25), fontsize=18)\n",
    "plt.rcParams[\"figure.figsize\"] = (20,10)\n",
    "\n",
    "\n",
    "exists = os.path.isfile('BIO.png')\n",
    "if exists:\n",
    "    os.remove(\"BIO.png\")\n",
    "\n",
    "\n",
    "plt.savefig(\"BIO\", bbox_inches=\"tight\")\n",
    "plt.show()"
   ]
  },
  {
   "cell_type": "markdown",
   "metadata": {
    "collapsed": true
   },
   "source": [
    "# SENTIMENT ANALYSIS \n",
    "\n",
    "The sentiment property returns a named tuple of the form Sentiment (polarity, subjectivity). The polarity score is a float within the range [-1.0, 1.0]. The subjectivity is a float within the range [0.0, 1.0] where 0.0 is very objective and 1.0 is very subjective.\n",
    "\n",
    "# Now the Theory\n",
    "Thanks to Siraj Raval and freecode camp for the sample here\n",
    "\n",
    "TextBlob\n",
    "TextBlob is a Python (2 and 3) library for processing textual data. It provides a simple API for diving into common natural language processing (NLP) tasks such as part-of-speech tagging, noun phrase extraction, sentiment analysis, classification, translation, and more.\n",
    "\n",
    "A textblob can be created in the following way (example, and not part of the original code):\n",
    "\n",
    "example = TextBlob(\"Python is a high-level, general-purpose programming language.\")\n",
    "And tokenization can be performed by the following methods:\n",
    "words: returns the words of text\n",
    "\n",
    "usage:\n",
    "\n",
    "example.words\n",
    "sentences: returns the sentences of text\n",
    "\n",
    "usage:\n",
    "\n",
    "example.sentences\n"
   ]
  },
  {
   "cell_type": "code",
   "execution_count": 24,
   "metadata": {},
   "outputs": [],
   "source": [
    "from textblob import TextBlob\n",
    "import tweepy\n",
    "\n",
    "VALUE = 'immigration'\n",
    "\n",
    "auth = tweepy.OAuthHandler(CONSUMER_KEY, CONSUMER_SECRET)\n",
    "auth.set_access_token(ACCESS_TOKEN, ACCESS_SECRET)\n",
    "api = tweepy.API(auth)"
   ]
  },
  {
   "cell_type": "code",
   "execution_count": 25,
   "metadata": {},
   "outputs": [],
   "source": [
    "public_tweets = api.search(VALUE)"
   ]
  },
  {
   "cell_type": "code",
   "execution_count": 26,
   "metadata": {},
   "outputs": [
    {
     "name": "stdout",
     "output_type": "stream",
     "text": [
      "RT @popsnstuff: @MarshaPatriot @MAGA2ARIGHTS @POTUS @senatemajldr @GOPSenate @GOPHouse This is whats wrong with are immigration its all abo…\n",
      "Sentiment(polarity=-0.5, subjectivity=0.9)\n",
      "Negatively subjective\n",
      "\n",
      "\n",
      "#MAGA #WWG1WGA #AmericaFirst #darktolight #Trump2020 \n",
      "Congressman Doug Collins: Jerry Nadler Needs To Get Off His I… https://t.co/GTL9XkoUJk\n",
      "Sentiment(polarity=0.0, subjectivity=0.0)\n",
      "objective\n",
      "\n",
      "\n",
      "RT @andylassner: Headline of the day  https://t.co/z4gJO2XjD6\n",
      "Sentiment(polarity=0.0, subjectivity=0.0)\n",
      "objective\n",
      "\n",
      "\n",
      "RT @mitchellvii: TRUMP: \"Let's build a wall.\"\n",
      "CONGRESS: \"Oh we can't do that!\"\n",
      "\n",
      "TRUMP: \"Let's close the border.\"\n",
      "CONGRESS: \"Oh we can't do…\n",
      "Sentiment(polarity=0.0, subjectivity=0.0)\n",
      "objective\n",
      "\n",
      "\n",
      "The opening reception for the CBA National Immigration Law Conference was held at the Assiniboine Park Zoo. They ha… https://t.co/jjX6SdbRQG\n",
      "Sentiment(polarity=0.0, subjectivity=0.0)\n",
      "objective\n",
      "\n",
      "\n",
      "The T. A. Jackson plan for immigration AND emigration: no one crosses the border and lives until the restoration. https://t.co/Jpe8ncrjYQ\n",
      "Sentiment(polarity=0.0, subjectivity=0.0)\n",
      "objective\n",
      "\n",
      "\n",
      "@natural20 @Care2much18 as for the social good aspect - they tell me that in Germany, where I've been working as an… https://t.co/o2oEtwVIpU\n",
      "Sentiment(polarity=0.36666666666666664, subjectivity=0.33333333333333337)\n",
      "Subjective\n",
      "\n",
      "\n",
      "RT @andylassner: Headline of the day  https://t.co/z4gJO2XjD6\n",
      "Sentiment(polarity=0.0, subjectivity=0.0)\n",
      "objective\n",
      "\n",
      "\n",
      "@dmahoney @NateSilver538 If your argument is that he was a political outsider, I guess that's fair. But it feels ma… https://t.co/v1KprCUVbo\n",
      "Sentiment(polarity=0.35, subjectivity=0.5)\n",
      "Subjective\n",
      "\n",
      "\n",
      "@CaitlinPacific Vaccination is about immigration? Fine, but what is your preferred solution for the asylum loophole… https://t.co/dz2AlC2dX3\n",
      "Sentiment(polarity=0.4166666666666667, subjectivity=0.5)\n",
      "Subjective\n",
      "\n",
      "\n",
      "\"Jackson, how can you have a zero-immigration policy if you reject nationalism and still call yourself a Christian?… https://t.co/wq4Z7gdo4D\n",
      "Sentiment(polarity=0.0, subjectivity=0.0)\n",
      "objective\n",
      "\n",
      "\n",
      "RT @matt_cam: This tiny tweak to immigration law was a direct affront to state lawmakers &amp; judges who intended mercy for first-time and/or…\n",
      "Sentiment(polarity=0.05, subjectivity=0.45)\n",
      "Subjective\n",
      "\n",
      "\n",
      "objective_tweets : 7\n",
      "subjective_tweets : 4\n",
      "negitively_subjective tweets: 1\n"
     ]
    }
   ],
   "source": [
    "objective_tweet=0\n",
    "subjective_tweet=0\n",
    "negitively_subjective=0\n",
    "for tweet in public_tweets:\n",
    "    print(tweet.text)\n",
    "    analysis = TextBlob(tweet.text)\n",
    "    print(analysis.sentiment)\n",
    "    if analysis.sentiment[0]>0:\n",
    "       subjective_tweet = subjective_tweet + 1\n",
    "       print('Subjective')\n",
    "    elif analysis.sentiment[0]<0:\n",
    "       negitively_subjective = negitively_subjective  + 1\n",
    "       print('Negatively subjective')\n",
    "    else:\n",
    "       objective_tweet = objective_tweet + 1\n",
    "       print('objective')\n",
    "    print('\\n')\n",
    "    \n",
    "print('objective_tweets : '+str(objective_tweet))\n",
    "print('subjective_tweets : '+str(subjective_tweet))\n",
    "print('negitively_subjective tweets: '+str(negitively_subjective))"
   ]
  },
  {
   "cell_type": "markdown",
   "metadata": {
    "collapsed": true
   },
   "source": [
    "# SAMPLE"
   ]
  },
  {
   "cell_type": "code",
   "execution_count": 27,
   "metadata": {},
   "outputs": [
    {
     "data": {
      "text/plain": [
       "'@RashidaTlaib If the rooms are full why overfill them. We should stop admitting when there isn’t space so that peop… https://t.co/h5hyS8pit3'"
      ]
     },
     "execution_count": 27,
     "metadata": {},
     "output_type": "execute_result"
    }
   ],
   "source": [
    "status_array[2000]['text']"
   ]
  },
  {
   "cell_type": "markdown",
   "metadata": {},
   "source": [
    "# MOST REFERENCED PEOPLE"
   ]
  },
  {
   "cell_type": "code",
   "execution_count": 28,
   "metadata": {},
   "outputs": [
    {
     "name": "stdout",
     "output_type": "stream",
     "text": [
      "Number of times users were quoted :12947\n",
      "Most quoted users are : OrderedDict([('realDonaldTrump', 721), ('mitchellvii', 507), ('RVAwonk', 437), ('EricTrump', 409), ('BernieSanders', 374)])\n",
      "\n"
     ]
    }
   ],
   "source": [
    "quote_count = 0\n",
    "quoted_users = []\n",
    "\n",
    "# USING FOLLOWING REDUCES TO ONLY IF QUOTED if status_array[current]['is_quote_status'] == True: \n",
    "\n",
    "for current in range(0, len(status_array)):\n",
    "    \"\"\"If quoted, then check mentions and append mention screen names to array\"\"\"\n",
    "    \n",
    "    if status_array[current]['entities']['user_mentions'] is not None:\n",
    "        for y in range(0, len(status_array[current]['entities']['user_mentions'])):\n",
    "            quoted_users.append(status_array[current]['entities']['user_mentions'][y]['screen_name'])\n",
    "\n",
    "                \n",
    "print(\"Number of times users were quoted :\" + str(len(quoted_users)))\n",
    "       \n",
    "quoteCounter = Counter(quoted_users)\n",
    "quoteCounted = OrderedDict(quoteCounter.most_common(5))\n",
    "\n",
    "\n",
    "print(\"Most quoted users are : \" + str(quoteCounted) + \"\\n\")   \n",
    "    \n",
    "reference_items = list(quoteCounted.items())\n",
    "\n"
   ]
  },
  {
   "cell_type": "markdown",
   "metadata": {
    "collapsed": true
   },
   "source": [
    "# GOOGLE TRENDS "
   ]
  },
  {
   "cell_type": "code",
   "execution_count": 29,
   "metadata": {},
   "outputs": [
    {
     "data": {
      "text/plain": [
       "\"\\nimport csv\\nimport matplotlib.pyplot as plt; plt.rcdefaults()\\nimport numpy as np\\nimport matplotlib.pyplot as plt\\n\\nwith open('multiTimeline.csv', newline='') as csvfile:\\n    data = list(csv.reader(csvfile))\\ngoogle =data[3:]\\n\\ndates = []\\nvalues = []\\nfor x in range(0, len(google)):\\n    dates.append(str(google[x][0]))\\n    values.append(google[x][1])\\n    \\n\\n\\n\\ny_pos = np.arange(len(dates))\\n\\n\\nplt.scatter(dates, values)\\n\\nplt.title('Google Trend Over time')\\nplt.ylabel('Popularity as % of Max')\\nplt.xticks(y_pos, dates, fontsize=10, rotation=30)\\nplt.locator_params(axis='x', nbins=6)\\nplt.locator_params(axis='Y', nbins=6)\\n\\nplt.show()\\n\""
      ]
     },
     "execution_count": 29,
     "metadata": {},
     "output_type": "execute_result"
    }
   ],
   "source": [
    "\"\"\"\n",
    "import csv\n",
    "import matplotlib.pyplot as plt; plt.rcdefaults()\n",
    "import numpy as np\n",
    "import matplotlib.pyplot as plt\n",
    "\n",
    "with open('multiTimeline.csv', newline='') as csvfile:\n",
    "    data = list(csv.reader(csvfile))\n",
    "google =data[3:]\n",
    "\n",
    "dates = []\n",
    "values = []\n",
    "for x in range(0, len(google)):\n",
    "    dates.append(str(google[x][0]))\n",
    "    values.append(google[x][1])\n",
    "    \n",
    "\n",
    "\n",
    "\n",
    "y_pos = np.arange(len(dates))\n",
    "\n",
    "\n",
    "plt.scatter(dates, values)\n",
    "\n",
    "plt.title('Google Trend Over time')\n",
    "plt.ylabel('Popularity as % of Max')\n",
    "plt.xticks(y_pos, dates, fontsize=10, rotation=30)\n",
    "plt.locator_params(axis='x', nbins=6)\n",
    "plt.locator_params(axis='Y', nbins=6)\n",
    "\n",
    "plt.show()\n",
    "\"\"\""
   ]
  },
  {
   "cell_type": "code",
   "execution_count": 30,
   "metadata": {},
   "outputs": [
    {
     "data": {
      "text/plain": [
       "'\\nimport csv\\nimport matplotlib.pyplot as plt; plt.rcdefaults()\\nimport numpy as np\\nimport matplotlib.pyplot as plt\\n\\nwith open(\\'geoMap.csv\\', newline=\\'\\') as csvfile:\\n    data = list(csv.reader(csvfile))\\ngoogle =data[3:]\\n\\nplaces = []\\nvalues = []\\nfor x in range(0, len(google)):\\n    places.append(str(google[x][0]))\\n    values.append(google[x][1])\\n    \\nplaces = places[0:5]\\nvalues = values[0:5]\\n\\n# this is for plotting purpose\\nindex = np.arange(len(places))\\nplt.barh(index, values)\\nplt.ylabel(\\'District\\', fontsize=10)\\nplt.xlabel(\\'Proportion Index\\', fontsize=10)\\nplt.yticks(index, places, fontsize=10, rotation=0)\\nplt.title(\\'Interest by subregion\\')\\nplt.savefig(\"gcompare\")\\nplt.show()\\n\\n'"
      ]
     },
     "execution_count": 30,
     "metadata": {},
     "output_type": "execute_result"
    }
   ],
   "source": [
    "\"\"\"\n",
    "import csv\n",
    "import matplotlib.pyplot as plt; plt.rcdefaults()\n",
    "import numpy as np\n",
    "import matplotlib.pyplot as plt\n",
    "\n",
    "with open('geoMap.csv', newline='') as csvfile:\n",
    "    data = list(csv.reader(csvfile))\n",
    "google =data[3:]\n",
    "\n",
    "places = []\n",
    "values = []\n",
    "for x in range(0, len(google)):\n",
    "    places.append(str(google[x][0]))\n",
    "    values.append(google[x][1])\n",
    "    \n",
    "places = places[0:5]\n",
    "values = values[0:5]\n",
    "\n",
    "# this is for plotting purpose\n",
    "index = np.arange(len(places))\n",
    "plt.barh(index, values)\n",
    "plt.ylabel('District', fontsize=10)\n",
    "plt.xlabel('Proportion Index', fontsize=10)\n",
    "plt.yticks(index, places, fontsize=10, rotation=0)\n",
    "plt.title('Interest by subregion')\n",
    "plt.savefig(\"gcompare\")\n",
    "plt.show()\n",
    "\n",
    "\"\"\""
   ]
  },
  {
   "cell_type": "markdown",
   "metadata": {},
   "source": [
    "# SCAN A TWEET FOR A GIVEN BIO "
   ]
  },
  {
   "cell_type": "code",
   "execution_count": 39,
   "metadata": {},
   "outputs": [
    {
     "name": "stdout",
     "output_type": "stream",
     "text": [
      "Number of matching tweets: 29\n",
      "Top 50 terms in their tweets: OrderedDict([('IMMIGRATION', 13), ('MEXICO', 10), ('TARIFFS', 7), ('NO,', 5), ('RIGHT', 5), ('LEFT', 5), (\"TRUMP'S\", 5), ('AGAINST', 5), ('@MITCHELLVII:', 4), ('LAUGH', 4), ('THOSE', 4), ('SAYING', 4), ('\"BAD', 4), ('IDEA?\"', 4), ('OH', 4), ('DEMS', 4), ('PEOPLE', 4), ('TRUMP', 3), ('—', 3), ('MEXICO…RT', 3), ('HELP', 3), ('LAWS', 2), ('TAX', 2), ('ILLEGAL', 2), ('LAW', 2), ('@JOYCEWHITEVANCE:', 2), ('HUGE.', 2), ('REPUBLICANS,', 2), ('OFTEN', 2), ('ALLEGE', 2), ('VOTER', 2), ('FRAUD', 2), ('DESPITE', 2), ('ABSENCE', 2), ('ANY', 2), ('EVIDENCE', 2), ('BEYOND', 2), ('RARE,', 2), ('ISOLATED', 2), ('TARIFF', 2), ('@NYTIMES:', 2), ('FACILITY', 2), ('EL', 2), ('PASO,', 2), ('INVESTIGATORS', 2), ('FOUND', 2), ('155', 2), ('CELL', 2), ('SUPPOSED', 2), ('HOLD', 2)])\n"
     ]
    }
   ],
   "source": [
    "from collections import Counter, OrderedDict\n",
    "#PICK ONE \n",
    "\n",
    "CHOSEN_BIO_WORD = 'guns'\n",
    "\n",
    "\n",
    "CHOSEN_BIO_WORD = CHOSEN_BIO_WORD.upper()\n",
    "\n",
    "\n",
    "TARGETARRAY = []\n",
    "TARGETTWEET = \"\"\n",
    "linecount = 0\n",
    "for x in range(0, len(status_array)):\n",
    "    text = str(status_array[x]['text']).upper()\n",
    "    description = str(status_array[x]['user']['description']).upper()\n",
    "   \n",
    "    if str(description).count(str(CHOSEN_BIO_WORD)) >= 1:\n",
    "        TARGETARRAY.append(status_array[x])\n",
    "        TARGETTWEET = TARGETTWEET +  str(status_array[x]['text']).upper()\n",
    "\n",
    "\n",
    "\n",
    "DISC = TARGETTWEET.split()\n",
    "x = Counter(DISC)\n",
    "del x['⠀'],x['AND'],x['THE'],x['OF'],x['TO'],x['A'],x['IN'],x['&'],x['MY'],x['FOR'],x['I'],x['NOT'],x['IS'],x['ARE']\n",
    "del x['WITH'],x['ALL'],x['ON'],x['-'],x['YOU'],x['BY'],x['IT'],x['NO'],x['OR'],x['OWN'],x['THAT'],x['AT'],x['BE'],x['|'],x['WILL'],\n",
    "del x['BUT'],x['AN'],x['ABOUT'],x['AS'],x['FROM'],x['WHO'],x['ME'],x['WE'],x['HAVE'],x['OUR'],x['AM'],x['LIKE'],x['JUST']\n",
    "del x['THIS'],x['THEY'],x['IF'],x['HAS'],x['&AMP'],x['HAS'],x['CAN'],x['NOW'],x['SO'],x['ONLY'],x['WAS'],x['WHAT'],x['THEIR'],x['YOUR'],x['WOULD']\n",
    "del x['DO'],x['&AMP;'],x['ONE'],x['WANT'],x['BEEN'],x['THEM'],x['MORE'],x['/'],x['•'],x[\"I'M\"],x[''],x['']\n",
    "\n",
    "refinedTWEETS = OrderedDict(x.most_common(50))\n",
    "print(\"Number of matching tweets: \" + str(len(TARGETARRAY)))\n",
    "print(\"Top 50 terms in their tweets: \" + str(refinedTWEETS))"
   ]
  },
  {
   "cell_type": "markdown",
   "metadata": {},
   "source": [
    "# SCAN BIO FOR GIVEN TWEET"
   ]
  },
  {
   "cell_type": "code",
   "execution_count": 40,
   "metadata": {},
   "outputs": [
    {
     "name": "stdout",
     "output_type": "stream",
     "text": [
      "Number of matching tweets: 27\n",
      "Top 50 terms in their bio: OrderedDict([('HUMAN', 3), ('RIGHTS', 2), ('PROJECT', 2), ('NEED', 2), ('CHINA.', 2), ('USA', 2), ('RETIRED', 2), ('FAN', 2), ('BEAUTIFUL', 2), ('END', 2), ('EQUALITY', 2), ('EL', 2), ('PAÍS', 2), ('QUE', 2), ('Y', 2), ('NEWS', 2), ('ARCHIVE', 1), ('VIOLATIONS,', 1), ('RACISM', 1), ('DISCRIMINATION.', 1), ('TÜRKÇE', 1), ('@UTANCGUNLUGU', 1), ('@BOSPHORUSGLOBALHTTPS://T.CO/VJSPWITVW4', 1), ('TECHNICAL', 1), ('LEAD.', 1), ('\"LIKE\"S', 1), ('LATER', 1), ('READING', 1), ('FOLLOW', 1), ('UP.', 1), (\"RETWEET'S\", 1), ('\"INTERESTING,\"', 1), ('ENDORSEMENTS.DUTERTE:', 1), ('“I', 1), ('THAN', 1), ('ANYBODY', 1), ('ELSE', 1), ('POINT,', 1), ('SIMPLY', 1), ('LOVE', 1), ('XI', 1), ('JINPING.\"I', 1), ('BROUGHT', 1), ('WHEN', 1), ('LITTLE.', 1), ('MIGHT', 1), ('RUSSIA,', 1), ('ENGLAND', 1), ('AUSTRALIA.', 1), ('HATE', 1)])\n"
     ]
    }
   ],
   "source": [
    "from collections import Counter, OrderedDict\n",
    "#PICK ONE \n",
    "\n",
    "CHOSEN_TWEET_WORD = 'deport'\n",
    "\n",
    "\n",
    "CHOSEN_TWEET_WORD = CHOSEN_TWEET_WORD.upper()\n",
    "\n",
    "\n",
    "TARGETARRAY = []\n",
    "TARGETBIO = \"\"\n",
    "linecount = 0\n",
    "for x in range(0, len(status_array)):\n",
    "    text = str(status_array[x]['text']).upper()\n",
    "    description = str(status_array[x]['user']['description']).upper()\n",
    "   \n",
    "    if str(text).count(str(CHOSEN_TWEET_WORD)) >= 1:\n",
    "        TARGETARRAY.append(status_array[x])\n",
    "        TARGETBIO = TARGETBIO + str(status_array[x]['user']['description']).upper()\n",
    "\n",
    "\n",
    "\n",
    "DISC = TARGETBIO.split()\n",
    "x = Counter(DISC)\n",
    "del x['⠀'],x['AND'],x['THE'],x['OF'],x['TO'],x['A'],x['IN'],x['&'],x['MY'],x['FOR'],x['I'],x['NOT'],x['IS'],x['ARE']\n",
    "del x['WITH'],x['ALL'],x['ON'],x['-'],x['YOU'],x['BY'],x['IT'],x['NO'],x['OR'],x['OWN'],x['THAT'],x['AT'],x['BE'],x['|'],x['WILL'],\n",
    "del x['BUT'],x['AN'],x['ABOUT'],x['AS'],x['FROM'],x['WHO'],x['ME'],x['WE'],x['HAVE'],x['OUR'],x['AM'],x['LIKE'],x['JUST']\n",
    "del x['THIS'],x['THEY'],x['IF'],x['HAS'],x['&AMP'],x['HAS'],x['CAN'],x['NOW'],x['SO'],x['ONLY'],x['WAS'],x['WHAT'],x['THEIR'],x['YOUR'],x['WOULD']\n",
    "del x['DO'],x['&AMP;'],x['ONE'],x['WANT'],x['BEEN'],x['THEM'],x['MORE'],x['/'],x['•'],x[\"I'M\"],x[''],x['']\n",
    "\n",
    "refinedBio = OrderedDict(x.most_common(50))\n",
    "print(\"Number of matching tweets: \" + str(len(TARGETARRAY)))\n",
    "print(\"Top 50 terms in their bio: \" + str(refinedBio))"
   ]
  },
  {
   "cell_type": "markdown",
   "metadata": {},
   "source": [
    "# LINK BIO AND TWEET"
   ]
  },
  {
   "cell_type": "code",
   "execution_count": 41,
   "metadata": {},
   "outputs": [
    {
     "name": "stdout",
     "output_type": "stream",
     "text": [
      "OrderedDict([('MEXICO', 1631), ('TRUMP', 1261), ('TARIFFS', 936), ('US', 829), ('PRESIDENT', 804), ('DEMS', 794), ('PEOPLE', 743), ('ASYLUM', 671), ('ILLEGAL', 657), ('BORDER', 635), ('AGAINST', 503), ('@MITCHELLVII:', 501), (\"TRUMP'S\", 496), ('MEXICO…RT', 491), ('LAW', 477), ('SEEKERS', 474), ('MEDIA', 456), ('SAYING', 452), ('DESPITE', 450), ('FEDERAL', 449), ('LEFT', 448), ('BLOCK', 447), ('OH', 442), ('CBP', 440), ('CHIEF', 440), ('OFFERED', 439), ('@RVAWONK:', 437), ('PREEMPTIVE', 437), ('PARDON', 437), ('VIOLATED', 437), ('ANY', 436), ('LAUGH', 426), ('\"BAD', 426), ('IDEA?\"', 426), ('UNITED', 411), ('INCREASING', 408), ('FEW', 408), ('MENTION', 408), ('TOTAL', 406), ('JOKE', 406), ('FAIL', 402), ('DISCUSS', 401), ('CENTS', 401), ('$200', 401), ('@ERICTRUMP:', 400), ('“AVOCADO’S”', 400), ('POTENTIALLY', 400), ('LAWS', 399), ('STATES', 379), ('REPUBLICANS', 354)])\n",
      "\n",
      "bio\n",
      "OrderedDict([('LOVE', 443), ('MAGA', 442), ('TRUMP', 412), ('CONSERVATIVE', 275), ('LIFE', 235), ('PROUD', 223), ('POLITICS', 223), ('GOD', 221), ('LOVER', 199), ('PRESIDENT', 197), ('AMERICAN', 185), ('NEWS', 180), ('DE', 180), ('FAN', 177), ('COUNTRY', 176), ('US', 176), ('AMERICA', 172), ('FAMILY', 169), ('WIFE', 161), ('PEOPLE', 159), ('PATRIOT', 156), ('MOM', 155), ('POLITICAL', 149), ('WORLD', 145), ('FATHER', 144), ('CHRISTIAN', 144), ('RETIRED', 141), ('SUPPORTER', 138), ('KAG', 137), ('SUPPORT', 136), ('HUSBAND', 134), ('RESIST', 132), ('MUSIC', 132), ('2A', 132), ('RIGHTS', 131), ('LA', 127), ('MARRIED', 126), ('MOTHER', 125), ('GOOD', 124), ('FOLLOW', 122), ('VETERAN', 119), ('SOCIAL', 119), ('GREAT', 118), (\"DON'T\", 117), ('🇺🇸', 116), ('MAKE', 114), ('LIBERAL', 112), ('NEW', 108), ('HUMAN', 107), ('JUSTICE', 106)])\n"
     ]
    }
   ],
   "source": [
    "print(large_top_tweets)\n",
    "print(\"\")\n",
    "print(\"bio\")\n",
    "print(large_bio_desc)"
   ]
  },
  {
   "cell_type": "code",
   "execution_count": 42,
   "metadata": {},
   "outputs": [
    {
     "name": "stdout",
     "output_type": "stream",
     "text": [
      "No of matches : 0.01%\n",
      "RT @BobMakenzie1: @themadsloth @AndrewScheer @CPC_HQ \n",
      "Time for new policy on illegal immigration &amp; human trafficking. \n",
      "Immediately deport i…\n",
      "\n",
      "Bio: \n",
      "Conservative views - happily Married 50+ years, Retired REALTOR. 2 x Cancer survivor, avid golfer and Alpine skier. I enjoy a good Scotch and I like beer 🍺.\n"
     ]
    }
   ],
   "source": [
    "#PICK TWO OR \n",
    "\n",
    "CHOSEN_WORD_ONE = 'deport'\n",
    "BIO_CHOSEN_WORD_ONE = 'conservative'\n",
    "\n",
    "\n",
    "\n",
    "CHOSEN_WORD_ONE = CHOSEN_WORD_ONE.upper()\n",
    "BIO_CHOSEN_WORD_ONE = BIO_CHOSEN_WORD_ONE.upper()\n",
    "\n",
    "\n",
    "\n",
    "\n",
    "TARGETARRAY = []\n",
    "linecount = 0\n",
    "for x in range(0, len(status_array)):\n",
    "    text = str(status_array[x]['text']).upper()\n",
    "    description = str(status_array[x]['user']['description']).upper()\n",
    "   \n",
    "    if str(text).count(str(CHOSEN_WORD_ONE)) >= 1 and str(description).count(str(BIO_CHOSEN_WORD_ONE)) >= 1:\n",
    "        TARGETARRAY.append(status_array[x])\n",
    "\n",
    "\n",
    "match_percentage =  (len(TARGETARRAY)/len(status_array)) * 100\n",
    "match_percentage = round(match_percentage,2)\n",
    "print(\"No of matches : \" + str(match_percentage) + \"%\" )    \n",
    "print(TARGETARRAY[0]['text'])\n",
    "print(\"\")\n",
    "print('Bio: ')\n",
    "print(TARGETARRAY[0]['user']['description'])"
   ]
  },
  {
   "cell_type": "code",
   "execution_count": 43,
   "metadata": {},
   "outputs": [
    {
     "data": {
      "text/plain": [
       "'Sat May 07 19:25:16 +0000 2016'"
      ]
     },
     "execution_count": 43,
     "metadata": {},
     "output_type": "execute_result"
    }
   ],
   "source": [
    "status_array[1]['user']['created_at']"
   ]
  },
  {
   "cell_type": "markdown",
   "metadata": {},
   "source": [
    "# COUNT NEW USERS    "
   ]
  },
  {
   "cell_type": "code",
   "execution_count": 44,
   "metadata": {
    "scrolled": true
   },
   "outputs": [
    {
     "name": "stdout",
     "output_type": "stream",
     "text": [
      "No of Profiles newer than 10 days are : 0.95%\n"
     ]
    }
   ],
   "source": [
    "import time\n",
    "from datetime import datetime, timedelta\n",
    "present = datetime.now()\n",
    "\n",
    "timerange = 10\n",
    "\n",
    "\n",
    "\n",
    "newcount = 0\n",
    "\n",
    "for x in range(0, len(status_array)):\n",
    "    created_at = time.strftime('%Y-%m-%d %H:%M:%S', time.strptime(status_array[x]['user']['created_at'],'%a %b %d %H:%M:%S +0000 %Y'))\n",
    "    then = datetime.strptime(created_at, \"%Y-%m-%d %H:%M:%S\")\n",
    "    delta = datetime.now() - then\n",
    "    if delta.days < timerange:\n",
    "        newcount = newcount + 1\n",
    "        #print(status_array[x]['user']['created_at'])\n",
    "        #print(created_at)\n",
    "        #print(delta)\n",
    "\n",
    "        \n",
    "percentnewcount = (newcount/len(status_array)) * 100\n",
    "percentnewcount = round(percentnewcount,2)\n",
    "\n",
    "\n",
    "\n",
    "print(\"No of Profiles newer than \" + str(timerange) + \" days are : \" + str(percentnewcount) + \"%\")\n"
   ]
  },
  {
   "cell_type": "markdown",
   "metadata": {},
   "source": [
    "# COUNT FOLLOWERS"
   ]
  },
  {
   "cell_type": "code",
   "execution_count": 45,
   "metadata": {},
   "outputs": [
    {
     "name": "stdout",
     "output_type": "stream",
     "text": [
      "No of people with less than 10 followers :3.81%\n",
      "No of people with more than 1000000 followers :0.09%\n"
     ]
    }
   ],
   "source": [
    "count = 0 \n",
    "maxcount = 0\n",
    "followercount = 10\n",
    "maxfollowercount = 1000000\n",
    "\n",
    "for x in range(0, len(status_array)):\n",
    "    if status_array[x]['user']['followers_count'] < followercount:\n",
    "        count = count + 1 \n",
    "        \n",
    "    if status_array[x]['user']['followers_count'] > maxfollowercount:\n",
    "        maxcount = maxcount + 1 \n",
    "    \n",
    "percentcount = (count / len(status_array)) * 100\n",
    "percentcount = round(percentcount,2)\n",
    "\n",
    "\n",
    "maxpercentcount = (maxcount / len(status_array)) * 100\n",
    "maxpercentcount = round(maxpercentcount,2)\n",
    "\n",
    "print(\"No of people with less than \" + str(followercount) + \" followers :\" + str(percentcount) + \"%\")\n",
    "print(\"No of people with more than \" + str(maxfollowercount) + \" followers :\" + str(maxpercentcount) + \"%\")"
   ]
  },
  {
   "cell_type": "markdown",
   "metadata": {},
   "source": [
    "# MOST RETWEETED"
   ]
  },
  {
   "cell_type": "code",
   "execution_count": 80,
   "metadata": {},
   "outputs": [
    {
     "name": "stdout",
     "output_type": "stream",
     "text": [
      "The most retweeted user is: JackDeskins\n",
      "Created on :Sat Jun 01 18:08:51 +0000 2019\n",
      "Their tweet was : RT @adamcbest: Conservatives on abortion: We want a ban!\n",
      "\n",
      "Conservatives on gay marriage: We want a ban!\n",
      "\n",
      "Conservatives on immigration: We w…\n",
      "No of retweets: 78191\n"
     ]
    }
   ],
   "source": [
    "import operator\n",
    "\n",
    "retweet_count = []\n",
    "\n",
    "for x in range(0, len(status_array)):\n",
    "    retweet_count.append(status_array[x]['retweet_count'])\n",
    "\n",
    "# Requires operator lib    \n",
    "index, value = max(enumerate(retweet_count), key=operator.itemgetter(1))\n",
    "\n",
    "if status_array[index]['retweet_count'] != value:\n",
    "    print('something went wrong')\n",
    "    \n",
    "print(\"The most retweeted user is: \" + str(status_array[index]['user']['screen_name'])) \n",
    "print('Created on :' + str(status_array[index]['created_at']))\n",
    "print(\"Their tweet was : \" + str(status_array[index]['text']))\n",
    "print(\"No of retweets: \" + str(value))"
   ]
  },
  {
   "cell_type": "markdown",
   "metadata": {},
   "source": [
    "# METRICS FOR USE"
   ]
  },
  {
   "cell_type": "code",
   "execution_count": 81,
   "metadata": {},
   "outputs": [
    {
     "name": "stdout",
     "output_type": "stream",
     "text": [
      "Sample 1 :RT @MaximeBernier: Listen to my interview with Evan Solomon (at 11 min.) We’re discussing immigration, PPC candidates and abortion. \n",
      "https:…\n",
      "\n",
      "Sample 2 :Bolton and Israel lobby will end up pushing @realDonaldTrump into war, especially when he sees that he can't win th… https://t.co/dGrDTCbhH0\n",
      "\n",
      "Sample 3 :RT @mitchellvii: Can I just laugh at those on the right and the left saying Trump's tariffs against Mexico are a \"bad idea?\"\n",
      "\n",
      "Oh no, Mexico…\n",
      "\n",
      "#1 Most tweeted to : \n",
      "realDonaldTrump\n",
      "None\n",
      "#2 Most tweeted to : \n",
      "mitchellvii\n",
      "None\n",
      "#3 Most tweeted to : \n",
      "RVAwonk\n",
      "None\n",
      "\n",
      "NewProfiles (less than 10 days) : 0.95%\n",
      "No of people with less than 10 followers :3.81%\n",
      "No of people with more than 1000000 followers :0.09%\n",
      "Printing top tweets\n",
      "\n",
      "OrderedDict([('MEXICO', 1631), ('TRUMP', 1261), ('TARIFFS', 936), ('US', 829), ('PRESIDENT', 804), ('DEMS', 794), ('PEOPLE', 743), ('ASYLUM', 671), ('ILLEGAL', 657), ('BORDER', 635), ('AGAINST', 503), ('@MITCHELLVII:', 501), (\"TRUMP'S\", 496), ('MEXICO…RT', 491), ('LAW', 477), ('SEEKERS', 474), ('MEDIA', 456), ('SAYING', 452), ('DESPITE', 450), ('FEDERAL', 449)])\n",
      "The most retweeted user is: JackDeskins\n",
      "Their tweet was : RT @adamcbest: Conservatives on abortion: We want a ban!\n",
      "\n",
      "Conservatives on gay marriage: We want a ban!\n",
      "\n",
      "Conservatives on immigration: We w…\n",
      "No of retweets: 78191\n"
     ]
    }
   ],
   "source": [
    "print(\"Sample 1 :\" + str(status_array[1000]['text']) + \"\\n\")\n",
    "print(\"Sample 2 :\" + str(status_array[4000]['text']) + \"\\n\")\n",
    "print(\"Sample 3 :\" + str(status_array[7000]['text']) + \"\\n\")\n",
    "\n",
    "print(\"#1 Most tweeted to : \" )\n",
    "print(str(print(reference_items[0][0])))\n",
    "print(\"#2 Most tweeted to : \" )\n",
    "print(str(print(reference_items[1][0])))\n",
    "print(\"#3 Most tweeted to : \")\n",
    "print(str(print(reference_items[2][0])))\n",
    "print('')\n",
    "\n",
    "print('NewProfiles (less than 10 days) : ' + str(str(percentnewcount)) + \"%\")\n",
    "print(\"No of people with less than \" + str(followercount) + \" followers :\" + str(percentcount) + \"%\")\n",
    "print(\"No of people with more than \" + str(maxfollowercount) + \" followers :\" + str(maxpercentcount) + \"%\")\n",
    "print(\"Printing top tweets\")\n",
    "print('')\n",
    "print(top_tweets)\n",
    "\n",
    "\n",
    "print(\"The most retweeted user is: \" + str(status_array[index]['user']['screen_name'])) \n",
    "print(\"Their tweet was : \" + str(status_array[index]['text']))\n",
    "print(\"No of retweets: \" + str(value))"
   ]
  },
  {
   "cell_type": "markdown",
   "metadata": {},
   "source": [
    "# PRINT OUT"
   ]
  },
  {
   "cell_type": "code",
   "execution_count": 18,
   "metadata": {},
   "outputs": [
    {
     "name": "stdout",
     "output_type": "stream",
     "text": [
      "<div class=\"alert alert-block alert-warning\">RT @realDonaldTrump: On June 10th, the United States will impose a 5% Tariff on all goods coming into our Country from Mexico, until such t…</div><div class=\"alert alert-block alert-success\">If we #Brexit will the UK follow suit? #socialmedia #visa #immigration  https://t.co/Txk3cHXwf5</div><div class=\"alert alert-block alert-info\">RT @hashemiquebec: @Monique_Sauve S'il vous plaît ne détruisez pas l'espoir de nos enfants...\n",
      " #Quebec_immigration_injustice, @ SJB_CAQ htt…</div>\n"
     ]
    }
   ],
   "source": [
    "#PRINT FORMAT\n",
    "print('<div class=\"alert alert-block alert-warning\">' + str(status_array[10]['text']) + '</div><div class=\"alert alert-block alert-success\">' + str(status_array[100]['text']) + '</div><div class=\"alert alert-block alert-info\">' + str(status_array[70]['text']) + '</div>')"
   ]
  },
  {
   "cell_type": "code",
   "execution_count": 22,
   "metadata": {},
   "outputs": [
    {
     "name": "stdout",
     "output_type": "stream",
     "text": [
      "| Metric | Value |\n",
      "| ------------- | ------------- |\n",
      "| #1 Most tweeted to  | **realDonaldTrump** |\n"
     ]
    }
   ],
   "source": [
    "print('| Metric | Value |')\n",
    "print('| ------------- | ------------- |')\n",
    "print('| #1 Most tweeted to  | **' + str(reference_items[0][0]) + '** |')\n",
    "print('| #2 Most tweeted to  | **' + str(reference_items[1][0]) + '** |')\n",
    "print('| #3 Most tweeted to  | **' + str(reference_items[2][0]) + '** |')\n",
    "print('| NewProfiles (less than 10 days) | ' + str(str(percentnewcount)) + '%  |')\n",
    "print('| Tweeters with < ' + str(followercount) + ' followers  | ' + str(percentcount) + '%|')\n",
    "print('| Tweeters with > ' + str(maxfollowercount) + ' followers  | '  + str(maxpercentcount) + '%  |')"
   ]
  },
  {
   "cell_type": "code",
   "execution_count": null,
   "metadata": {},
   "outputs": [],
   "source": []
  }
 ],
 "metadata": {
  "kernelspec": {
   "display_name": "Python 3",
   "language": "python",
   "name": "python3"
  },
  "language_info": {
   "codemirror_mode": {
    "name": "ipython",
    "version": 3
   },
   "file_extension": ".py",
   "mimetype": "text/x-python",
   "name": "python",
   "nbconvert_exporter": "python",
   "pygments_lexer": "ipython3",
   "version": "3.7.3"
  }
 },
 "nbformat": 4,
 "nbformat_minor": 2
}
