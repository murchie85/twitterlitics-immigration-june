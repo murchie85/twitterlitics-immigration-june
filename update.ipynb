{
 "cells": [
  {
   "cell_type": "markdown",
   "metadata": {},
   "source": [
    "# MURCHIE85 TWITTER PROCESSING \n",
    "\n",
    "&#x1F34E; **TOPIC = \"Immigration\"**\n",
    "\n",
    "\n",
    "## AUTOMATED RESEARCH SUMMARY\n",
    "\n",
    "\n",
    "![image](https://i.dailymail.co.uk/i/pix/2017/05/20/00/035B04BB000003E8-0-image-a-6_1495235383029.jpg)\n",
    "\n",
    "<br></br>\n",
    "\n",
    "<div class=\"alert alert-block alert-danger\"><b> This repo is for pulling metrics on a given keyword or hashtag and performs a series of reporting and analysis.</b></div>\n",
    "\n",
    "\n",
    "\n",
    "\n",
    "![image](TWEETS.png)\n",
    "\n",
    "\n",
    "\n",
    "\n",
    "|                ** Sample-Tweets  **        |\n",
    "| :-------------: |\n",
    "| <div class=\"alert alert-block alert-warning\">RT @alextdaugherty: The Homestead detention center is located where Hurricane Andrew made landfall. The government won't tell you how it pl…</div><div class=\"alert alert-block alert-success\">RT @politico: Mexico's top officials said Trump’s plan to slap tariffs on Mexican goods will hurt both countries and weaken Mexico’s abilit…</div><div class=\"alert alert-block alert-info\">RT @NickMiroff: USCIS processed 28 percent more immigration cases and claims last year, 2018 report shows. Citizenship approvals hit 5-year…</div> |\n",
    "\n",
    "\n",
    "## GOOGLE SEARCH DEMOGRAPHICS \n",
    "\n",
    "Tweeting demographic           | Countries\n",
    ":-------------------------:|:-------------------------:\n",
    "![](maps.png)  |  ![](gcompare.png)\n",
    "<br>\n",
    "\n",
    "## RELATED TOPICS  & QUERIES \n",
    "\n",
    "topics          | searches\n",
    ":-------------------------:|:-------------------------:\n",
    "![](topic.png)  |  ![](query.png)\n",
    "\n",
    "<br>\n",
    "<br>\n",
    "\n",
    "\n",
    "## RELATED METRICS\n",
    "<br>\n",
    "\n",
    "| Metric | Value |\n",
    "| ------------- | ------------- |\n",
    "| #1 Most tweeted to  | **SJB_CAQ** |\n",
    "| #2 Most tweeted to  | **nili_negin** |\n",
    "| #3 Most tweeted to  | **18000Dossier** |\n",
    "| NewProfiles (less than 10 days) | 4.21%  |\n",
    "| Tweeters with < 10 followers  | 2.22%|\n",
    "| Tweeters with > 1000000 followers  | 0.06%  |\n",
    "\n",
    "\n",
    "<br>\n",
    "\n",
    "## MOST POPULAR TWEET TERMS \n",
    "<br>\n",
    "\n",
    "| Popularity Rank  | Term |\n",
    "| ------------- | ------------- |\n",
    "| first  | **DE**  |\n",
    "| second  | **LE**  |\n",
    "| third  | **LES** |\n",
    "| fourth  | **QUEBEC_IMMIGRATION_INJUSTICE**  |\n",
    "| fifth  | **NOUS**  |\n",
    "\n",
    "\n",
    "<br>\n",
    "\n",
    "![image](comparetweets.png)\n",
    "\n",
    "## Twitter Bio Analysis\n",
    "![image](BIO.png)\n",
    "\n",
    "### SENTIMENT ANALYSIS\n",
    "\n",
    "\n",
    "VIEWS WERE : **SUBJECTIVE**  (30.0%) & **NEGATIVELY-SUBJECTIVE** (0.0%) **OBJECTIVE** (70.0%)\n",
    "\n",
    "### TWEET SAMPLE \n",
    "\n",
    "Random value picked from array: \n",
    "\n",
    "<div class=\"alert alert-block alert-info\">RT @politico: Mexico's top officials said Trump’s plan to slap tariffs on Mexican goods will hurt both countries and weaken Mexico’s abilit…</div>\n",
    "\n",
    "### MOST RETWEETED\n",
    "\n",
    "<div class=\"alert alert-block alert-danger\"> RT @realDonaldTrump: On June 10th, the United States will impose a 5% Tariff on all goods coming into our Country from Mexico, until such t…</div>\n",
    "\n",
    "### CONCLUSION & EXTERNAL ANALYSIS\n",
    "\n",
    "*This is my [Adam McMurchie`s] opinion on the data from the tweets, it serves as no objective truth.Since the tweets themselves are a mixture of fact & opinion.\n",
    "<br>\n",
    "\n",
    "Authors analytical summary on request.\n",
    "\n",
    "**RECOMMENDATIONS** WILL BE UPDATED IN NEXT  24 HOURS \n",
    "<br>"
   ]
  },
  {
   "cell_type": "markdown",
   "metadata": {},
   "source": [
    "# TECHNICAL WALKTHROUGH \n",
    "\n",
    "\n",
    "## OVERVIEW\n",
    "\n",
    "**SKIP TO BOTTOM FOR FULL RESULTS & GRAPH BREAKDOWN **\n",
    "\n",
    "- Pulls live tweets from all over twitter \n",
    "- Imports Tweepy Library \n",
    "- Consumes Twitter API \n",
    "- Desgined to be keyword driven\n",
    "- All metrics can be captured\n",
    "- No limit on Runtime (best to terminate when you want)\n",
    "\n",
    "## Limitations & info\n",
    "1. LOCATION filter is tricky\n",
    "2. Streaming connects to the “public streams” (all public data) \n",
    "3. This is data provided by the Twitter API which accesses their database, the maintenence of DB and thus data quality is managed by Twitter\n",
    "\n",
    "Example of parameter setting done in stream filter \n",
    "\n",
    "```\n",
    "stream.filter(follow=[\"2211149702\"])\n",
    "```\n",
    "\n",
    "\n",
    "### AUTHOR : ADAM MCMURCHIE \n",
    "\n",
    "![image](https://s3.amazonaws.com/re-work-production/avatars/1104/original.png?1485507466)\n",
    "\n",
    "Github [here](https://github.com/murchie85)  \n",
    "\n",
    "Mysite [here](https://murchie85.github.io/)"
   ]
  },
  {
   "cell_type": "markdown",
   "metadata": {},
   "source": [
    "# AUTHENTICATION\n",
    "\n",
    "You will need to change f variable to point to your credentials file, I save mines in a text file and split the comma. Not uploaded to this repo obviously."
   ]
  },
  {
   "cell_type": "code",
   "execution_count": 98,
   "metadata": {},
   "outputs": [],
   "source": [
    "import datetime\n",
    "import os\n",
    "from ipywidgets import IntProgress\n",
    "from IPython.display import display\n",
    "from IPython.display import clear_output\n",
    "import time\n",
    "import sys\n",
    "# Import the necessary package to process data in JSON format\n",
    "try:\n",
    "    import json\n",
    "except ImportError:\n",
    "    import simplejson as json\n",
    "\n",
    "# Import the tweepy library\n",
    "import tweepy\n",
    "\n",
    "\n",
    "\n",
    "\n",
    "f = open(\"../donotgit/access.txt\", \"r\")\n",
    "keys = f.read()\n",
    "f.close()\n",
    "keys  = keys.split(',')\n",
    "#print(\"Access Keys are : \" + str(keys))\n",
    "ACCESS_TOKEN = keys[0]\n",
    "ACCESS_SECRET = keys[1]\n",
    "\n",
    "\n",
    "f = open(\"../donotgit/consumer.txt\", \"r\")\n",
    "keys = f.read()\n",
    "keys  = keys.split(',')\n",
    "#print(\"Consumer Keys are : \" + str(keys))\n",
    "CONSUMER_KEY = keys[0]\n",
    "CONSUMER_SECRET = keys[1]\n"
   ]
  },
  {
   "cell_type": "markdown",
   "metadata": {},
   "source": [
    "# TOPIC & SCANTYPE SELECTION\n",
    "\n",
    "1. Select which topic you wish to scan for (You can use # or most special characters). \n",
    "2. Scantype means you can chose between pulling in tweets as they happen or pull down historical tweets so you can view things like number of retweets (as if it is realtime, there wont have been time for retweet)"
   ]
  },
  {
   "cell_type": "code",
   "execution_count": 99,
   "metadata": {},
   "outputs": [],
   "source": [
    "TOPIC = 'immigration'\n",
    "\n",
    "# Realtime = 1 Historical = 2\n",
    "scantype = 2"
   ]
  },
  {
   "cell_type": "markdown",
   "metadata": {},
   "source": [
    "# PULLING DOWN THE DATA \n",
    "\n",
    "This is where the magic happens, api authentication is set up, tweepy library is imported for the work and a class allow us to pull live data. This is appended to array for processing later. \n",
    "\n",
    "\n",
    "*NOTE* -   this will just keep running until you force terminate, i haven't added in a terminate loop yet."
   ]
  },
  {
   "cell_type": "markdown",
   "metadata": {},
   "source": [
    "# REALTIME TWEETS"
   ]
  },
  {
   "cell_type": "code",
   "execution_count": 100,
   "metadata": {},
   "outputs": [
    {
     "name": "stdout",
     "output_type": "stream",
     "text": [
      "Ignore this error = jump to next\n"
     ]
    },
    {
     "ename": "RuntimeError",
     "evalue": "No active exception to reraise",
     "output_type": "error",
     "traceback": [
      "\u001b[0;31m---------------------------------------------------------------------------\u001b[0m",
      "\u001b[0;31mRuntimeError\u001b[0m                              Traceback (most recent call last)",
      "\u001b[0;32m<ipython-input-100-507a36592e10>\u001b[0m in \u001b[0;36m<module>\u001b[0;34m\u001b[0m\n\u001b[1;32m      1\u001b[0m \u001b[0;32mif\u001b[0m \u001b[0mscantype\u001b[0m \u001b[0;34m!=\u001b[0m \u001b[0;36m1\u001b[0m\u001b[0;34m:\u001b[0m\u001b[0;34m\u001b[0m\u001b[0;34m\u001b[0m\u001b[0m\n\u001b[1;32m      2\u001b[0m     \u001b[0mprint\u001b[0m\u001b[0;34m(\u001b[0m\u001b[0;34m\"Ignore this error = jump to next\"\u001b[0m\u001b[0;34m)\u001b[0m\u001b[0;34m\u001b[0m\u001b[0;34m\u001b[0m\u001b[0m\n\u001b[0;32m----> 3\u001b[0;31m     \u001b[0;32mraise\u001b[0m\u001b[0;34m\u001b[0m\u001b[0;34m\u001b[0m\u001b[0m\n\u001b[0m\u001b[1;32m      4\u001b[0m \u001b[0;34m\u001b[0m\u001b[0m\n\u001b[1;32m      5\u001b[0m \u001b[0;34m\u001b[0m\u001b[0m\n",
      "\u001b[0;31mRuntimeError\u001b[0m: No active exception to reraise"
     ]
    }
   ],
   "source": [
    "if scantype != 1:\n",
    "    print(\"Ignore this error = jump to next\")\n",
    "    raise\n",
    "\n",
    "\n",
    "# Variables that contains the user credentials to access Twitter API \n",
    "# Captured earlier \n",
    "\n",
    "# Setup tweepy to authenticate with Twitter credentials:\n",
    "\n",
    "auth = tweepy.OAuthHandler(CONSUMER_KEY, CONSUMER_SECRET)\n",
    "auth.set_access_token(ACCESS_TOKEN, ACCESS_SECRET)\n",
    "\n",
    "# Create the api to connect to twitter with your creadentials\n",
    "api = tweepy.API(auth, wait_on_rate_limit=True, wait_on_rate_limit_notify=True, compression=True)\n",
    "\n",
    "status_array = []\n",
    "\n",
    "progress = 0\n",
    "max_count = 10000\n",
    "\n",
    "f = IntProgress(description='Processing:',min=0, max=max_count,) # instantiate the bar\n",
    "display(f) # display the bar\n",
    "\n",
    "\n",
    "\n",
    "\n",
    "class StreamListener(tweepy.StreamListener):\n",
    "    tweet_number=0   # class variable\n",
    "    \n",
    "\n",
    "\n",
    "    def on_status(self, status):\n",
    "        self.max_tweets=max_count # max number of tweets\n",
    "        self.tweet_number+=1   \n",
    "        f.value += 1 # signal to increment the progress bar\n",
    "        progress = (f.value/max_count) * 100\n",
    "        progress = format(progress, '.2f')\n",
    "        print('Progress: ' + str(progress) + \" %\")\n",
    "        clear_output(wait=True)\n",
    "        status_array.append(status._json)\n",
    "\n",
    "        if self.tweet_number>=self.max_tweets:\n",
    "            sys.exit('PROCESSING COMPLETE : '+str(self.max_tweets)+' tweets processed.')\n",
    "\n",
    "        \n",
    "    def on_error(self, status_code):\n",
    "        if status_code == 420:\n",
    "            return False\n",
    "\n",
    "stream_listener = StreamListener()\n",
    "stream = tweepy.Stream(auth=api.auth, listener=stream_listener)\n",
    "\n",
    "#print('Pulling down data.....')\n",
    "stream.filter(track=[TOPIC],languages=[\"en\"])\n",
    "\n",
    "\n"
   ]
  },
  {
   "cell_type": "markdown",
   "metadata": {},
   "source": [
    "# HISTORICAL TWEETS"
   ]
  },
  {
   "cell_type": "code",
   "execution_count": 102,
   "metadata": {
    "scrolled": true
   },
   "outputs": [
    {
     "ename": "KeyboardInterrupt",
     "evalue": "",
     "output_type": "error",
     "traceback": [
      "\u001b[0;31m---------------------------------------------------------------------------\u001b[0m",
      "\u001b[0;31mKeyboardInterrupt\u001b[0m                         Traceback (most recent call last)",
      "\u001b[0;32m<ipython-input-102-5aa0c895b519>\u001b[0m in \u001b[0;36m<module>\u001b[0;34m\u001b[0m\n\u001b[1;32m     44\u001b[0m     \u001b[0mprint\u001b[0m\u001b[0;34m(\u001b[0m\u001b[0;34m'Progress: '\u001b[0m \u001b[0;34m+\u001b[0m \u001b[0mstr\u001b[0m\u001b[0;34m(\u001b[0m\u001b[0mprogress\u001b[0m\u001b[0;34m)\u001b[0m \u001b[0;34m+\u001b[0m \u001b[0;34m\" %\"\u001b[0m\u001b[0;34m)\u001b[0m\u001b[0;34m\u001b[0m\u001b[0;34m\u001b[0m\u001b[0m\n\u001b[1;32m     45\u001b[0m     \u001b[0mclear_output\u001b[0m\u001b[0;34m(\u001b[0m\u001b[0mwait\u001b[0m\u001b[0;34m=\u001b[0m\u001b[0;32mTrue\u001b[0m\u001b[0;34m)\u001b[0m\u001b[0;34m\u001b[0m\u001b[0;34m\u001b[0m\u001b[0m\n\u001b[0;32m---> 46\u001b[0;31m     \u001b[0mtime\u001b[0m\u001b[0;34m.\u001b[0m\u001b[0msleep\u001b[0m\u001b[0;34m(\u001b[0m\u001b[0;36m.1\u001b[0m\u001b[0;34m)\u001b[0m\u001b[0;34m\u001b[0m\u001b[0;34m\u001b[0m\u001b[0m\n\u001b[0m\u001b[1;32m     47\u001b[0m     \u001b[0mstatus_array\u001b[0m\u001b[0;34m.\u001b[0m\u001b[0mappend\u001b[0m\u001b[0;34m(\u001b[0m\u001b[0mtweet\u001b[0m\u001b[0;34m.\u001b[0m\u001b[0m_json\u001b[0m\u001b[0;34m)\u001b[0m\u001b[0;34m\u001b[0m\u001b[0;34m\u001b[0m\u001b[0m\n\u001b[1;32m     48\u001b[0m \u001b[0;34m\u001b[0m\u001b[0m\n",
      "\u001b[0;31mKeyboardInterrupt\u001b[0m: "
     ]
    }
   ],
   "source": [
    "# HISTORICAL DATA SWITCHED OFF (IF YOU SWITCH ON, THEN SWITCH STREAM OFF ABOVE)\n",
    "\n",
    "if scantype != 2:\n",
    "    raise\n",
    "\n",
    "\n",
    "# Variables that contains the user credentials to access Twitter API \n",
    "# Captured earlier \n",
    "\n",
    "# Setup tweepy to authenticate with Twitter credentials:\n",
    "\n",
    "auth = tweepy.OAuthHandler(CONSUMER_KEY, CONSUMER_SECRET)\n",
    "auth.set_access_token(ACCESS_TOKEN, ACCESS_SECRET)\n",
    "\n",
    "# Create the api to connect to twitter with your creadentials\n",
    "api = tweepy.API(auth, wait_on_rate_limit=True, wait_on_rate_limit_notify=True, compression=True)\n",
    "\n",
    "\n",
    "\n",
    "\n",
    "\n",
    "\n",
    "\n",
    "\n",
    "\n",
    "status_array = []\n",
    "LOOP_COUNT = 0\n",
    "max_count = 10000\n",
    "\n",
    "\n",
    "# ------ENTER YOUR SERACH TERM HER E--------\n",
    "tweets = tweepy.Cursor(api.search, q=TOPIC, count=int(max_count))\n",
    "\n",
    "# TRACK PROGRESS\n",
    "f = IntProgress(min=0, max=max_count) # instantiate the bar\n",
    "display(f) # display the bar\n",
    "progress = 0\n",
    "\n",
    "print('Pulling down data.....')                    \n",
    "for tweet in tweets.items(int(max_count)):\n",
    "    f.value+=1 # signal to increment the progress bar\n",
    "    progress = (f.value/max_count) * 100\n",
    "    progress = format(progress, '.2f')\n",
    "    print('Progress: ' + str(progress) + \" %\")\n",
    "    clear_output(wait=True)\n",
    "    time.sleep(.1)\n",
    "    status_array.append(tweet._json)\n",
    "\n",
    "\n",
    "\n",
    "print('Processing complete')\n",
    "\n"
   ]
  },
  {
   "cell_type": "markdown",
   "metadata": {},
   "source": [
    "# QUICK STREAM"
   ]
  },
  {
   "cell_type": "code",
   "execution_count": 103,
   "metadata": {},
   "outputs": [
    {
     "name": "stdout",
     "output_type": "stream",
     "text": [
      "Number of records\n",
      "1805\n",
      "\n",
      "The data keys are : \n",
      "dict_keys(['created_at', 'id', 'id_str', 'text', 'truncated', 'entities', 'metadata', 'source', 'in_reply_to_status_id', 'in_reply_to_status_id_str', 'in_reply_to_user_id', 'in_reply_to_user_id_str', 'in_reply_to_screen_name', 'user', 'geo', 'coordinates', 'place', 'contributors', 'retweeted_status', 'is_quote_status', 'retweet_count', 'favorite_count', 'favorited', 'retweeted', 'possibly_sensitive', 'lang'])\n",
      "\n"
     ]
    }
   ],
   "source": [
    "print('Number of records')\n",
    "print(len(status_array))\n",
    "print('')\n",
    "print('The data keys are : ')\n",
    "print(status_array[0].keys())\n",
    "print('')\n",
    "#print('An example element looks like: ')\n",
    "#print(status_array[0])"
   ]
  },
  {
   "cell_type": "markdown",
   "metadata": {},
   "source": [
    "# REPORT GENERATION\n",
    "\n",
    "**REMOVE** quotes to switch on reporting, you may need to create the folders listed below i.e. data folder description folder etc."
   ]
  },
  {
   "cell_type": "code",
   "execution_count": 104,
   "metadata": {
    "scrolled": true
   },
   "outputs": [
    {
     "data": {
      "text/plain": [
       "'\\ncurrentDT = datetime.datetime.now()\\nfilename = \"data/streamout-\" + str(currentDT) + \".txt\"\\n\\nprint(filename)\\n\\nwith open(filename, \\'w\\') as f:\\n    for item in status_array:\\n        f.write(\"%s\\n\" % item)\\nf.close()\\n\\n\\n# WRITE OUT FULL REPORT\\nreportfile = \"reports/printout-\"+ str(currentDT) + \".txt\"\\ndescriptionfile = \"data/description/printout-\"+ str(currentDT) + \".txt\"\\ntweetfile = \"data/tweet/printout-\"+ str(currentDT) + \".txt\"\\n\\nREPORTCOUNT = 0\\nwith open(reportfile, \\'w\\') as f:\\n    for y in range(0, len(status_array)):\\n        REPORTCOUNT = REPORTCOUNT + 1\\n        f.write(\\'************************************************************\\n\\')\\n        f.write(status_array[y][\\'text\\'])\\n        f.write(\\'------------------------------\\n\\')\\n        f.write(status_array[y][\\'created_at\\'])\\n        f.write(\\'------------------------------\\n\\')\\n        f.write(status_array[y][\\'user\\'][\\'name\\'])\\n        f.write(\\'------------------------------\\n\\')\\n        f.write(str(status_array[y][\\'user\\'][\\'location\\']))\\n        f.write(\\'------------------------------\\n\\')\\n        f.write(str(status_array[y][\\'user\\'][\\'description\\']))\\n        f.write(\\'--------------REPLY COUNT----------------\\n|\\')\\n        f.write(str(status_array[y][\\'reply_count\\']))\\n        f.write(\\'--------------RETWEET COUNT----------------\\n\\')\\n        f.write(str(status_array[y][\\'retweet_count\\']))\\n        f.write(\\'--------------RETWEETED?----------------\\n\\')\\n        f.write(str(status_array[y][\\'retweeted\\']))\\n        f.write(\\'--------------RETWEET COUNT----------------\\n\\')\\n        f.write(str(status_array[y][\\'retweet_count\\']))\\n        f.write(\\'--------------FAVOURITED----------------\\n\\')\\n        f.write(str(status_array[y][\\'favorited\\']))\\n        f.write(\\'--------------FAVOURITE COUNT----------------\\n\\')\\n        f.write(str(status_array[y][\\'favorite_count\\']))\\n        f.write(\\'\\n\\')\\n        f.write(\\'\\n\\')\\n    f.write(\\'number of records are : \\')\\n    f.write(str(REPORTCOUNT))\\n        \\nf.close()\\n    \\n    \\n# WRITE OUT ONLY DESCRIPTION\\n    \\nREPORTCOUNT = 0\\nwith open(descriptionfile, \\'w\\') as f:\\n    for y in range(0, len(status_array)):\\n        REPORTCOUNT = REPORTCOUNT + 1\\n        f.write(\\'************************************************************\\n\\')\\n        f.write(str(status_array[y][\\'user\\'][\\'description\\']))\\n        f.write(\\'\\n\\')\\n    f.write(\\'number of records are : \\')\\n    f.write(str(REPORTCOUNT))\\n        \\nf.close()\\n    \\n\\n# WRITE OUT ONLY TWEET\\n    \\nREPORTCOUNT = 0\\nwith open(tweetfile, \\'w\\') as f:\\n    for y in range(0, len(status_array)):\\n        REPORTCOUNT = REPORTCOUNT + 1\\n        f.write(\\'************************************************************\\n\\')\\n        f.write(status_array[y][\\'text\\'])\\n        f.write(\\'\\n\\')\\n    f.write(\\'number of records are : \\')\\n    f.write(str(REPORTCOUNT))\\n        \\nf.close()\\n\\n    \\n    \\n    \\n    \\n    \\nprint(\\'=========================SAMPLE OUTPUT================================\\')\\nprint(\\'************************************************************\\')\\nprint(status_array[0][\\'text\\'])\\nprint(\\'------------------------------\\')\\nprint(status_array[0][\\'created_at\\'])\\nprint(\\'------------------------------\\')\\nprint(status_array[0][\\'user\\'][\\'name\\'])\\nprint(\\'------------------------------\\')\\nprint(status_array[0][\\'user\\'][\\'location\\'])\\nprint(\\'------------------------------\\')\\nprint(status_array[0][\\'user\\'][\\'description\\'])\\nprint(\\'--------------REPLY COUNT----------------\\')\\nprint(status_array[0][\\'reply_count\\'])\\nprint(\\'--------------RETWEET COUNT----------------\\')\\nprint(status_array[0][\\'retweet_count\\'])\\nprint(\\'--------------RETWEETED?----------------\\') \\nprint(status_array[0][\\'retweeted\\'])\\nprint(\\'--------------RETWEET COUNT----------------\\')\\nprint(status_array[0][\\'retweet_count\\'])\\nprint(\\'--------------FAVOURITED----------------\\')\\nprint(status_array[0][\\'favorited\\'])\\nprint(\\'--------------FAVOURITE COUNT----------------\\')\\nprint(status_array[0][\\'favorite_count\\'])\\n'"
      ]
     },
     "execution_count": 104,
     "metadata": {},
     "output_type": "execute_result"
    }
   ],
   "source": [
    "# REMOVE QUOTES TO ACTIVATE \n",
    "# append to filename\n",
    "\"\"\"\n",
    "currentDT = datetime.datetime.now()\n",
    "filename = \"data/streamout-\" + str(currentDT) + \".txt\"\n",
    "\n",
    "print(filename)\n",
    "\n",
    "with open(filename, 'w') as f:\n",
    "    for item in status_array:\n",
    "        f.write(\"%s\\n\" % item)\n",
    "f.close()\n",
    "\n",
    "\n",
    "# WRITE OUT FULL REPORT\n",
    "reportfile = \"reports/printout-\"+ str(currentDT) + \".txt\"\n",
    "descriptionfile = \"data/description/printout-\"+ str(currentDT) + \".txt\"\n",
    "tweetfile = \"data/tweet/printout-\"+ str(currentDT) + \".txt\"\n",
    "\n",
    "REPORTCOUNT = 0\n",
    "with open(reportfile, 'w') as f:\n",
    "    for y in range(0, len(status_array)):\n",
    "        REPORTCOUNT = REPORTCOUNT + 1\n",
    "        f.write('************************************************************\\n')\n",
    "        f.write(status_array[y]['text'])\n",
    "        f.write('------------------------------\\n')\n",
    "        f.write(status_array[y]['created_at'])\n",
    "        f.write('------------------------------\\n')\n",
    "        f.write(status_array[y]['user']['name'])\n",
    "        f.write('------------------------------\\n')\n",
    "        f.write(str(status_array[y]['user']['location']))\n",
    "        f.write('------------------------------\\n')\n",
    "        f.write(str(status_array[y]['user']['description']))\n",
    "        f.write('--------------REPLY COUNT----------------\\n|')\n",
    "        f.write(str(status_array[y]['reply_count']))\n",
    "        f.write('--------------RETWEET COUNT----------------\\n')\n",
    "        f.write(str(status_array[y]['retweet_count']))\n",
    "        f.write('--------------RETWEETED?----------------\\n')\n",
    "        f.write(str(status_array[y]['retweeted']))\n",
    "        f.write('--------------RETWEET COUNT----------------\\n')\n",
    "        f.write(str(status_array[y]['retweet_count']))\n",
    "        f.write('--------------FAVOURITED----------------\\n')\n",
    "        f.write(str(status_array[y]['favorited']))\n",
    "        f.write('--------------FAVOURITE COUNT----------------\\n')\n",
    "        f.write(str(status_array[y]['favorite_count']))\n",
    "        f.write('\\n')\n",
    "        f.write('\\n')\n",
    "    f.write('number of records are : ')\n",
    "    f.write(str(REPORTCOUNT))\n",
    "        \n",
    "f.close()\n",
    "    \n",
    "    \n",
    "# WRITE OUT ONLY DESCRIPTION\n",
    "    \n",
    "REPORTCOUNT = 0\n",
    "with open(descriptionfile, 'w') as f:\n",
    "    for y in range(0, len(status_array)):\n",
    "        REPORTCOUNT = REPORTCOUNT + 1\n",
    "        f.write('************************************************************\\n')\n",
    "        f.write(str(status_array[y]['user']['description']))\n",
    "        f.write('\\n')\n",
    "    f.write('number of records are : ')\n",
    "    f.write(str(REPORTCOUNT))\n",
    "        \n",
    "f.close()\n",
    "    \n",
    "\n",
    "# WRITE OUT ONLY TWEET\n",
    "    \n",
    "REPORTCOUNT = 0\n",
    "with open(tweetfile, 'w') as f:\n",
    "    for y in range(0, len(status_array)):\n",
    "        REPORTCOUNT = REPORTCOUNT + 1\n",
    "        f.write('************************************************************\\n')\n",
    "        f.write(status_array[y]['text'])\n",
    "        f.write('\\n')\n",
    "    f.write('number of records are : ')\n",
    "    f.write(str(REPORTCOUNT))\n",
    "        \n",
    "f.close()\n",
    "\n",
    "    \n",
    "    \n",
    "    \n",
    "    \n",
    "    \n",
    "print('=========================SAMPLE OUTPUT================================')\n",
    "print('************************************************************')\n",
    "print(status_array[0]['text'])\n",
    "print('------------------------------')\n",
    "print(status_array[0]['created_at'])\n",
    "print('------------------------------')\n",
    "print(status_array[0]['user']['name'])\n",
    "print('------------------------------')\n",
    "print(status_array[0]['user']['location'])\n",
    "print('------------------------------')\n",
    "print(status_array[0]['user']['description'])\n",
    "print('--------------REPLY COUNT----------------')\n",
    "print(status_array[0]['reply_count'])\n",
    "print('--------------RETWEET COUNT----------------')\n",
    "print(status_array[0]['retweet_count'])\n",
    "print('--------------RETWEETED?----------------') \n",
    "print(status_array[0]['retweeted'])\n",
    "print('--------------RETWEET COUNT----------------')\n",
    "print(status_array[0]['retweet_count'])\n",
    "print('--------------FAVOURITED----------------')\n",
    "print(status_array[0]['favorited'])\n",
    "print('--------------FAVOURITE COUNT----------------')\n",
    "print(status_array[0]['favorite_count'])\n",
    "\"\"\"\n"
   ]
  },
  {
   "cell_type": "markdown",
   "metadata": {},
   "source": [
    "## TWEET NUMERICAL ANALYSIS\n",
    "\n",
    "Change the below values to see how they rank in tweet frequency,  **YOU DON'T NEED TO WORRY ABOUT CASE SENSITIVITY IN WORDING**, that is covered in the code.\n",
    "\n",
    "```\n",
    "WORDONE=''\n",
    "WORDTWO=''\n",
    "WORDTHREE=''\n",
    "```"
   ]
  },
  {
   "cell_type": "code",
   "execution_count": 105,
   "metadata": {
    "scrolled": false
   },
   "outputs": [
    {
     "name": "stdout",
     "output_type": "stream",
     "text": [
      "Total count of words - MEXICO :66               3.66%\n",
      "Total count of words - TRUMP :133              3.66%\n",
      "Total count of words - TARIFFS :37           2.05%\n",
      "Total count of words - ILLEGAL :77             4.27%\n",
      "Total count of words - BORDER :49             2.71%\n",
      "Total count of words - ASYLUM :21               1.16%\n",
      "Total count of words - HUMANITY :0            0.0%\n",
      "Total count of words - DEPORT :4           0.22%\n",
      "Total count of words - TERM :3             0.17%\n",
      "Total count of words - TERM :3               0.17%\n",
      "Total Number of Records: 1805\n",
      "\n",
      "Length of appended text array : 238822\n",
      "\n",
      "OrderedDict([('DE', 423), ('LE', 330), ('LES', 273), ('QUEBEC_IMMIGRATION_INJUSTICE', 273), ('NOUS', 253), ('ET', 203), ('DU', 196), ('LA', 179), ('PAS', 174), ('AVONS', 162), ('QUÉBEC', 154), ('NE', 153), ('PL9', 149), ('QUE', 145), ('ARTICLE20PL9', 135), ('DES', 134), ('EN', 122), ('QUI', 119), ('VOUS', 116), ('@SJB_CAQ', 112)])\n"
     ]
    }
   ],
   "source": [
    "# UPDATE WITH WORDS YOU WANT TO INTERROGATE\n",
    "WORDONE='MEXICO'\n",
    "WORDTWO='TRUMP'\n",
    "WORDTHREE='TARIFFS'\n",
    "WORDFOUR = 'ILLEGAL'\n",
    "WORDFIVE = 'border'\n",
    "WORDSIX = 'ASYLUM'\n",
    "WORDSEVEN = 'humanity'\n",
    "WORDEIGHT = 'deport'\n",
    "WORDNINE = 'TERM'\n",
    "WORDTEN = 'TERM'\n",
    "\n",
    "\n",
    "\n",
    "\n",
    "WORDONE= WORDONE.upper()\n",
    "WORDTWO= WORDTWO.upper()\n",
    "WORDTHREE=WORDTHREE.upper()\n",
    "WORDFOUR = WORDFOUR.upper()\n",
    "WORDFIVE = WORDFIVE.upper()\n",
    "WORDSIX = WORDSIX.upper()\n",
    "WORDSEVEN = WORDSEVEN.upper()\n",
    "WORDEIGHT = WORDEIGHT.upper()\n",
    "WORDNINE = WORDNINE.upper()\n",
    "WORDTEN = WORDTEN.upper()\n",
    "\n",
    "\n",
    "\n",
    "\n",
    "\n",
    "\n",
    "WORDONE_COUNT = 0\n",
    "WORDTWO_COUNT = 0 \n",
    "WORDTHREE_COUNT = 0 \n",
    "WORDFOUR_COUNT = 0\n",
    "WORDFIVE_COUNT = 0\n",
    "WORDSIX_COUNT = 0\n",
    "WORDSEVEN_COUNT= 0\n",
    "WORDEIGHT_COUNT= 0\n",
    "WORDNINE_COUNT = 0\n",
    "WORDTEN_COUNT = 0\n",
    "\n",
    "\n",
    "\n",
    "\n",
    "linecount = 0\n",
    "APPENDED_TEXT = \"\"\n",
    "\n",
    "\n",
    "\n",
    "for x in range(0, len(status_array)):\n",
    "    linecount = linecount + 1\n",
    "    text = str(status_array[x]['text']).upper()\n",
    "    APPENDED_TEXT = APPENDED_TEXT + str(text)\n",
    "    \n",
    "    \n",
    "    if str(text).count(str(WORDONE)) >= 1:\n",
    "        WORDONE_COUNT = WORDONE_COUNT + 1\n",
    "    if str(text).count(str(WORDTWO)) >= 1:\n",
    "        WORDTWO_COUNT = WORDTWO_COUNT + 1\n",
    "    if str(text).count(str(WORDTHREE)) >= 1:\n",
    "        WORDTHREE_COUNT = WORDTHREE_COUNT + 1\n",
    "    if str(text).count(str(WORDFOUR)) >= 1:\n",
    "        WORDFOUR_COUNT = WORDFOUR_COUNT + 1\n",
    "    if str(text).count(str(WORDFIVE)) >= 1:\n",
    "        WORDFIVE_COUNT = WORDFIVE_COUNT + 1\n",
    "    if str(text).count(str(WORDSIX)) >= 1:\n",
    "        WORDSIX_COUNT = WORDSIX_COUNT + 1\n",
    "    if str(text).count(str(WORDSEVEN)) >= 1:\n",
    "        WORDSEVEN_COUNT = WORDSEVEN_COUNT + 1\n",
    "    if str(text).count(str(WORDEIGHT)) >= 1:\n",
    "        WORDEIGHT_COUNT = WORDEIGHT_COUNT + 1\n",
    "    if str(text).count(str(WORDNINE)) >= 1:\n",
    "        WORDNINE_COUNT = WORDNINE_COUNT + 1\n",
    "    if str(text).count(str(WORDTEN)) >= 1:\n",
    "        WORDTEN_COUNT = WORDTEN_COUNT + 1\n",
    "\n",
    "      \n",
    " \n",
    "\n",
    "\n",
    "WORDONE_COUNT_PERCENT = round(((WORDONE_COUNT/len(status_array))*100),2)\n",
    "WORDTWO_COUNT_PERCENT  = round(((WORDONE_COUNT/len(status_array))*100),2)\n",
    "WORDTHREE_COUNT_PERCENT  = round(((WORDTHREE_COUNT/len(status_array))*100),2)\n",
    "WORDFOUR_COUNT_PERCENT  = round(((WORDFOUR_COUNT/len(status_array))*100),2)\n",
    "WORDFIVE_COUNT_PERCENT  = round(((WORDFIVE_COUNT/len(status_array))*100),2)\n",
    "WORDSIX_COUNT_PERCENT  = round(((WORDSIX_COUNT/len(status_array))*100),2)\n",
    "WORDSEVEN_COUNT_PERCENT  = round(((WORDSEVEN_COUNT/len(status_array))*100),2)\n",
    "WORDEIGHT_COUNT_PERCENT  = round(((WORDEIGHT_COUNT/len(status_array))*100),2)\n",
    "WORDNINE_COUNT_PERCENT  = round(((WORDNINE_COUNT/len(status_array))*100),2)\n",
    "WORDTEN_COUNT_PERCENT  = round(((WORDTEN_COUNT/len(status_array))*100),2)\n",
    "        \n",
    "print('Total count of words - ' + str(WORDONE) + ' :' + str(WORDONE_COUNT) + \"               \" + str(WORDONE_COUNT_PERCENT) + \"%\")\n",
    "print('Total count of words - ' + str(WORDTWO) + ' :' + str(WORDTWO_COUNT) + \"              \" + str(WORDTWO_COUNT_PERCENT)+ \"%\")\n",
    "print('Total count of words - ' + str(WORDTHREE) + ' :' + str(WORDTHREE_COUNT) + \"           \" + str(WORDTHREE_COUNT_PERCENT)+ \"%\")\n",
    "print('Total count of words - ' + str(WORDFOUR) + ' :' + str(WORDFOUR_COUNT) + \"             \" + str(WORDFOUR_COUNT_PERCENT)+ \"%\")\n",
    "print('Total count of words - ' + str(WORDFIVE) + ' :' + str(WORDFIVE_COUNT) + \"             \" + str(WORDFIVE_COUNT_PERCENT)+ \"%\")\n",
    "print('Total count of words - ' + str(WORDSIX) + ' :' + str(WORDSIX_COUNT) + \"               \" + str(WORDSIX_COUNT_PERCENT)+ \"%\")\n",
    "print('Total count of words - ' + str(WORDSEVEN) + ' :' + str(WORDSEVEN_COUNT) + \"            \" + str(WORDSEVEN_COUNT_PERCENT)+ \"%\")\n",
    "print('Total count of words - ' + str(WORDEIGHT) + ' :' + str(WORDEIGHT_COUNT) + \"           \" + str(WORDEIGHT_COUNT_PERCENT)+ \"%\")\n",
    "print('Total count of words - ' + str(WORDNINE) + ' :' + str(WORDNINE_COUNT) + \"             \" + str(WORDNINE_COUNT_PERCENT)+ \"%\")\n",
    "print('Total count of words - ' + str(WORDTEN) + ' :' + str(WORDTEN_COUNT) + \"               \" + str(WORDTEN_COUNT_PERCENT)+ \"%\")\n",
    "print('Total Number of Records: ' + str(linecount)) \n",
    "\n",
    "\n",
    "APPENDED_TEXT = APPENDED_TEXT.replace('#', '')\n",
    "APPENDED_TEXT = APPENDED_TEXT.replace('.', '')\n",
    "APPENDED_TEXT = APPENDED_TEXT.replace(',', '')\n",
    "APPENDED_TEXT = APPENDED_TEXT.replace(',', '')\n",
    "\n",
    "\n",
    "\n",
    "print('')\n",
    "\n",
    "print(\"Length of appended text array : \" + str(len(APPENDED_TEXT)))\n",
    "\n",
    "print('')\n",
    "from collections import Counter, OrderedDict\n",
    "DISC = APPENDED_TEXT.split()\n",
    "x = Counter(DISC)\n",
    "del x['⠀'],x['AND'],x['THE'],x['OF'],x['TO'],x['A'],x['IN'],x['&'],x['MY'],x['FOR'],x['I'],x['NOT'],x['IS'],x['ARE']\n",
    "del x['WITH'],x['ALL'],x['ON'],x['-'],x['YOU'],x['BY'],x['IT'],x['NO'],x['OR'],x['OWN'],x['THAT'],x['AT'],x['BE'],x['|'],x['WILL'],\n",
    "del x['BUT'],x['AN'],x['ABOUT'],x['AS'],x['FROM'],x['WHO'],x['ME'],x['WE'],x['HAVE'],x['OUR'],x['AM'],x['LIKE'],x['JUST']\n",
    "del x['THIS'],x['THEY'],x['IF'],x['HAS'],x['&AMP'],x['HAS'],x['CAN'],x['NOW'],x['SO'],x['ONLY'],x['WAS'],x['WHAT'],x['THEIR'],x['YOUR'],x['WOULD']\n",
    "del x['DO'],x['&AMP;'],x['ONE'],x['WANT'],x['BEEN'],x['THEM'],x['MORE'],x['TODAY'],x['GET'],x['WHEN'],x['COMMENT'],x['HER'],x['SHE'],x['FURTHER']\n",
    "del x['HE'],x['HIS'],x['OUT'],x['HOW'],x['BECAUSE'],x['HIM'],x['WHY'],x['THINK'],x[\"IT'S\"],x['TAKE'],x['OVER'],x[''],x[''],\n",
    "del x['END'], x['ALSO'],x['SINCE'],x['END'],x['THAT'],x['UP'],x['IT’S'],x['SEE'],x['KNOW'],x['SHOULD'],x['HAD'],x['SAYS'],x['SAID'],x['DID'],x['—'],x['EVERY']\n",
    "del x['YOU'],x['J'],x['WERE'],x['THERE'],x['“YOU'],x['THOSE'],x['OFTEN'],x['RIGHT']\n",
    "\n",
    "\n",
    "\n",
    "#SPECIAL DELETE \n",
    "del x['IMMIGRATION']\n",
    "\n",
    "large_top_tweets = OrderedDict(x.most_common(50))\n",
    "top_tweets = OrderedDict(x.most_common(20))\n",
    "print(top_tweets)\n",
    "\n",
    "\n"
   ]
  },
  {
   "cell_type": "code",
   "execution_count": 106,
   "metadata": {},
   "outputs": [
    {
     "data": {
      "image/png": "[encoded data removed]",
      "text/plain": [
       "<Figure size 1440x720 with 1 Axes>"
      ]
     },
     "metadata": {
      "needs_background": "light"
     },
     "output_type": "display_data"
    }
   ],
   "source": [
    "import os\n",
    "import matplotlib.pyplot as plt\n",
    "\n",
    "E = top_tweets\n",
    "one = (0.1, 0.1, 0.1, 0.1)\n",
    "two = (0.1, 0.1, 0.1, 0.1)\n",
    "three = (0.1, 0.1, 0.1, 0.1)\n",
    "four= (0.1, 0.1, 0.1, 0.1)\n",
    "five= (0.1, 0.1, 0.1, 0.1)\n",
    "six= (0.1, 0.1, 0.1, 0.1)\n",
    "seven= (0.1, 0.1, 0.1, 0.1)\n",
    "eight= (0.1, 0.1, 0.1, 0.1)\n",
    "nine= (0.1, 0.1, 0.1, 0.1)\n",
    "ten= (0.1, 0.1, 0.1, 0.1)\n",
    "eleven= (0.1, 0.1, 0.1, 0.1)\n",
    "twelve= (0.1, 0.1, 0.1, 0.1)\n",
    "thirteen= (0.1, 0.1, 0.1, 0.1)\n",
    "fourteen= (0.1, 0.1, 0.1, 0.1)\n",
    "fithteen= (0.1, 0.1, 0.1, 0.1)\n",
    "sixteen= (0.1, 0.1, 0.1, 0.1)\n",
    "seventeen= (0.1, 0.1, 0.1, 0.1)\n",
    "eighteen= (0.1, 0.1, 0.1, 0.1)\n",
    "nineteen= (0.1, 0.1, 0.1, 0.1)\n",
    "twenty= (0.1, 0.1, 0.1, 0.1)\n",
    "\n",
    "\n",
    "\n",
    "color_last = [one, two,three,four,five,six,seven,eight,nine,ten,eleven,twelve,thirteen,fourteen,fithteen,sixteen,seventeen,eighteen,nineteen,twenty]\n",
    "color = (0.1, 0.1, 0.1, 0.1)\n",
    "plt.bar(range(len(E)), list(E.values()), align='center', color=color_last,  edgecolor='blue')\n",
    "\n",
    "plt.xticks(range(len(E)), list(E.keys()), rotation='vertical', fontsize=20)\n",
    "plt.title(\"Most Frequently Tweeted Words\", fontsize=30)\n",
    "plt.ylabel('Number of Occurrences (thousands)', fontsize=20 )\n",
    "plt.xlabel('Tweeted term by Frequency', horizontalalignment='left', position=(0,25),fontsize=18)\n",
    "plt.rcParams[\"figure.figsize\"] = (20,10)\n",
    "\n",
    "exists = os.path.isfile('TWEETS.png')\n",
    "if exists:\n",
    "    os.remove(\"TWEETS.png\")\n",
    "\n",
    "    \n",
    "plt.savefig(\"TWEETS\", bbox_inches=\"tight\")\n",
    "plt.show()\n"
   ]
  },
  {
   "cell_type": "markdown",
   "metadata": {},
   "source": [
    "# TWEET COMPARISON"
   ]
  },
  {
   "cell_type": "code",
   "execution_count": 107,
   "metadata": {},
   "outputs": [
    {
     "data": {
      "image/png": "[encoded data removed]",
      "text/plain": [
       "<Figure size 1440x720 with 1 Axes>"
      ]
     },
     "metadata": {
      "needs_background": "light"
     },
     "output_type": "display_data"
    }
   ],
   "source": [
    "import matplotlib.pyplot as plt\n",
    "B = {str(WORDONE):int(WORDONE_COUNT), \n",
    "     str(WORDTWO):int(WORDTWO_COUNT),\n",
    "    str(WORDTHREE):int(WORDTHREE_COUNT),\n",
    "    str(WORDFOUR):int(WORDFOUR_COUNT),\n",
    "    str(WORDFIVE):int(WORDFIVE_COUNT)}\n",
    "\n",
    "\n",
    "\n",
    "plt.bar(range(len(B)), list(B.values()), align='center', alpha=0.5, color=('#ff8c66'),  edgecolor='blue')\n",
    "\n",
    "plt.xticks(range(len(B)), list(B.keys()), rotation='horizontal', fontsize=20)\n",
    "plt.title(\"Tweet Popular Tweet Word Comparison\", fontsize=30)\n",
    "plt.ylabel('Number of Occurrences (thousands)', fontsize=18)\n",
    "#plt.xlabel('These are the words in which Tweeters describe themselves', horizontalalignment='left', position=(0,25), fontsize=18)\n",
    "plt.rcParams[\"figure.figsize\"] = (20,10)\n",
    "#plt.savefig(\"BESPOKE\", bbox_inches=\"tight\")\n",
    "\n",
    "\n",
    "exists = os.path.isfile('comparetweets.png')\n",
    "if exists:\n",
    "    os.remove(\"comparetweets.png\")\n",
    "\n",
    "    \n",
    "plt.savefig(\"comparetweets\")\n",
    "plt.show()"
   ]
  },
  {
   "cell_type": "markdown",
   "metadata": {},
   "source": [
    "## USER DESCRIPTION NUMERICAL ANALYSIS\n",
    "\n",
    "Change the below values to see how they rank in tweet frequency **YOU DON'T NEED TO WORRY ABOUT CASE SENSITIVITY IN WORDING**, that is covered in the code."
   ]
  },
  {
   "cell_type": "code",
   "execution_count": 108,
   "metadata": {},
   "outputs": [
    {
     "name": "stdout",
     "output_type": "stream",
     "text": [
      "Total count of words - DEMOCRAT :17\n",
      "Total count of words - CONSERVATIVE :40\n",
      "Total count of words - REPUBLICAN :3\n",
      "Total count of words - MEXICAN :3\n",
      "Total count of words - AMERICAN :21\n",
      "Total count of words - LIBERAL :16\n",
      "Total count of words - TERM :1\n",
      "Total count of words - TERM :1\n",
      "Total count of words - TERM :1\n",
      "Total count of words - TERM :1\n",
      "Total Number of Records: 1805\n",
      "\n",
      "OrderedDict([('ENGINEER', 76), ('OFFSHORE', 47), ('RIGHTS', 46), ('BIEN', 44), ('DE', 43), ('VA', 43), ('SOMMES', 42), ('HUMAN', 41), ('QUE', 41), ('FEMINIST', 40), ('NATURE&MUSIC&ART&TRAVEL&COLOR&LOVE', 40), ('POUR', 40), ('SPORTS', 39), ('EST', 38), ('LOVE', 37), ('R&B', 35), ('CHAMPIONS', 35), (\"L'AVENIR\", 35), ('MEILLEUR', 35), ('MES', 35)])\n"
     ]
    }
   ],
   "source": [
    "# UPDATE WITH WORDS YOU WANT TO INTERROGATE\n",
    "\n",
    "WORDONE='democrat'\n",
    "WORDTWO='conservative'\n",
    "WORDTHREE='republican'\n",
    "WORDFOUR = 'mexican'\n",
    "WORDFIVE = 'American'\n",
    "WORDSIX = 'liberal'\n",
    "WORDSEVEN = 'TERM'\n",
    "WORDEIGHT = 'TERM'\n",
    "WORDNINE = 'TERM'\n",
    "WORDTEN = 'TERM'\n",
    "\n",
    "\n",
    "\n",
    "\n",
    "WORDONE= WORDONE.upper()\n",
    "WORDTWO= WORDTWO.upper()\n",
    "WORDTHREE=WORDTHREE.upper()\n",
    "WORDFOUR = WORDFOUR.upper()\n",
    "WORDFIVE = WORDFIVE.upper()\n",
    "WORDSIX = WORDSIX.upper()\n",
    "WORDSEVEN = WORDSEVEN.upper()\n",
    "WORDEIGHT = WORDEIGHT.upper()\n",
    "WORDNINE = WORDNINE.upper()\n",
    "WORDTEN = WORDTEN.upper()\n",
    "\n",
    "\n",
    "\n",
    "\n",
    "\n",
    "\n",
    "WORDONE_COUNT = 0\n",
    "WORDTWO_COUNT = 0 \n",
    "WORDTHREE_COUNT = 0 \n",
    "WORDFOUR_COUNT = 0\n",
    "WORDFIVE_COUNT = 0\n",
    "WORDSIX_COUNT = 0\n",
    "WORDSEVEN_COUNT= 0\n",
    "WORDEIGHT_COUNT= 0\n",
    "WORDNINE_COUNT = 0\n",
    "WORDTEN_COUNT = 0\n",
    "\n",
    "\n",
    "linecount = 0\n",
    "APPENDED_DESCRIPTION = \"\"\n",
    "\n",
    "\n",
    "\n",
    "for x in range(0, len(status_array)):\n",
    "    linecount = linecount + 1\n",
    "    description = str(status_array[x]['user']['description']).upper()\n",
    "    APPENDED_DESCRIPTION = APPENDED_DESCRIPTION + str(description)\n",
    "    \n",
    "    \n",
    "    if str(description).count(str(WORDONE)) >= 1:\n",
    "        WORDONE_COUNT = WORDONE_COUNT + 1\n",
    "    if str(description).count(str(WORDTWO)) >= 1:\n",
    "        WORDTWO_COUNT = WORDTWO_COUNT + 1\n",
    "    if str(description).count(str(WORDTHREE)) >= 1:\n",
    "        WORDTHREE_COUNT = WORDTHREE_COUNT + 1\n",
    "    if str(description).count(str(WORDFOUR)) >= 1:\n",
    "        WORDFOUR_COUNT = WORDFOUR_COUNT + 1\n",
    "    if str(description).count(str(WORDFIVE)) >= 1:\n",
    "        WORDFIVE_COUNT = WORDFIVE_COUNT + 1\n",
    "    if str(description).count(str(WORDSIX)) >= 1:\n",
    "        WORDSIX_COUNT = WORDSIX_COUNT + 1\n",
    "    if str(description).count(str(WORDSEVEN)) >= 1:\n",
    "        WORDSEVEN_COUNT = WORDSEVEN_COUNT + 1\n",
    "    if str(description).count(str(WORDEIGHT)) >= 1:\n",
    "        WORDEIGHT_COUNT = WORDEIGHT_COUNT + 1\n",
    "    if str(description).count(str(WORDNINE)) >= 1:\n",
    "        WORDNINE_COUNT = WORDNINE_COUNT + 1\n",
    "    if str(description).count(str(WORDTEN)) >= 1:\n",
    "        WORDTEN_COUNT = WORDTEN_COUNT + 1\n",
    "\n",
    "      \n",
    "      \n",
    "        \n",
    "print('Total count of words - ' + str(WORDONE) + ' :' + str(WORDONE_COUNT))\n",
    "print('Total count of words - ' + str(WORDTWO) + ' :' + str(WORDTWO_COUNT))\n",
    "print('Total count of words - ' + str(WORDTHREE) + ' :' + str(WORDTHREE_COUNT))\n",
    "print('Total count of words - ' + str(WORDFOUR) + ' :' + str(WORDFOUR_COUNT))\n",
    "print('Total count of words - ' + str(WORDFIVE) + ' :' + str(WORDFIVE_COUNT))\n",
    "print('Total count of words - ' + str(WORDSIX) + ' :' + str(WORDSIX_COUNT))\n",
    "print('Total count of words - ' + str(WORDSEVEN) + ' :' + str(WORDSEVEN_COUNT))\n",
    "print('Total count of words - ' + str(WORDEIGHT) + ' :' + str(WORDEIGHT_COUNT))\n",
    "print('Total count of words - ' + str(WORDNINE) + ' :' + str(WORDNINE_COUNT))\n",
    "print('Total count of words - ' + str(WORDTEN) + ' :' + str(WORDTEN_COUNT))\n",
    "print('Total Number of Records: ' + str(linecount)) \n",
    "\n",
    "\n",
    "APPENDED_DESCRIPTION = APPENDED_DESCRIPTION.replace('#', '')\n",
    "APPENDED_DESCRIPTION = APPENDED_DESCRIPTION.replace('.', '')\n",
    "APPENDED_DESCRIPTION = APPENDED_DESCRIPTION.replace(',', '')\n",
    "APPENDED_DESCRIPTION = APPENDED_DESCRIPTION.replace(',', '')\n",
    "\n",
    "\n",
    "\n",
    "\n",
    "from collections import Counter, OrderedDict\n",
    "DISC = APPENDED_DESCRIPTION.split()\n",
    "x = Counter(DISC)\n",
    "del x['⠀'],x['AND'],x['THE'],x['OF'],x['TO'],x['A'],x['IN'],x['&'],x['MY'],x['FOR'],x['I'],x['NOT'],x['IS'],x['ARE']\n",
    "del x['WITH'],x['ALL'],x['ON'],x['-'],x['YOU'],x['BY'],x['IT'],x['NO'],x['OR'],x['OWN'],x['THAT'],x['AT'],x['BE'],x['|'],x['WILL'],\n",
    "del x['BUT'],x['AN'],x['ABOUT'],x['AS'],x['FROM'],x['WHO'],x['ME'],x['WE'],x['HAVE'],x['OUR'],x['AM'],x['LIKE'],x['JUST']\n",
    "del x['THIS'],x['THEY'],x['IF'],x['HAS'],x['&AMP'],x['HAS'],x['CAN'],x['NOW'],x['SO'],x['ONLY'],x['WAS'],x['WHAT'],x['THEIR'],x['YOUR'],x['WOULD']\n",
    "del x['DO'],x['&AMP;'],x['ONE'],x['WANT'],x['BEEN'],x['THEM'],x['MORE'],x['/'],x['•'],x[\"I'M\"],x[''],x['']\n",
    "\n",
    "large_bio_desc = OrderedDict(x.most_common(50))\n",
    "top_bio_desc = OrderedDict(x.most_common(20))\n",
    "print('')\n",
    "print(top_bio_desc)\n"
   ]
  },
  {
   "cell_type": "markdown",
   "metadata": {},
   "source": [
    "## BIO TERM COMPARISON"
   ]
  },
  {
   "cell_type": "code",
   "execution_count": 109,
   "metadata": {
    "scrolled": false
   },
   "outputs": [
    {
     "data": {
      "image/png": "[encoded data removed]",
      "text/plain": [
       "<Figure size 1440x720 with 1 Axes>"
      ]
     },
     "metadata": {
      "needs_background": "light"
     },
     "output_type": "display_data"
    }
   ],
   "source": [
    "import matplotlib.pyplot as plt\n",
    "B = {str(WORDONE):int(WORDONE_COUNT), \n",
    "     str(WORDTWO):int(WORDTWO_COUNT),\n",
    "    str(WORDTHREE):int(WORDTHREE_COUNT),\n",
    "    str(WORDFOUR):int(WORDFOUR_COUNT),\n",
    "    str(WORDFIVE):int(WORDFIVE_COUNT)}\n",
    "\n",
    "\n",
    "\n",
    "plt.bar(range(len(B)), list(B.values()), align='center', alpha=0.5, color=('#ff8c66'),  edgecolor='blue')\n",
    "\n",
    "plt.xticks(range(len(B)), list(B.keys()), rotation='horizontal')\n",
    "plt.title(\"Tweeters Bio - Most popular Self Description\", fontsize=30)\n",
    "plt.ylabel('Number of Occurrences (thousands)', fontsize=18)\n",
    "#plt.xlabel('These are the words in which Tweeters describe themselves', horizontalalignment='left', position=(0,25), fontsize=18)\n",
    "plt.rcParams[\"figure.figsize\"] = (20,10)\n",
    "#plt.savefig(\"BESPOKE\", bbox_inches=\"tight\")\n",
    "\n",
    "exists = os.path.isfile('COMPARE.png')\n",
    "if exists:\n",
    "    os.remove(\"COMPARE.png\")\n",
    "\n",
    "\n",
    "\n",
    "plt.savefig(\"COMPARE\")\n",
    "plt.show()"
   ]
  },
  {
   "cell_type": "code",
   "execution_count": 110,
   "metadata": {},
   "outputs": [
    {
     "data": {
      "image/png": "[encoded data removed]",
      "text/plain": [
       "<Figure size 1440x720 with 1 Axes>"
      ]
     },
     "metadata": {
      "needs_background": "light"
     },
     "output_type": "display_data"
    }
   ],
   "source": [
    "import matplotlib.pyplot as plt\n",
    "\n",
    "D = top_bio_desc\n",
    "\n",
    "plt.bar(range(len(D)), list(D.values()), align='center', color=(0.1, 0.5, 1, 0.1),  edgecolor='blue')\n",
    "\n",
    "plt.xticks(range(len(D)), list(D.keys()), rotation='vertical', fontsize=20)\n",
    "plt.title(\"Tweeters Bio - Most popular Self Description\", fontsize=30)\n",
    "plt.ylabel('Number of Occurrences (thousands)', fontsize=18)\n",
    "plt.xlabel('These are the words in which Tweeters describe themselves', horizontalalignment='left', position=(0,25), fontsize=18)\n",
    "plt.rcParams[\"figure.figsize\"] = (20,10)\n",
    "\n",
    "\n",
    "exists = os.path.isfile('BIO.png')\n",
    "if exists:\n",
    "    os.remove(\"BIO.png\")\n",
    "\n",
    "\n",
    "plt.savefig(\"BIO\", bbox_inches=\"tight\")\n",
    "plt.show()"
   ]
  },
  {
   "cell_type": "markdown",
   "metadata": {
    "collapsed": true
   },
   "source": [
    "# SENTIMENT ANALYSIS \n",
    "\n",
    "The sentiment property returns a named tuple of the form Sentiment (polarity, subjectivity). The polarity score is a float within the range [-1.0, 1.0]. The subjectivity is a float within the range [0.0, 1.0] where 0.0 is very objective and 1.0 is very subjective.\n",
    "\n",
    "# Now the Theory\n",
    "Thanks to Siraj Raval and freecode camp for the sample here\n",
    "\n",
    "TextBlob\n",
    "TextBlob is a Python (2 and 3) library for processing textual data. It provides a simple API for diving into common natural language processing (NLP) tasks such as part-of-speech tagging, noun phrase extraction, sentiment analysis, classification, translation, and more.\n",
    "\n",
    "A textblob can be created in the following way (example, and not part of the original code):\n",
    "\n",
    "example = TextBlob(\"Python is a high-level, general-purpose programming language.\")\n",
    "And tokenization can be performed by the following methods:\n",
    "words: returns the words of text\n",
    "\n",
    "usage:\n",
    "\n",
    "example.words\n",
    "sentences: returns the sentences of text\n",
    "\n",
    "usage:\n",
    "\n",
    "example.sentences\n"
   ]
  },
  {
   "cell_type": "code",
   "execution_count": 111,
   "metadata": {},
   "outputs": [],
   "source": [
    "from textblob import TextBlob\n",
    "import tweepy\n",
    "\n",
    "VALUE = 'immigration'\n",
    "\n",
    "auth = tweepy.OAuthHandler(CONSUMER_KEY, CONSUMER_SECRET)\n",
    "auth.set_access_token(ACCESS_TOKEN, ACCESS_SECRET)\n",
    "api = tweepy.API(auth)"
   ]
  },
  {
   "cell_type": "code",
   "execution_count": 112,
   "metadata": {},
   "outputs": [],
   "source": [
    "public_tweets = api.search(VALUE)"
   ]
  },
  {
   "cell_type": "code",
   "execution_count": 113,
   "metadata": {},
   "outputs": [
    {
     "name": "stdout",
     "output_type": "stream",
     "text": [
      "RT @NotableDesister: Transgender women keep crossing the border with advanced HIV and then dying in ICE custody, but the deceptive headline…\n",
      "Sentiment(polarity=0.4, subjectivity=0.6)\n",
      "Subjective\n",
      "\n",
      "\n",
      "RT @HpsSara: Ne détruisez pas l’espoir de mon enfant . #article20pl9\n",
      "#Quebec_immigration_injustice\n",
      "@Cour_superieure\n",
      "@francoislegault\n",
      "@SJB_C…\n",
      "Sentiment(polarity=0.0, subjectivity=0.0)\n",
      "objective\n",
      "\n",
      "\n",
      "RT @nezami_raheleh: En supprimant 18 000 dossiers, le Québec ignorera non seulement 18 000 nouvelles opportunités qui pourraient aider l'éc…\n",
      "Sentiment(polarity=0.0, subjectivity=0.0)\n",
      "objective\n",
      "\n",
      "\n",
      "RT @charliekirk11: Joe Biden promises to make passing the Equality Act his number one priority when he’s in office\n",
      "\n",
      "Instead of:\n",
      "\n",
      "Stopping i…\n",
      "Sentiment(polarity=0.0, subjectivity=0.0)\n",
      "objective\n",
      "\n",
      "\n",
      "RT @EntezamVahid: Nous avons choisi le Québec comme communauté réglementée pour l'immigration.\n",
      "\n",
      "⛔️arrêter injustice⛔️\n",
      "#Quebec_immigration_i…\n",
      "Sentiment(polarity=0.0, subjectivity=0.0)\n",
      "objective\n",
      "\n",
      "\n",
      "RT @samaalizad: we stand for honesty\n",
      "we stand for justice\n",
      "(Martin luther King)\n",
      "#Quebec_immigration_injustice #nous_sommes_qualifiés_expérim…\n",
      "Sentiment(polarity=0.0, subjectivity=0.0)\n",
      "objective\n",
      "\n",
      "\n",
      "RT @manny_ottawa: Hey, @Colettod you want to take a stab at answering my 2 simple questions— perhaps you can kindly retweet to your followe…\n",
      "Sentiment(polarity=0.3, subjectivity=0.6285714285714286)\n",
      "Subjective\n",
      "\n",
      "\n",
      "We invite the enemy into our homes only to steal our precise secretes. No matter Immigration has always been the LO… https://t.co/JaEdHhlxx0\n",
      "Sentiment(polarity=0.2, subjectivity=0.9)\n",
      "Subjective\n",
      "\n",
      "\n",
      "RT @KayhanSomi: Maintenant, vous pouvez ouvrir vos yeux @SJB_CAQ  et voir ce qui est arrivé autour de vous par votre injustice\n",
      "@18000Dossie…\n",
      "Sentiment(polarity=0.0, subjectivity=0.0)\n",
      "objective\n",
      "\n",
      "\n",
      "RT @TruthLegal: Some Immigration and Nationality Fees Respite #Harrogate #solicitors #immigrationlaw https://t.co/8RYyDyCfrj https://t.co/u…\n",
      "Sentiment(polarity=0.0, subjectivity=0.0)\n",
      "objective\n",
      "\n",
      "\n",
      "objective_tweets : 70.0 %\n",
      "subjective_tweets : 30.0 %\n",
      "negitively_subjective tweets: 0.0 %\n",
      "Total sentiments: 10\n"
     ]
    }
   ],
   "source": [
    "objective_tweet=0\n",
    "subjective_tweet=0\n",
    "negitively_subjective=0\n",
    "for tweet in public_tweets:\n",
    "    print(tweet.text)\n",
    "    analysis = TextBlob(tweet.text)\n",
    "    print(analysis.sentiment)\n",
    "    if analysis.sentiment[0]>0:\n",
    "       subjective_tweet = subjective_tweet + 1\n",
    "       print('Subjective')\n",
    "    elif analysis.sentiment[0]<0:\n",
    "       negitively_subjective = negitively_subjective  + 1\n",
    "       print('Negatively subjective')\n",
    "    else:\n",
    "       objective_tweet = objective_tweet + 1\n",
    "       print('objective')\n",
    "    print('\\n')\n",
    "\n",
    "    \n",
    "sentiment_total = objective_tweet + subjective_tweet + negitively_subjective  \n",
    "\n",
    "objective_tweet = round(((objective_tweet/sentiment_total) * 100),2)\n",
    "subjective_tweet = round(((subjective_tweet/sentiment_total) * 100),2)\n",
    "negitively_subjective = round(((negitively_subjective/sentiment_total) * 100),2)\n",
    "\n",
    "\n",
    "\n",
    "\n",
    "\n",
    "\n",
    "print('objective_tweets : '+ str(objective_tweet) + \" %\")\n",
    "print('subjective_tweets : '+ str(subjective_tweet) + \" %\")\n",
    "print('negitively_subjective tweets: '+ str(negitively_subjective) + \" %\")\n",
    "print(\"Total sentiments: \" + str(sentiment_total))"
   ]
  },
  {
   "cell_type": "markdown",
   "metadata": {
    "collapsed": true
   },
   "source": [
    "# SAMPLE"
   ]
  },
  {
   "cell_type": "code",
   "execution_count": 114,
   "metadata": {},
   "outputs": [
    {
     "data": {
      "text/plain": [
       "\"RT @politico: Mexico's top officials said Trump’s plan to slap tariffs on Mexican goods will hurt both countries and weaken Mexico’s abilit…\""
      ]
     },
     "execution_count": 114,
     "metadata": {},
     "output_type": "execute_result"
    }
   ],
   "source": [
    "status_array[100]['text']"
   ]
  },
  {
   "cell_type": "markdown",
   "metadata": {},
   "source": [
    "# MOST REFERENCED PEOPLE"
   ]
  },
  {
   "cell_type": "code",
   "execution_count": 115,
   "metadata": {},
   "outputs": [
    {
     "name": "stdout",
     "output_type": "stream",
     "text": [
      "Number of times users were quoted :2817\n",
      "Most quoted users are : OrderedDict([('SJB_CAQ', 119), ('nili_negin', 108), ('18000Dossier', 104), ('LiberalQuebec', 97), ('ArthurSchwartz', 70)])\n",
      "\n"
     ]
    }
   ],
   "source": [
    "quote_count = 0\n",
    "quoted_users = []\n",
    "\n",
    "# USING FOLLOWING REDUCES TO ONLY IF QUOTED if status_array[current]['is_quote_status'] == True: \n",
    "\n",
    "for current in range(0, len(status_array)):\n",
    "    \"\"\"If quoted, then check mentions and append mention screen names to array\"\"\"\n",
    "    \n",
    "    if status_array[current]['entities']['user_mentions'] is not None:\n",
    "        for y in range(0, len(status_array[current]['entities']['user_mentions'])):\n",
    "            quoted_users.append(status_array[current]['entities']['user_mentions'][y]['screen_name'])\n",
    "\n",
    "                \n",
    "print(\"Number of times users were quoted :\" + str(len(quoted_users)))\n",
    "       \n",
    "quoteCounter = Counter(quoted_users)\n",
    "quoteCounted = OrderedDict(quoteCounter.most_common(5))\n",
    "\n",
    "\n",
    "print(\"Most quoted users are : \" + str(quoteCounted) + \"\\n\")   \n",
    "    \n",
    "reference_items = list(quoteCounted.items())\n",
    "\n"
   ]
  },
  {
   "cell_type": "markdown",
   "metadata": {
    "collapsed": true
   },
   "source": [
    "# GOOGLE TRENDS "
   ]
  },
  {
   "cell_type": "code",
   "execution_count": 116,
   "metadata": {},
   "outputs": [
    {
     "data": {
      "text/plain": [
       "\"\\nimport csv\\nimport matplotlib.pyplot as plt; plt.rcdefaults()\\nimport numpy as np\\nimport matplotlib.pyplot as plt\\n\\nwith open('multiTimeline.csv', newline='') as csvfile:\\n    data = list(csv.reader(csvfile))\\ngoogle =data[3:]\\n\\ndates = []\\nvalues = []\\nfor x in range(0, len(google)):\\n    dates.append(str(google[x][0]))\\n    values.append(google[x][1])\\n    \\n\\n\\n\\ny_pos = np.arange(len(dates))\\n\\n\\nplt.scatter(dates, values)\\n\\nplt.title('Google Trend Over time')\\nplt.ylabel('Popularity as % of Max')\\nplt.xticks(y_pos, dates, fontsize=10, rotation=30)\\nplt.locator_params(axis='x', nbins=6)\\nplt.locator_params(axis='Y', nbins=6)\\n\\nplt.show()\\n\""
      ]
     },
     "execution_count": 116,
     "metadata": {},
     "output_type": "execute_result"
    }
   ],
   "source": [
    "\"\"\"\n",
    "import csv\n",
    "import matplotlib.pyplot as plt; plt.rcdefaults()\n",
    "import numpy as np\n",
    "import matplotlib.pyplot as plt\n",
    "\n",
    "with open('multiTimeline.csv', newline='') as csvfile:\n",
    "    data = list(csv.reader(csvfile))\n",
    "google =data[3:]\n",
    "\n",
    "dates = []\n",
    "values = []\n",
    "for x in range(0, len(google)):\n",
    "    dates.append(str(google[x][0]))\n",
    "    values.append(google[x][1])\n",
    "    \n",
    "\n",
    "\n",
    "\n",
    "y_pos = np.arange(len(dates))\n",
    "\n",
    "\n",
    "plt.scatter(dates, values)\n",
    "\n",
    "plt.title('Google Trend Over time')\n",
    "plt.ylabel('Popularity as % of Max')\n",
    "plt.xticks(y_pos, dates, fontsize=10, rotation=30)\n",
    "plt.locator_params(axis='x', nbins=6)\n",
    "plt.locator_params(axis='Y', nbins=6)\n",
    "\n",
    "plt.show()\n",
    "\"\"\""
   ]
  },
  {
   "cell_type": "code",
   "execution_count": 117,
   "metadata": {},
   "outputs": [
    {
     "data": {
      "text/plain": [
       "'\\nimport csv\\nimport matplotlib.pyplot as plt; plt.rcdefaults()\\nimport numpy as np\\nimport matplotlib.pyplot as plt\\n\\nwith open(\\'geoMap.csv\\', newline=\\'\\') as csvfile:\\n    data = list(csv.reader(csvfile))\\ngoogle =data[3:]\\n\\nplaces = []\\nvalues = []\\nfor x in range(0, len(google)):\\n    places.append(str(google[x][0]))\\n    values.append(google[x][1])\\n    \\nplaces = places[0:5]\\nvalues = values[0:5]\\n\\n# this is for plotting purpose\\nindex = np.arange(len(places))\\nplt.barh(index, values)\\nplt.ylabel(\\'District\\', fontsize=10)\\nplt.xlabel(\\'Proportion Index\\', fontsize=10)\\nplt.yticks(index, places, fontsize=10, rotation=0)\\nplt.title(\\'Interest by subregion\\')\\nplt.savefig(\"gcompare\")\\nplt.show()\\n\\n'"
      ]
     },
     "execution_count": 117,
     "metadata": {},
     "output_type": "execute_result"
    }
   ],
   "source": [
    "\"\"\"\n",
    "import csv\n",
    "import matplotlib.pyplot as plt; plt.rcdefaults()\n",
    "import numpy as np\n",
    "import matplotlib.pyplot as plt\n",
    "\n",
    "with open('geoMap.csv', newline='') as csvfile:\n",
    "    data = list(csv.reader(csvfile))\n",
    "google =data[3:]\n",
    "\n",
    "places = []\n",
    "values = []\n",
    "for x in range(0, len(google)):\n",
    "    places.append(str(google[x][0]))\n",
    "    values.append(google[x][1])\n",
    "    \n",
    "places = places[0:5]\n",
    "values = values[0:5]\n",
    "\n",
    "# this is for plotting purpose\n",
    "index = np.arange(len(places))\n",
    "plt.barh(index, values)\n",
    "plt.ylabel('District', fontsize=10)\n",
    "plt.xlabel('Proportion Index', fontsize=10)\n",
    "plt.yticks(index, places, fontsize=10, rotation=0)\n",
    "plt.title('Interest by subregion')\n",
    "plt.savefig(\"gcompare\")\n",
    "plt.show()\n",
    "\n",
    "\"\"\""
   ]
  },
  {
   "cell_type": "markdown",
   "metadata": {},
   "source": [
    "# SCAN A TWEET FOR A GIVEN BIO "
   ]
  },
  {
   "cell_type": "code",
   "execution_count": 118,
   "metadata": {},
   "outputs": [
    {
     "name": "stdout",
     "output_type": "stream",
     "text": [
      "Number of matching tweets: 2\n",
      "Top 50 terms in their tweets: OrderedDict([('RT', 1), ('@SENJEFFMERKLEY:', 1), ('ILLEGAL.', 1), ('INHUMANE.', 1), ('THESE', 1), ('CHILDREN.', 1), ('NEEDS', 1), ('STOP.', 1), ('HTTPS://T.CO/VNM6CNYM7HRT', 1), ('@308SAIGA:', 1), ('VIEW', 1), (',,&GT;&GT;', 1), ('PROBLEM', 1), ('VIGOROUS', 1), ('BACKGROUND', 1), ('CHECKS', 1), ('WHEN', 1), ('COMES', 1), ('FIREARMS.', 1), ('WHILE', 1), (\"WE'RE\", 1), ('IT,', 1), ('LET…', 1)])\n"
     ]
    }
   ],
   "source": [
    "from collections import Counter, OrderedDict\n",
    "#PICK ONE \n",
    "\n",
    "CHOSEN_BIO_WORD = 'guns'\n",
    "\n",
    "\n",
    "CHOSEN_BIO_WORD = CHOSEN_BIO_WORD.upper()\n",
    "\n",
    "\n",
    "TARGETARRAY = []\n",
    "TARGETTWEET = \"\"\n",
    "linecount = 0\n",
    "for x in range(0, len(status_array)):\n",
    "    text = str(status_array[x]['text']).upper()\n",
    "    description = str(status_array[x]['user']['description']).upper()\n",
    "   \n",
    "    if str(description).count(str(CHOSEN_BIO_WORD)) >= 1:\n",
    "        TARGETARRAY.append(status_array[x])\n",
    "        TARGETTWEET = TARGETTWEET +  str(status_array[x]['text']).upper()\n",
    "\n",
    "\n",
    "\n",
    "DISC = TARGETTWEET.split()\n",
    "x = Counter(DISC)\n",
    "del x['⠀'],x['AND'],x['THE'],x['OF'],x['TO'],x['A'],x['IN'],x['&'],x['MY'],x['FOR'],x['I'],x['NOT'],x['IS'],x['ARE']\n",
    "del x['WITH'],x['ALL'],x['ON'],x['-'],x['YOU'],x['BY'],x['IT'],x['NO'],x['OR'],x['OWN'],x['THAT'],x['AT'],x['BE'],x['|'],x['WILL'],\n",
    "del x['BUT'],x['AN'],x['ABOUT'],x['AS'],x['FROM'],x['WHO'],x['ME'],x['WE'],x['HAVE'],x['OUR'],x['AM'],x['LIKE'],x['JUST']\n",
    "del x['THIS'],x['THEY'],x['IF'],x['HAS'],x['&AMP'],x['HAS'],x['CAN'],x['NOW'],x['SO'],x['ONLY'],x['WAS'],x['WHAT'],x['THEIR'],x['YOUR'],x['WOULD']\n",
    "del x['DO'],x['&AMP;'],x['ONE'],x['WANT'],x['BEEN'],x['THEM'],x['MORE'],x['/'],x['•'],x[\"I'M\"],x[''],x['']\n",
    "\n",
    "refinedTWEETS = OrderedDict(x.most_common(50))\n",
    "print(\"Number of matching tweets: \" + str(len(TARGETARRAY)))\n",
    "print(\"Top 50 terms in their tweets: \" + str(refinedTWEETS))"
   ]
  },
  {
   "cell_type": "markdown",
   "metadata": {},
   "source": [
    "# SCAN BIO FOR GIVEN TWEET"
   ]
  },
  {
   "cell_type": "code",
   "execution_count": 119,
   "metadata": {},
   "outputs": [
    {
     "name": "stdout",
     "output_type": "stream",
     "text": [
      "Number of matching tweets: 4\n",
      "Top 50 terms in their bio: OrderedDict([('INVESTIGATIVE', 1), ('JOURNALISM', 1), ('EXPERT', 1), ('ANALYSIS:', 1), ('CONSERVATIVE/#MAGA', 1), ('OPINIONS,', 1), ('NEWS,', 1), ('INSIGHTS,', 1), ('EDUCATION', 1), ('STRATEGIES.', 1), ('#BABYARMYPOLITICS,', 1), ('ELECTRICIAN/TELECOM,', 1), ('FRIEND', 1), ('REAL', 1), ('SCIENCE,', 1), ('PRACTICAL', 1), ('ENVIRONMENTALIST,', 1), ('STUDIED', 1), ('ENVIRONMENTAL', 1), ('SCIENCES,CAN', 1), ('FORCES', 1), ('VET,FAV', 1), ('VS', 1), ('PSALM32,', 1), ('MAKE', 1), ('DIRTLEGAL', 1), ('HIGH-SKILLED', 1), ('IMMIGRANT', 1), ('ASKING', 1), ('FAIRNESS', 1)])\n"
     ]
    }
   ],
   "source": [
    "from collections import Counter, OrderedDict\n",
    "#PICK ONE \n",
    "\n",
    "CHOSEN_TWEET_WORD = 'deport'\n",
    "\n",
    "\n",
    "CHOSEN_TWEET_WORD = CHOSEN_TWEET_WORD.upper()\n",
    "\n",
    "\n",
    "TARGETARRAY = []\n",
    "TARGETBIO = \"\"\n",
    "linecount = 0\n",
    "for x in range(0, len(status_array)):\n",
    "    text = str(status_array[x]['text']).upper()\n",
    "    description = str(status_array[x]['user']['description']).upper()\n",
    "   \n",
    "    if str(text).count(str(CHOSEN_TWEET_WORD)) >= 1:\n",
    "        TARGETARRAY.append(status_array[x])\n",
    "        TARGETBIO = TARGETBIO + str(status_array[x]['user']['description']).upper()\n",
    "\n",
    "\n",
    "\n",
    "DISC = TARGETBIO.split()\n",
    "x = Counter(DISC)\n",
    "del x['⠀'],x['AND'],x['THE'],x['OF'],x['TO'],x['A'],x['IN'],x['&'],x['MY'],x['FOR'],x['I'],x['NOT'],x['IS'],x['ARE']\n",
    "del x['WITH'],x['ALL'],x['ON'],x['-'],x['YOU'],x['BY'],x['IT'],x['NO'],x['OR'],x['OWN'],x['THAT'],x['AT'],x['BE'],x['|'],x['WILL'],\n",
    "del x['BUT'],x['AN'],x['ABOUT'],x['AS'],x['FROM'],x['WHO'],x['ME'],x['WE'],x['HAVE'],x['OUR'],x['AM'],x['LIKE'],x['JUST']\n",
    "del x['THIS'],x['THEY'],x['IF'],x['HAS'],x['&AMP'],x['HAS'],x['CAN'],x['NOW'],x['SO'],x['ONLY'],x['WAS'],x['WHAT'],x['THEIR'],x['YOUR'],x['WOULD']\n",
    "del x['DO'],x['&AMP;'],x['ONE'],x['WANT'],x['BEEN'],x['THEM'],x['MORE'],x['/'],x['•'],x[\"I'M\"],x[''],x['']\n",
    "\n",
    "refinedBio = OrderedDict(x.most_common(50))\n",
    "print(\"Number of matching tweets: \" + str(len(TARGETARRAY)))\n",
    "print(\"Top 50 terms in their bio: \" + str(refinedBio))"
   ]
  },
  {
   "cell_type": "markdown",
   "metadata": {},
   "source": [
    "# LINK BIO AND TWEET"
   ]
  },
  {
   "cell_type": "code",
   "execution_count": 120,
   "metadata": {},
   "outputs": [
    {
     "name": "stdout",
     "output_type": "stream",
     "text": [
      "OrderedDict([('DE', 423), ('LE', 330), ('LES', 273), ('QUEBEC_IMMIGRATION_INJUSTICE', 273), ('NOUS', 253), ('ET', 203), ('DU', 196), ('LA', 179), ('PAS', 174), ('AVONS', 162), ('QUÉBEC', 154), ('NE', 153), ('PL9', 149), ('QUE', 145), ('ARTICLE20PL9', 135), ('DES', 134), ('EN', 122), ('QUI', 119), ('VOUS', 116), ('@SJB_CAQ', 112), ('COUNTRY', 111), ('NOUS_SOMMES_QUALIFIÉS_EXPÉRIMENTÉS', 107), ('@NILI_NEGIN:', 100), ('EST', 94), ('À', 93), ('DOSSIERS', 90), ('@18000DOSSIER', 90), ('UNE', 88), ('POUR', 86), ('18', 83), ('000', 83), ('@LIBERALQUEBEC', 81), ('IL', 81), ('GETS', 79), ('ECONOMY', 72), ('DESTROY', 68), ('DOING', 68), ('@ARTHURSCHWARTZ:', 66), ('WEIRD', 66), ('THREATENING', 66), ('FOCUS', 66), ('DAMAGE', 66), ('THEY’RE', 66), ('L’IMMIGRATION', 64), ('NOS', 64), ('TRUMP', 64), ('@FRANCOISLEGAULT', 63), ('JUSTICE', 60), ('ILLEGAL', 59), ('18000', 58)])\n",
      "\n",
      "bio\n",
      "OrderedDict([('ENGINEER', 76), ('OFFSHORE', 47), ('RIGHTS', 46), ('BIEN', 44), ('DE', 43), ('VA', 43), ('SOMMES', 42), ('HUMAN', 41), ('QUE', 41), ('FEMINIST', 40), ('NATURE&MUSIC&ART&TRAVEL&COLOR&LOVE', 40), ('POUR', 40), ('SPORTS', 39), ('EST', 38), ('LOVE', 37), ('R&B', 35), ('CHAMPIONS', 35), (\"L'AVENIR\", 35), ('MEILLEUR', 35), ('MES', 35), ('CHILDREN', 34), ('ET', 33), ('INTERESTED', 32), ('MAGA', 31), ('SECULAR', 30), (';', 30), ('RIGHTSWOMEN', 30), ('RIGHTSANIMAL', 30), ('QUEBEC_IMMIGRATION_INJUSTICE', 30), ('18000DOSSIERS', 30), ('CONSERVATIVE', 30), ('TRUMP', 28), ('FAN', 26), ('NEWS', 24), ('WISHES', 24), ('LIFE', 22), ('GOD', 21), ('FOLLOW', 21), ('IMMIGRATION', 19), ('POLITICS', 19), ('WORLD', 18), ('LA', 18), ('TRUTH', 18), ('LAW', 18), ('US', 18), ('VIEWS', 17), ('CHRISTIAN', 17), ('JUSTICE', 17), ('AMERICA', 17), ('YEARS', 17)])\n"
     ]
    }
   ],
   "source": [
    "print(large_top_tweets)\n",
    "print(\"\")\n",
    "print(\"bio\")\n",
    "print(large_bio_desc)"
   ]
  },
  {
   "cell_type": "code",
   "execution_count": 121,
   "metadata": {},
   "outputs": [
    {
     "name": "stdout",
     "output_type": "stream",
     "text": [
      "No of matches : 2.22%\n",
      "RT @RagingGayCons: If the allegations of Ilhan Omar committing immigration fraud by marrying her brother are true, then her citizenship sho…\n",
      "\n",
      "Bio: \n",
      "Christian, Conservative, Animal Rescuer\n"
     ]
    }
   ],
   "source": [
    "#PICK TWO OR \n",
    "\n",
    "CHOSEN_WORD_ONE = ''\n",
    "BIO_CHOSEN_WORD_ONE = 'conservative'\n",
    "\n",
    "\n",
    "\n",
    "CHOSEN_WORD_ONE = CHOSEN_WORD_ONE.upper()\n",
    "BIO_CHOSEN_WORD_ONE = BIO_CHOSEN_WORD_ONE.upper()\n",
    "\n",
    "\n",
    "\n",
    "\n",
    "TARGETARRAY = []\n",
    "linecount = 0\n",
    "for x in range(0, len(status_array)):\n",
    "    text = str(status_array[x]['text']).upper()\n",
    "    description = str(status_array[x]['user']['description']).upper()\n",
    "   \n",
    "    if str(text).count(str(CHOSEN_WORD_ONE)) >= 1 and str(description).count(str(BIO_CHOSEN_WORD_ONE)) >= 1:\n",
    "        TARGETARRAY.append(status_array[x])\n",
    "\n",
    "\n",
    "match_percentage =  (len(TARGETARRAY)/len(status_array)) * 100\n",
    "match_percentage = round(match_percentage,2)\n",
    "print(\"No of matches : \" + str(match_percentage) + \"%\" )    \n",
    "print(TARGETARRAY[0]['text'])\n",
    "print(\"\")\n",
    "print('Bio: ')\n",
    "print(TARGETARRAY[0]['user']['description'])"
   ]
  },
  {
   "cell_type": "code",
   "execution_count": 122,
   "metadata": {},
   "outputs": [
    {
     "data": {
      "text/plain": [
       "'Sat Aug 09 16:50:00 +0000 2014'"
      ]
     },
     "execution_count": 122,
     "metadata": {},
     "output_type": "execute_result"
    }
   ],
   "source": [
    "status_array[1]['user']['created_at']"
   ]
  },
  {
   "cell_type": "markdown",
   "metadata": {},
   "source": [
    "# COUNT NEW USERS    "
   ]
  },
  {
   "cell_type": "code",
   "execution_count": 123,
   "metadata": {
    "scrolled": true
   },
   "outputs": [
    {
     "name": "stdout",
     "output_type": "stream",
     "text": [
      "No of Profiles newer than 10 days are : 4.21%\n"
     ]
    }
   ],
   "source": [
    "import time\n",
    "from datetime import datetime, timedelta\n",
    "present = datetime.now()\n",
    "\n",
    "timerange = 10\n",
    "\n",
    "\n",
    "\n",
    "newcount = 0\n",
    "\n",
    "for x in range(0, len(status_array)):\n",
    "    created_at = time.strftime('%Y-%m-%d %H:%M:%S', time.strptime(status_array[x]['user']['created_at'],'%a %b %d %H:%M:%S +0000 %Y'))\n",
    "    then = datetime.strptime(created_at, \"%Y-%m-%d %H:%M:%S\")\n",
    "    delta = datetime.now() - then\n",
    "    if delta.days < timerange:\n",
    "        newcount = newcount + 1\n",
    "        #print(status_array[x]['user']['created_at'])\n",
    "        #print(created_at)\n",
    "        #print(delta)\n",
    "\n",
    "        \n",
    "percentnewcount = (newcount/len(status_array)) * 100\n",
    "percentnewcount = round(percentnewcount,2)\n",
    "\n",
    "\n",
    "\n",
    "print(\"No of Profiles newer than \" + str(timerange) + \" days are : \" + str(percentnewcount) + \"%\")\n"
   ]
  },
  {
   "cell_type": "markdown",
   "metadata": {},
   "source": [
    "# COUNT FOLLOWERS"
   ]
  },
  {
   "cell_type": "code",
   "execution_count": 124,
   "metadata": {},
   "outputs": [
    {
     "name": "stdout",
     "output_type": "stream",
     "text": [
      "No of people with less than 10 followers :2.22%\n",
      "No of people with more than 1000000 followers :0.06%\n"
     ]
    }
   ],
   "source": [
    "count = 0 \n",
    "maxcount = 0\n",
    "followercount = 10\n",
    "maxfollowercount = 1000000\n",
    "\n",
    "for x in range(0, len(status_array)):\n",
    "    if status_array[x]['user']['followers_count'] < followercount:\n",
    "        count = count + 1 \n",
    "        \n",
    "    if status_array[x]['user']['followers_count'] > maxfollowercount:\n",
    "        maxcount = maxcount + 1 \n",
    "    \n",
    "percentcount = (count / len(status_array)) * 100\n",
    "percentcount = round(percentcount,2)\n",
    "\n",
    "\n",
    "maxpercentcount = (maxcount / len(status_array)) * 100\n",
    "maxpercentcount = round(maxpercentcount,2)\n",
    "\n",
    "print(\"No of people with less than \" + str(followercount) + \" followers :\" + str(percentcount) + \"%\")\n",
    "print(\"No of people with more than \" + str(maxfollowercount) + \" followers :\" + str(maxpercentcount) + \"%\")"
   ]
  },
  {
   "cell_type": "markdown",
   "metadata": {},
   "source": [
    "# MOST RETWEETED"
   ]
  },
  {
   "cell_type": "code",
   "execution_count": 125,
   "metadata": {},
   "outputs": [
    {
     "name": "stdout",
     "output_type": "stream",
     "text": [
      "The most retweeted user is: JaneOrLean\n",
      "Created on :Mon Jun 03 14:53:03 +0000 2019\n",
      "Their tweet was : RT @realDonaldTrump: On June 10th, the United States will impose a 5% Tariff on all goods coming into our Country from Mexico, until such t…\n",
      "No of retweets: 39448\n"
     ]
    }
   ],
   "source": [
    "import operator\n",
    "\n",
    "retweet_count = []\n",
    "\n",
    "for x in range(0, len(status_array)):\n",
    "    retweet_count.append(status_array[x]['retweet_count'])\n",
    "\n",
    "# Requires operator lib    \n",
    "index, value = max(enumerate(retweet_count), key=operator.itemgetter(1))\n",
    "\n",
    "if status_array[index]['retweet_count'] != value:\n",
    "    print('something went wrong')\n",
    "    \n",
    "most_retweeted = str(status_array[index]['text'])\n",
    "\n",
    "print(\"The most retweeted user is: \" + str(status_array[index]['user']['screen_name'])) \n",
    "print('Created on :' + str(status_array[index]['created_at']))\n",
    "print(\"Their tweet was : \" + str(most_retweeted))\n",
    "print(\"No of retweets: \" + str(value))"
   ]
  },
  {
   "cell_type": "markdown",
   "metadata": {},
   "source": [
    "# METRICS FOR USE"
   ]
  },
  {
   "cell_type": "code",
   "execution_count": 168,
   "metadata": {},
   "outputs": [
    {
     "name": "stdout",
     "output_type": "stream",
     "text": [
      "# MURCHIE85 TWITTER PROCESSING \n",
      "\n",
      "&#x1F34E; **TOPIC = \"Immigration\"**\n",
      "\n",
      "\n",
      "## AUTOMATED RESEARCH SUMMARY\n",
      "\n",
      "\n",
      "![image](https://i.dailymail.co.uk/i/pix/2017/05/20/00/035B04BB000003E8-0-image-a-6_1495235383029.jpg)\n",
      "\n",
      "<br></br>\n",
      "\n",
      "<div class=\"alert alert-block alert-danger\"><b> This repo is for pulling metrics on a given keyword or hashtag and performs a series of reporting and analysis.</b></div>\n",
      "\n",
      "\n",
      "\n",
      "\n",
      "![image](TWEETS.png)\n",
      "\n",
      "\n",
      "\n",
      "\n",
      "|                ** Sample-Tweets  **        |\n",
      "| :-------------: |\n",
      "| <div class=\"alert alert-block alert-warning\">RT @alextdaugherty: The Homestead detention center is located where Hurricane Andrew made landfall. The government won't tell you how it pl…</div><div class=\"alert alert-block alert-success\">RT @politico: Mexico's top officials said Trump’s plan to slap tariffs on Mexican goods will hurt both countries and weaken Mexico’s abilit…</div><div class=\"alert alert-block alert-info\">RT @NickMiroff: USCIS processed 28 percent more immigration cases and claims last year, 2018 report shows. Citizenship approvals hit 5-year…</div> |\n",
      "\n",
      "\n",
      "## GOOGLE SEARCH DEMOGRAPHICS \n",
      "\n",
      "Tweeting demographic           | Countries\n",
      ":-------------------------:|:-------------------------:\n",
      "![](maps.png)  |  ![](gcompare.png)\n",
      "<br>\n",
      "\n",
      "## RELATED TOPICS  & QUERIES \n",
      "\n",
      "topics          | searches\n",
      ":-------------------------:|:-------------------------:\n",
      "![](topic.png)  |  ![](query.png)\n",
      "\n",
      "<br>\n",
      "<br>\n",
      "\n",
      "\n",
      "## RELATED METRICS\n",
      "<br>\n",
      "\n",
      "| Metric | Value |\n",
      "| ------------- | ------------- |\n",
      "| #1 Most tweeted to  | **SJB_CAQ** |\n",
      "| #2 Most tweeted to  | **nili_negin** |\n",
      "| #3 Most tweeted to  | **18000Dossier** |\n",
      "| NewProfiles (less than 10 days) | 4.21%  |\n",
      "| Tweeters with < 10 followers  | 2.22%|\n",
      "| Tweeters with > 1000000 followers  | 0.06%  |\n",
      "\n",
      "\n",
      "<br>\n",
      "\n",
      "## MOST POPULAR TWEET TERMS \n",
      "<br>\n",
      "\n",
      "| Popularity Rank  | Term |\n",
      "| ------------- | ------------- |\n",
      "| first  | **DE**  |\n",
      "| second  | **LE**  |\n",
      "| third  | **LES** |\n",
      "| fourth  | **QUEBEC_IMMIGRATION_INJUSTICE**  |\n",
      "| fifth  | **NOUS**  |\n",
      "\n",
      "\n",
      "<br>\n",
      "\n",
      "![image](comparetweets.png)\n",
      "\n",
      "## Twitter Bio Analysis\n",
      "![image](BIO.png)\n",
      "\n",
      "### SENTIMENT ANALYSIS\n",
      "\n",
      "\n",
      "VIEWS WERE : **SUBJECTIVE**  (30.0%) & **NEGATIVELY-SUBJECTIVE** (0.0%) **OBJECTIVE** (70.0%)\n",
      "\n",
      "### TWEET SAMPLE \n",
      "\n",
      "Random value picked from array: \n",
      "\n",
      "<div class=\"alert alert-block alert-info\">RT @politico: Mexico's top officials said Trump’s plan to slap tariffs on Mexican goods will hurt both countries and weaken Mexico’s abilit…</div>\n",
      "\n",
      "### MOST RETWEETED\n",
      "\n",
      "<div class=\"alert alert-block alert-danger\"> RT @realDonaldTrump: On June 10th, the United States will impose a 5% Tariff on all goods coming into our Country from Mexico, until such t…</div>\n",
      "\n",
      "### CONCLUSION & EXTERNAL ANALYSIS\n",
      "\n",
      "*This is my [Adam McMurchie`s] opinion on the data from the tweets, it serves as no objective truth.Since the tweets themselves are a mixture of fact & opinion.\n",
      "<br>\n",
      "\n",
      "Authors analytical summary on request.\n",
      "\n",
      "**RECOMMENDATIONS** WILL BE UPDATED IN NEXT  24 HOURS \n",
      "<br>\n"
     ]
    }
   ],
   "source": [
    "topic = 'Immigration'\n",
    "image = 'https://i.dailymail.co.uk/i/pix/2017/05/20/00/035B04BB000003E8-0-image-a-6_1495235383029.jpg'\n",
    "\n",
    "#PRINT FORMAT\n",
    "print('# MURCHIE85 TWITTER PROCESSING ')\n",
    "print('')\n",
    "print('&#x1F34E; **TOPIC = \"' + str(topic) + '\"**')\n",
    "print('')\n",
    "print('')\n",
    "print('## AUTOMATED RESEARCH SUMMARY')\n",
    "print('')\n",
    "print('')\n",
    "print('![image](' + str(image) + ')')\n",
    "print('')\n",
    "print('<br></br>')\n",
    "print('')\n",
    "print('<div class=\"alert alert-block alert-danger\"><b> This repo is for pulling metrics on a given keyword or hashtag and performs a series of reporting and analysis.</b></div>')\n",
    "print('')\n",
    "print('')\n",
    "print('')\n",
    "print('') \n",
    "print('![image](TWEETS.png)')\n",
    "print('')\n",
    "print('')\n",
    "print('')\n",
    "print('')\n",
    "print('|                ** Sample-Tweets  **        |')\n",
    "print('| :-------------: |')\n",
    "print('| <div class=\"alert alert-block alert-warning\">' + str(status_array[10]['text']) + '</div><div class=\"alert alert-block alert-success\">' + str(status_array[100]['text']) + '</div><div class=\"alert alert-block alert-info\">' + str(status_array[70]['text']) + '</div> |')\n",
    "print('')\n",
    "print('')\n",
    "print('## GOOGLE SEARCH DEMOGRAPHICS ')\n",
    "print('')\n",
    "print('Tweeting demographic           | Countries')\n",
    "print(':-------------------------:|:-------------------------:')\n",
    "print('![](maps.png)  |  ![](gcompare.png)')\n",
    "print('<br>')\n",
    "print('')\n",
    "print('## RELATED TOPICS  & QUERIES ')\n",
    "print('')\n",
    "print('topics          | searches')\n",
    "print(':-------------------------:|:-------------------------:')\n",
    "print('![](topic.png)  |  ![](query.png)')\n",
    "print('')\n",
    "print('<br>')\n",
    "print('<br>')\n",
    "print('')\n",
    "print('')\n",
    "print('## RELATED METRICS')\n",
    "print('<br>')\n",
    "print('')\n",
    "print('| Metric | Value |')\n",
    "print('| ------------- | ------------- |')\n",
    "print('| #1 Most tweeted to  | **' + str(reference_items[0][0]) + '** |')\n",
    "print('| #2 Most tweeted to  | **' + str(reference_items[1][0]) + '** |')\n",
    "print('| #3 Most tweeted to  | **' + str(reference_items[2][0]) + '** |')\n",
    "print('| NewProfiles (less than 10 days) | ' + str(str(percentnewcount)) + '%  |')\n",
    "print('| Tweeters with < ' + str(followercount) + ' followers  | ' + str(percentcount) + '%|')\n",
    "print('| Tweeters with > ' + str(maxfollowercount) + ' followers  | '  + str(maxpercentcount) + '%  |')\n",
    "print('')\n",
    "print('')\n",
    "print('<br>')\n",
    "print('')\n",
    "print('## MOST POPULAR TWEET TERMS ')\n",
    "print('<br>')\n",
    "print('')\n",
    "print('| Popularity Rank  | Term |')\n",
    "print('| ------------- | ------------- |')\n",
    "print('| first  | **' + str(str(list(top_tweets)[0:1])).replace('[','').replace(']','').replace(\"'\",'') + '**  |')\n",
    "print('| second  | **' + str(str(list(top_tweets)[1:2])).replace('[','').replace(']','').replace(\"'\",'') + '**  |')\n",
    "print('| third  | **' + str(str(list(top_tweets)[2:3])).replace('[','').replace(']','').replace(\"'\",'') + '** |')\n",
    "print('| fourth  | **' + str(str(list(top_tweets)[3:4])).replace('[','').replace(']','').replace(\"'\",'') + '**  |')\n",
    "print('| fifth  | **' + str(str(list(top_tweets)[4:5])).replace('[','').replace(']','').replace(\"'\",'') + '**  |')\n",
    "print('')\n",
    "print('')\n",
    "print('<br>')\n",
    "print('')\n",
    "print('![image](comparetweets.png)')\n",
    "print('')\n",
    "print('## Twitter Bio Analysis')\n",
    "print('![image](BIO.png)')\n",
    "print('')\n",
    "print('### SENTIMENT ANALYSIS')\n",
    "print('')\n",
    "print('')\n",
    "print('VIEWS WERE : **SUBJECTIVE**  (' + str(subjective_tweet) + '%) & **NEGATIVELY-SUBJECTIVE** (' + str(negitively_subjective) + '%) **OBJECTIVE** (' + str(objective_tweet) +'%)')\n",
    "print('')\n",
    "print('### TWEET SAMPLE ')\n",
    "print('')\n",
    "print('Random value picked from array: ')\n",
    "print('')\n",
    "print('<div class=\"alert alert-block alert-info\">' + str(status_array[100]['text']) + '</div>')\n",
    "print('')\n",
    "print('### MOST RETWEETED')\n",
    "print('')\n",
    "print('<div class=\"alert alert-block alert-danger\"> ' + str(most_retweeted) + '</div>')\n",
    "print('')\n",
    "print('### CONCLUSION & EXTERNAL ANALYSIS')\n",
    "print('')\n",
    "print('*This is my [Adam McMurchie`s] opinion on the data from the tweets, it serves as no objective truth.Since the tweets themselves are a mixture of fact & opinion.')\n",
    "print('<br>')\n",
    "print('')\n",
    "print('Authors analytical summary on request.')\n",
    "print('')\n",
    "print('**RECOMMENDATIONS** WILL BE UPDATED IN NEXT  24 HOURS ')\n",
    "print('<br>')\n",
    "\n",
    "\n"
   ]
  },
  {
   "cell_type": "code",
   "execution_count": 153,
   "metadata": {},
   "outputs": [
    {
     "data": {
      "text/plain": [
       "'DE'"
      ]
     },
     "execution_count": 153,
     "metadata": {},
     "output_type": "execute_result"
    }
   ],
   "source": [
    "str(list(top_tweets)[0:1]).replace('[','').replace(']','').replace(\"'\",'')\n"
   ]
  },
  {
   "cell_type": "code",
   "execution_count": 19,
   "metadata": {},
   "outputs": [
    {
     "data": {
      "text/plain": [
       "100.0"
      ]
     },
     "execution_count": 19,
     "metadata": {},
     "output_type": "execute_result"
    }
   ],
   "source": [
    "\n",
    "\n",
    "<div class=\"alert alert-block alert-danger\">JackDeskins RT @adamcbest: Conservatives on abortion: We want a ban!, Conservatives on gay marriage: We want a ban!, Conservatives on immigration: We w…</div>"
   ]
  },
  {
   "cell_type": "code",
   "execution_count": null,
   "metadata": {},
   "outputs": [],
   "source": [
    "<div class=\"alert alert-block alert-danger\"> RT @RepJoeKennedy: Translation: the president just raised taxes on working families buying everything from cars to tomatoes. \n",
    " \n",
    "Why? Becaus…</div>\n",
    "\n",
    "\n"
   ]
  }
 ],
 "metadata": {
  "kernelspec": {
   "display_name": "Python 3",
   "language": "python",
   "name": "python3"
  },
  "language_info": {
   "codemirror_mode": {
    "name": "ipython",
    "version": 3
   },
   "file_extension": ".py",
   "mimetype": "text/x-python",
   "name": "python",
   "nbconvert_exporter": "python",
   "pygments_lexer": "ipython3",
   "version": "3.7.3"
  }
 },
 "nbformat": 4,
 "nbformat_minor": 2
}
