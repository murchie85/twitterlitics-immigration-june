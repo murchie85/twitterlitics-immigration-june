{
 "cells": [
  {
   "cell_type": "markdown",
   "metadata": {},
   "source": []
  },
  {
   "cell_type": "markdown",
   "metadata": {},
   "source": [
    "# TECHNICAL WALKTHROUGH \n",
    "[GENERATOR](#GENERATOR)\n",
    "\n",
    "<a id='HEAD'>''</a>\n",
    "\n",
    "## OVERVIEW\n",
    "\n",
    "**SKIP TO BOTTOM FOR FULL RESULTS & GRAPH BREAKDOWN **\n",
    "\n",
    "- Pulls live tweets from all over twitter \n",
    "- Imports Tweepy Library \n",
    "- Consumes Twitter API \n",
    "- Desgined to be keyword driven\n",
    "- All metrics can be captured\n",
    "- No limit on Runtime (best to terminate when you want)\n",
    "\n",
    "## Limitations & info\n",
    "1. LOCATION filter is tricky\n",
    "2. Streaming connects to the “public streams” (all public data) \n",
    "3. This is data provided by the Twitter API which accesses their database, the maintenence of DB and thus data quality is managed by Twitter\n",
    "\n",
    "Example of parameter setting done in stream filter \n",
    "\n",
    "```\n",
    "stream.filter(follow=[\"2211149702\"])\n",
    "```\n",
    "\n",
    "\n",
    "### AUTHOR : ADAM MCMURCHIE \n",
    "\n",
    "![image](https://s3.amazonaws.com/re-work-production/avatars/1104/original.png?1485507466)\n",
    "\n",
    "Github [here](https://github.com/murchie85)  \n",
    "\n",
    "Mysite [here](https://murchie85.github.io/)"
   ]
  },
  {
   "cell_type": "markdown",
   "metadata": {},
   "source": [
    "# AUTHENTICATION\n",
    "\n",
    "You will need to change f variable to point to your credentials file, I save mines in a text file and split the comma. Not uploaded to this repo obviously."
   ]
  },
  {
   "cell_type": "code",
   "execution_count": 4,
   "metadata": {},
   "outputs": [],
   "source": [
    "import datetime\n",
    "import os\n",
    "from ipywidgets import IntProgress\n",
    "from IPython.display import display\n",
    "from IPython.display import clear_output\n",
    "import time\n",
    "import sys\n",
    "# Import the necessary package to process data in JSON format\n",
    "try:\n",
    "    import json\n",
    "except ImportError:\n",
    "    import simplejson as json\n",
    "\n",
    "# Import the tweepy library\n",
    "import tweepy\n",
    "\n",
    "\n",
    "\n",
    "\n",
    "f = open(\"../donotgit/access.txt\", \"r\")\n",
    "keys = f.read()\n",
    "f.close()\n",
    "keys  = keys.split(',')\n",
    "#print(\"Access Keys are : \" + str(keys))\n",
    "ACCESS_TOKEN = keys[0]\n",
    "ACCESS_SECRET = keys[1]\n",
    "\n",
    "\n",
    "f = open(\"../donotgit/consumer.txt\", \"r\")\n",
    "keys = f.read()\n",
    "keys  = keys.split(',')\n",
    "#print(\"Consumer Keys are : \" + str(keys))\n",
    "CONSUMER_KEY = keys[0]\n",
    "CONSUMER_SECRET = keys[1]\n"
   ]
  },
  {
   "cell_type": "markdown",
   "metadata": {},
   "source": [
    "# TOPIC, SCANTYPE & PARAMETERS SELECTION\n",
    "<a id='PARAMS'></a>\n",
    "\n",
    "1. Select which topic you wish to scan for (You can use # or most special characters). \n",
    "2. Scantype means you can chose between pulling in tweets as they happen or pull down historical tweets so you can view things like number of retweets (as if it is realtime, there wont have been time for retweet)\n",
    "\n",
    "[JUMP TO TWEET SECTION](#TWEET)  \n",
    "[JUMP TO BIO](#BIO)\n"
   ]
  },
  {
   "cell_type": "code",
   "execution_count": 5,
   "metadata": {},
   "outputs": [],
   "source": [
    "TOPIC = 'Immigration'\n",
    "\n",
    "# Realtime = 1 Historical = 2\n",
    "scantype = 2\n",
    "image = 'https://i.dailymail.co.uk/i/pix/2017/05/20/00/035B04BB000003E8-0-image-a-6_1495235383029.jpg'\n",
    "\n",
    "# UPDATE THE TWEET TERMS YOU ARE INTERESTED IN \n",
    "TWEET_WORDONE='SAMPLE'\n",
    "TWEET_WORDTWO='SAMPLE'\n",
    "TWEET_WORDTHREE='SAMPLE'\n",
    "TWEET_WORDFOUR = 'SAMPLE'\n",
    "TWEET_WORDFIVE = 'SAMPLE'\n",
    "TWEET_WORDSIX = 'SAMPLE'\n",
    "TWEET_WORDSEVEN = 'SAMPLE'\n",
    "TWEET_WORDEIGHT = 'SAMPLE'\n",
    "TWEET_WORDNINE = 'SAMPLE'\n",
    "TWEET_WORDTEN = 'SAMPLE'\n",
    "\n",
    "\n",
    "# EXCLUDE WORDS FROM ANALYSIS\n",
    "tweet_delete_a = 'SAMPLE'\n",
    "tweet_delete_b = 'SAMPLE'\n",
    "tweet_delete_c = \"SAMPLE\"\n",
    "tweet_delete_d = 'SAMPLE'\n",
    "tweet_delete_e = 'SAMPLE'\n",
    "\n",
    "\n",
    "# UPDATE WITH WORDS YOU WANT TO INTERROGATE\n",
    "\n",
    "BIO_WORDONE='SAMPLE'\n",
    "BIO_WORDTWO='SAMPLE'\n",
    "BIO_WORDTHREE='SAMPLE'\n",
    "BIO_WORDFOUR = 'SAMPLE'\n",
    "BIO_WORDFIVE = 'SAMPLE'\n",
    "BIO_WORDSIX = 'SAMPLE'\n",
    "BIO_WORDSEVEN = 'SAMPLE'\n",
    "BIO_WORDEIGHT = 'SAMPLE'\n",
    "BIO_WORDNINE = 'SAMPLE'\n",
    "BIO_WORDTEN = 'SAMPLE'\n",
    "\n",
    "\n",
    "# SCAN A TWEET FOR A GIVEN BIO¶\n",
    "CHOSEN_BIO_WORD = 'proud'\n",
    "# SCAN BIO FOR GIVEN TWEET\n",
    "CHOSEN_TWEET_WORD = 'hate'\n",
    "\n",
    "# LINK BIO AND TWEET\n",
    "CHOSEN_TWEET_WORD_ONE = 'hate'\n",
    "BIO_CHOSEN_WORD_ONE = 'love'\n"
   ]
  },
  {
   "cell_type": "markdown",
   "metadata": {},
   "source": [
    "# REALTIME TWEETS\n",
    "\n",
    "This is where the magic happens, api authentication is set up, tweepy library is imported for the work and a class allow us to pull live data. This is appended to array for processing later. \n",
    "\n",
    "\n",
    "*NOTE* -   this will just keep running until you force terminate, i haven't added in a terminate loop yet."
   ]
  },
  {
   "cell_type": "code",
   "execution_count": 6,
   "metadata": {},
   "outputs": [
    {
     "ename": "RuntimeError",
     "evalue": "No active exception to reraise",
     "output_type": "error",
     "traceback": [
      "\u001b[0;31m---------------------------------------------------------------------------\u001b[0m",
      "\u001b[0;31mRuntimeError\u001b[0m                              Traceback (most recent call last)",
      "\u001b[0;32m<ipython-input-6-40078c51b918>\u001b[0m in \u001b[0;36m<module>\u001b[0;34m\u001b[0m\n\u001b[1;32m      1\u001b[0m \u001b[0;32mif\u001b[0m \u001b[0mscantype\u001b[0m \u001b[0;34m!=\u001b[0m \u001b[0;36m1\u001b[0m\u001b[0;34m:\u001b[0m\u001b[0;34m\u001b[0m\u001b[0;34m\u001b[0m\u001b[0m\n\u001b[0;32m----> 2\u001b[0;31m     \u001b[0;32mraise\u001b[0m\u001b[0;34m\u001b[0m\u001b[0;34m\u001b[0m\u001b[0m\n\u001b[0m\u001b[1;32m      3\u001b[0m \u001b[0;34m\u001b[0m\u001b[0m\n\u001b[1;32m      4\u001b[0m \u001b[0;34m\u001b[0m\u001b[0m\n\u001b[1;32m      5\u001b[0m \u001b[0;31m# Variables that contains the user credentials to access Twitter API\u001b[0m\u001b[0;34m\u001b[0m\u001b[0;34m\u001b[0m\u001b[0;34m\u001b[0m\u001b[0m\n",
      "\u001b[0;31mRuntimeError\u001b[0m: No active exception to reraise"
     ]
    }
   ],
   "source": [
    "if scantype != 1:\n",
    "    raise\n",
    "\n",
    "\n",
    "# Variables that contains the user credentials to access Twitter API \n",
    "# Captured earlier \n",
    "\n",
    "# Setup tweepy to authenticate with Twitter credentials:\n",
    "\n",
    "auth = tweepy.OAuthHandler(CONSUMER_KEY, CONSUMER_SECRET)\n",
    "auth.set_access_token(ACCESS_TOKEN, ACCESS_SECRET)\n",
    "\n",
    "# Create the api to connect to twitter with your creadentials\n",
    "api = tweepy.API(auth, wait_on_rate_limit=True, wait_on_rate_limit_notify=True, compression=True)\n",
    "\n",
    "status_array = []\n",
    "\n",
    "progress = 0\n",
    "max_count = 10000\n",
    "\n",
    "f = IntProgress(description='Processing:',min=0, max=max_count,) # instantiate the bar\n",
    "display(f) # display the bar\n",
    "\n",
    "\n",
    "\n",
    "\n",
    "class StreamListener(tweepy.StreamListener):\n",
    "    tweet_number=0   # class variable\n",
    "    \n",
    "\n",
    "\n",
    "    def on_status(self, status):\n",
    "        self.max_tweets=max_count # max number of tweets\n",
    "        self.tweet_number+=1   \n",
    "        f.value += 1 # signal to increment the progress bar\n",
    "        progress = (f.value/max_count) * 100\n",
    "        progress = format(progress, '.2f')\n",
    "        print('Progress: ' + str(progress) + \" %\")\n",
    "        clear_output(wait=True)\n",
    "        status_array.append(status._json)\n",
    "\n",
    "        if self.tweet_number>=self.max_tweets:\n",
    "            sys.exit('PROCESSING COMPLETE : '+str(self.max_tweets)+' tweets processed.')\n",
    "\n",
    "        \n",
    "    def on_error(self, status_code):\n",
    "        if status_code == 420:\n",
    "            return False\n",
    "\n",
    "stream_listener = StreamListener()\n",
    "stream = tweepy.Stream(auth=api.auth, listener=stream_listener)\n",
    "\n",
    "#print('Pulling down data.....')\n",
    "stream.filter(track=[TOPIC],languages=[\"en\"])\n",
    "\n",
    "\n"
   ]
  },
  {
   "cell_type": "markdown",
   "metadata": {},
   "source": [
    "# HISTORICAL TWEETS"
   ]
  },
  {
   "cell_type": "code",
   "execution_count": 7,
   "metadata": {
    "scrolled": true
   },
   "outputs": [
    {
     "name": "stdout",
     "output_type": "stream",
     "text": [
      "Processing complete\n"
     ]
    }
   ],
   "source": [
    "# HISTORICAL DATA SWITCHED OFF (IF YOU SWITCH ON, THEN SWITCH STREAM OFF ABOVE)\n",
    "\n",
    "if scantype != 2:\n",
    "    raise\n",
    "\n",
    "\n",
    "# Variables that contains the user credentials to access Twitter API \n",
    "# Captured earlier \n",
    "\n",
    "# Setup tweepy to authenticate with Twitter credentials:\n",
    "\n",
    "auth = tweepy.OAuthHandler(CONSUMER_KEY, CONSUMER_SECRET)\n",
    "auth.set_access_token(ACCESS_TOKEN, ACCESS_SECRET)\n",
    "\n",
    "# Create the api to connect to twitter with your creadentials\n",
    "api = tweepy.API(auth, wait_on_rate_limit=True, wait_on_rate_limit_notify=True, compression=True)\n",
    "\n",
    "\n",
    "\n",
    "\n",
    "\n",
    "\n",
    "\n",
    "\n",
    "\n",
    "status_array = []\n",
    "LOOP_COUNT = 0\n",
    "max_count = 10000\n",
    "\n",
    "\n",
    "# ------ENTER YOUR SERACH TERM HER E--------\n",
    "tweets = tweepy.Cursor(api.search, q=TOPIC, count=int(max_count))\n",
    "\n",
    "# TRACK PROGRESS\n",
    "f = IntProgress(min=0, max=max_count) # instantiate the bar\n",
    "display(f) # display the bar\n",
    "progress = 0\n",
    "\n",
    "print('Pulling down data.....')                    \n",
    "for tweet in tweets.items(int(max_count)):\n",
    "    f.value+=1 # signal to increment the progress bar\n",
    "    progress = (f.value/max_count) * 100\n",
    "    progress = format(progress, '.2f')\n",
    "    print('Progress: ' + str(progress) + \" %\")\n",
    "    clear_output(wait=True)\n",
    "    time.sleep(.1)\n",
    "    status_array.append(tweet._json)\n",
    "\n",
    "\n",
    "\n",
    "print('Processing complete')\n",
    "\n"
   ]
  },
  {
   "cell_type": "markdown",
   "metadata": {},
   "source": [
    "# QUICK PEEK"
   ]
  },
  {
   "cell_type": "code",
   "execution_count": 15,
   "metadata": {},
   "outputs": [
    {
     "name": "stdout",
     "output_type": "stream",
     "text": [
      "Number of records\n",
      "3262\n",
      "\n",
      "The data keys are : \n",
      "dict_keys(['created_at', 'id', 'id_str', 'text', 'truncated', 'entities', 'metadata', 'source', 'in_reply_to_status_id', 'in_reply_to_status_id_str', 'in_reply_to_user_id', 'in_reply_to_user_id_str', 'in_reply_to_screen_name', 'user', 'geo', 'coordinates', 'place', 'contributors', 'retweeted_status', 'is_quote_status', 'retweet_count', 'favorite_count', 'favorited', 'retweeted', 'lang'])\n",
      "\n"
     ]
    }
   ],
   "source": [
    "print('Number of records')\n",
    "print(len(status_array))\n",
    "print('')\n",
    "print('The data keys are : ')\n",
    "print(status_array[0].keys())\n",
    "print('')\n",
    "#print('An example element looks like: ')\n",
    "#print(status_array[0])"
   ]
  },
  {
   "cell_type": "markdown",
   "metadata": {},
   "source": [
    "# REPORT GENERATION\n",
    "\n",
    "**REMOVE** quotes to switch on reporting, you may need to create the folders listed below i.e. data folder description folder etc."
   ]
  },
  {
   "cell_type": "code",
   "execution_count": 16,
   "metadata": {
    "scrolled": true
   },
   "outputs": [
    {
     "data": {
      "text/plain": [
       "'\\ncurrentDT = datetime.datetime.now()\\nfilename = \"data/streamout-\" + str(currentDT) + \".txt\"\\n\\nprint(filename)\\n\\nwith open(filename, \\'w\\') as f:\\n    for item in status_array:\\n        f.write(\"%s\\n\" % item)\\nf.close()\\n\\n\\n# WRITE OUT FULL REPORT\\nreportfile = \"reports/printout-\"+ str(currentDT) + \".txt\"\\ndescriptionfile = \"data/description/printout-\"+ str(currentDT) + \".txt\"\\ntweetfile = \"data/tweet/printout-\"+ str(currentDT) + \".txt\"\\n\\nREPORTCOUNT = 0\\nwith open(reportfile, \\'w\\') as f:\\n    for y in range(0, len(status_array)):\\n        REPORTCOUNT = REPORTCOUNT + 1\\n        f.write(\\'************************************************************\\n\\')\\n        f.write(status_array[y][\\'text\\'])\\n        f.write(\\'------------------------------\\n\\')\\n        f.write(status_array[y][\\'created_at\\'])\\n        f.write(\\'------------------------------\\n\\')\\n        f.write(status_array[y][\\'user\\'][\\'name\\'])\\n        f.write(\\'------------------------------\\n\\')\\n        f.write(str(status_array[y][\\'user\\'][\\'location\\']))\\n        f.write(\\'------------------------------\\n\\')\\n        f.write(str(status_array[y][\\'user\\'][\\'description\\']))\\n        f.write(\\'--------------REPLY COUNT----------------\\n|\\')\\n        f.write(str(status_array[y][\\'reply_count\\']))\\n        f.write(\\'--------------RETWEET COUNT----------------\\n\\')\\n        f.write(str(status_array[y][\\'retweet_count\\']))\\n        f.write(\\'--------------RETWEETED?----------------\\n\\')\\n        f.write(str(status_array[y][\\'retweeted\\']))\\n        f.write(\\'--------------RETWEET COUNT----------------\\n\\')\\n        f.write(str(status_array[y][\\'retweet_count\\']))\\n        f.write(\\'--------------FAVOURITED----------------\\n\\')\\n        f.write(str(status_array[y][\\'favorited\\']))\\n        f.write(\\'--------------FAVOURITE COUNT----------------\\n\\')\\n        f.write(str(status_array[y][\\'favorite_count\\']))\\n        f.write(\\'\\n\\')\\n        f.write(\\'\\n\\')\\n    f.write(\\'number of records are : \\')\\n    f.write(str(REPORTCOUNT))\\n        \\nf.close()\\n    \\n    \\n# WRITE OUT ONLY DESCRIPTION\\n    \\nREPORTCOUNT = 0\\nwith open(descriptionfile, \\'w\\') as f:\\n    for y in range(0, len(status_array)):\\n        REPORTCOUNT = REPORTCOUNT + 1\\n        f.write(\\'************************************************************\\n\\')\\n        f.write(str(status_array[y][\\'user\\'][\\'description\\']))\\n        f.write(\\'\\n\\')\\n    f.write(\\'number of records are : \\')\\n    f.write(str(REPORTCOUNT))\\n        \\nf.close()\\n    \\n\\n# WRITE OUT ONLY TWEET\\n    \\nREPORTCOUNT = 0\\nwith open(tweetfile, \\'w\\') as f:\\n    for y in range(0, len(status_array)):\\n        REPORTCOUNT = REPORTCOUNT + 1\\n        f.write(\\'************************************************************\\n\\')\\n        f.write(status_array[y][\\'text\\'])\\n        f.write(\\'\\n\\')\\n    f.write(\\'number of records are : \\')\\n    f.write(str(REPORTCOUNT))\\n        \\nf.close()\\n\\n    \\n    \\n    \\n    \\n    \\nprint(\\'=========================SAMPLE OUTPUT================================\\')\\nprint(\\'************************************************************\\')\\nprint(status_array[0][\\'text\\'])\\nprint(\\'------------------------------\\')\\nprint(status_array[0][\\'created_at\\'])\\nprint(\\'------------------------------\\')\\nprint(status_array[0][\\'user\\'][\\'name\\'])\\nprint(\\'------------------------------\\')\\nprint(status_array[0][\\'user\\'][\\'location\\'])\\nprint(\\'------------------------------\\')\\nprint(status_array[0][\\'user\\'][\\'description\\'])\\nprint(\\'--------------REPLY COUNT----------------\\')\\nprint(status_array[0][\\'reply_count\\'])\\nprint(\\'--------------RETWEET COUNT----------------\\')\\nprint(status_array[0][\\'retweet_count\\'])\\nprint(\\'--------------RETWEETED?----------------\\') \\nprint(status_array[0][\\'retweeted\\'])\\nprint(\\'--------------RETWEET COUNT----------------\\')\\nprint(status_array[0][\\'retweet_count\\'])\\nprint(\\'--------------FAVOURITED----------------\\')\\nprint(status_array[0][\\'favorited\\'])\\nprint(\\'--------------FAVOURITE COUNT----------------\\')\\nprint(status_array[0][\\'favorite_count\\'])\\n'"
      ]
     },
     "execution_count": 16,
     "metadata": {},
     "output_type": "execute_result"
    }
   ],
   "source": [
    "# REMOVE QUOTES TO ACTIVATE \n",
    "# append to filename\n",
    "\"\"\"\n",
    "currentDT = datetime.datetime.now()\n",
    "filename = \"data/streamout-\" + str(currentDT) + \".txt\"\n",
    "\n",
    "print(filename)\n",
    "\n",
    "with open(filename, 'w') as f:\n",
    "    for item in status_array:\n",
    "        f.write(\"%s\\n\" % item)\n",
    "f.close()\n",
    "\n",
    "\n",
    "# WRITE OUT FULL REPORT\n",
    "reportfile = \"reports/printout-\"+ str(currentDT) + \".txt\"\n",
    "descriptionfile = \"data/description/printout-\"+ str(currentDT) + \".txt\"\n",
    "tweetfile = \"data/tweet/printout-\"+ str(currentDT) + \".txt\"\n",
    "\n",
    "REPORTCOUNT = 0\n",
    "with open(reportfile, 'w') as f:\n",
    "    for y in range(0, len(status_array)):\n",
    "        REPORTCOUNT = REPORTCOUNT + 1\n",
    "        f.write('************************************************************\\n')\n",
    "        f.write(status_array[y]['text'])\n",
    "        f.write('------------------------------\\n')\n",
    "        f.write(status_array[y]['created_at'])\n",
    "        f.write('------------------------------\\n')\n",
    "        f.write(status_array[y]['user']['name'])\n",
    "        f.write('------------------------------\\n')\n",
    "        f.write(str(status_array[y]['user']['location']))\n",
    "        f.write('------------------------------\\n')\n",
    "        f.write(str(status_array[y]['user']['description']))\n",
    "        f.write('--------------REPLY COUNT----------------\\n|')\n",
    "        f.write(str(status_array[y]['reply_count']))\n",
    "        f.write('--------------RETWEET COUNT----------------\\n')\n",
    "        f.write(str(status_array[y]['retweet_count']))\n",
    "        f.write('--------------RETWEETED?----------------\\n')\n",
    "        f.write(str(status_array[y]['retweeted']))\n",
    "        f.write('--------------RETWEET COUNT----------------\\n')\n",
    "        f.write(str(status_array[y]['retweet_count']))\n",
    "        f.write('--------------FAVOURITED----------------\\n')\n",
    "        f.write(str(status_array[y]['favorited']))\n",
    "        f.write('--------------FAVOURITE COUNT----------------\\n')\n",
    "        f.write(str(status_array[y]['favorite_count']))\n",
    "        f.write('\\n')\n",
    "        f.write('\\n')\n",
    "    f.write('number of records are : ')\n",
    "    f.write(str(REPORTCOUNT))\n",
    "        \n",
    "f.close()\n",
    "    \n",
    "    \n",
    "# WRITE OUT ONLY DESCRIPTION\n",
    "    \n",
    "REPORTCOUNT = 0\n",
    "with open(descriptionfile, 'w') as f:\n",
    "    for y in range(0, len(status_array)):\n",
    "        REPORTCOUNT = REPORTCOUNT + 1\n",
    "        f.write('************************************************************\\n')\n",
    "        f.write(str(status_array[y]['user']['description']))\n",
    "        f.write('\\n')\n",
    "    f.write('number of records are : ')\n",
    "    f.write(str(REPORTCOUNT))\n",
    "        \n",
    "f.close()\n",
    "    \n",
    "\n",
    "# WRITE OUT ONLY TWEET\n",
    "    \n",
    "REPORTCOUNT = 0\n",
    "with open(tweetfile, 'w') as f:\n",
    "    for y in range(0, len(status_array)):\n",
    "        REPORTCOUNT = REPORTCOUNT + 1\n",
    "        f.write('************************************************************\\n')\n",
    "        f.write(status_array[y]['text'])\n",
    "        f.write('\\n')\n",
    "    f.write('number of records are : ')\n",
    "    f.write(str(REPORTCOUNT))\n",
    "        \n",
    "f.close()\n",
    "\n",
    "    \n",
    "    \n",
    "    \n",
    "    \n",
    "    \n",
    "print('=========================SAMPLE OUTPUT================================')\n",
    "print('************************************************************')\n",
    "print(status_array[0]['text'])\n",
    "print('------------------------------')\n",
    "print(status_array[0]['created_at'])\n",
    "print('------------------------------')\n",
    "print(status_array[0]['user']['name'])\n",
    "print('------------------------------')\n",
    "print(status_array[0]['user']['location'])\n",
    "print('------------------------------')\n",
    "print(status_array[0]['user']['description'])\n",
    "print('--------------REPLY COUNT----------------')\n",
    "print(status_array[0]['reply_count'])\n",
    "print('--------------RETWEET COUNT----------------')\n",
    "print(status_array[0]['retweet_count'])\n",
    "print('--------------RETWEETED?----------------') \n",
    "print(status_array[0]['retweeted'])\n",
    "print('--------------RETWEET COUNT----------------')\n",
    "print(status_array[0]['retweet_count'])\n",
    "print('--------------FAVOURITED----------------')\n",
    "print(status_array[0]['favorited'])\n",
    "print('--------------FAVOURITE COUNT----------------')\n",
    "print(status_array[0]['favorite_count'])\n",
    "\"\"\"\n"
   ]
  },
  {
   "cell_type": "markdown",
   "metadata": {},
   "source": [
    "## TWEET NUMERICAL ANALYSIS\n",
    "\n",
    "[JUMP TO HEAD](#HEAD)  \n",
    "[JUMP TO PARAMS](#PARAMS)\n",
    "\n",
    "Change the below values to see how they rank in tweet frequency,  **YOU DON'T NEED TO WORRY ABOUT CASE SENSITIVITY IN WORDING**, that is covered in the code.\n"
   ]
  },
  {
   "cell_type": "code",
   "execution_count": 48,
   "metadata": {
    "scrolled": false
   },
   "outputs": [
    {
     "name": "stdout",
     "output_type": "stream",
     "text": [
      "Total count of words - MEXICO :28               0.86%\n",
      "Total count of words - TRUMP :2610              0.86%\n",
      "Total count of words - TARIFFS :26           0.8%\n",
      "Total count of words - ILLEGAL :4             0.12%\n",
      "Total count of words - BORDER :3             0.09%\n",
      "Total count of words - ASYLUM :0               0.0%\n",
      "Total count of words - HUMANITY :0            0.0%\n",
      "Total count of words - DEPORT :7           0.21%\n",
      "Total count of words - TERM :8             0.25%\n",
      "Total count of words - TERM :8               0.25%\n",
      "Total Number of Records: 3262\n",
      "\n",
      "Length of appended text array : 418802\n",
      "\n",
      "OrderedDict([('PRESIDENT', 639), ('LONDON', 372), ('UK', 372), ('QUEEN', 362), ('MAYOR', 270), ('DE', 264), ('@ROYALFAMILY:', 255), ('KHAN', 245), ('US', 240), ('FIRST', 218), ('LADY', 188), ('VISIT', 183), ('SADIQ', 171), ('ROYAL', 166), ('VIEW', 158), ('DISPLAY', 154), ('COLLECTION', 154), ('ITEMS', 152), ('PRINCE', 149), ('ILLUSTRATING', 147)])\n"
     ]
    }
   ],
   "source": [
    "WORDONE= TWEET_WORDONE.upper()\n",
    "WORDTWO= TWEET_WORDTWO.upper()\n",
    "WORDTHREE= TWEET_WORDTHREE.upper()\n",
    "WORDFOUR = TWEET_WORDFOUR.upper()\n",
    "WORDFIVE = TWEET_WORDFIVE.upper()\n",
    "WORDSIX = TWEET_WORDSIX.upper()\n",
    "WORDSEVEN = TWEET_WORDSEVEN.upper()\n",
    "WORDEIGHT = TWEET_WORDEIGHT.upper()\n",
    "WORDNINE = TWEET_WORDNINE.upper()\n",
    "WORDTEN = TWEET_WORDTEN.upper()\n",
    "\n",
    "\n",
    "\n",
    "\n",
    "\n",
    "\n",
    "WORDONE_COUNT = 0\n",
    "WORDTWO_COUNT = 0 \n",
    "WORDTHREE_COUNT = 0 \n",
    "WORDFOUR_COUNT = 0\n",
    "WORDFIVE_COUNT = 0\n",
    "WORDSIX_COUNT = 0\n",
    "WORDSEVEN_COUNT= 0\n",
    "WORDEIGHT_COUNT= 0\n",
    "WORDNINE_COUNT = 0\n",
    "WORDTEN_COUNT = 0\n",
    "\n",
    "\n",
    "\n",
    "\n",
    "linecount = 0\n",
    "APPENDED_TEXT = \"\"\n",
    "\n",
    "\n",
    "\n",
    "for x in range(0, len(status_array)):\n",
    "    linecount = linecount + 1\n",
    "    text = str(status_array[x]['text']).upper()\n",
    "    APPENDED_TEXT = APPENDED_TEXT + str(text)\n",
    "    \n",
    "    \n",
    "    if str(text).count(str(WORDONE)) >= 1:\n",
    "        WORDONE_COUNT = WORDONE_COUNT + 1\n",
    "    if str(text).count(str(WORDTWO)) >= 1:\n",
    "        WORDTWO_COUNT = WORDTWO_COUNT + 1\n",
    "    if str(text).count(str(WORDTHREE)) >= 1:\n",
    "        WORDTHREE_COUNT = WORDTHREE_COUNT + 1\n",
    "    if str(text).count(str(WORDFOUR)) >= 1:\n",
    "        WORDFOUR_COUNT = WORDFOUR_COUNT + 1\n",
    "    if str(text).count(str(WORDFIVE)) >= 1:\n",
    "        WORDFIVE_COUNT = WORDFIVE_COUNT + 1\n",
    "    if str(text).count(str(WORDSIX)) >= 1:\n",
    "        WORDSIX_COUNT = WORDSIX_COUNT + 1\n",
    "    if str(text).count(str(WORDSEVEN)) >= 1:\n",
    "        WORDSEVEN_COUNT = WORDSEVEN_COUNT + 1\n",
    "    if str(text).count(str(WORDEIGHT)) >= 1:\n",
    "        WORDEIGHT_COUNT = WORDEIGHT_COUNT + 1\n",
    "    if str(text).count(str(WORDNINE)) >= 1:\n",
    "        WORDNINE_COUNT = WORDNINE_COUNT + 1\n",
    "    if str(text).count(str(WORDTEN)) >= 1:\n",
    "        WORDTEN_COUNT = WORDTEN_COUNT + 1\n",
    "\n",
    "      \n",
    " \n",
    "\n",
    "\n",
    "WORDONE_COUNT_PERCENT = round(((WORDONE_COUNT/len(status_array))*100),2)\n",
    "WORDTWO_COUNT_PERCENT  = round(((WORDONE_COUNT/len(status_array))*100),2)\n",
    "WORDTHREE_COUNT_PERCENT  = round(((WORDTHREE_COUNT/len(status_array))*100),2)\n",
    "WORDFOUR_COUNT_PERCENT  = round(((WORDFOUR_COUNT/len(status_array))*100),2)\n",
    "WORDFIVE_COUNT_PERCENT  = round(((WORDFIVE_COUNT/len(status_array))*100),2)\n",
    "WORDSIX_COUNT_PERCENT  = round(((WORDSIX_COUNT/len(status_array))*100),2)\n",
    "WORDSEVEN_COUNT_PERCENT  = round(((WORDSEVEN_COUNT/len(status_array))*100),2)\n",
    "WORDEIGHT_COUNT_PERCENT  = round(((WORDEIGHT_COUNT/len(status_array))*100),2)\n",
    "WORDNINE_COUNT_PERCENT  = round(((WORDNINE_COUNT/len(status_array))*100),2)\n",
    "WORDTEN_COUNT_PERCENT  = round(((WORDTEN_COUNT/len(status_array))*100),2)\n",
    "        \n",
    "print('Total count of words - ' + str(WORDONE) + ' :' + str(WORDONE_COUNT) + \"               \" + str(WORDONE_COUNT_PERCENT) + \"%\")\n",
    "print('Total count of words - ' + str(WORDTWO) + ' :' + str(WORDTWO_COUNT) + \"              \" + str(WORDTWO_COUNT_PERCENT)+ \"%\")\n",
    "print('Total count of words - ' + str(WORDTHREE) + ' :' + str(WORDTHREE_COUNT) + \"           \" + str(WORDTHREE_COUNT_PERCENT)+ \"%\")\n",
    "print('Total count of words - ' + str(WORDFOUR) + ' :' + str(WORDFOUR_COUNT) + \"             \" + str(WORDFOUR_COUNT_PERCENT)+ \"%\")\n",
    "print('Total count of words - ' + str(WORDFIVE) + ' :' + str(WORDFIVE_COUNT) + \"             \" + str(WORDFIVE_COUNT_PERCENT)+ \"%\")\n",
    "print('Total count of words - ' + str(WORDSIX) + ' :' + str(WORDSIX_COUNT) + \"               \" + str(WORDSIX_COUNT_PERCENT)+ \"%\")\n",
    "print('Total count of words - ' + str(WORDSEVEN) + ' :' + str(WORDSEVEN_COUNT) + \"            \" + str(WORDSEVEN_COUNT_PERCENT)+ \"%\")\n",
    "print('Total count of words - ' + str(WORDEIGHT) + ' :' + str(WORDEIGHT_COUNT) + \"           \" + str(WORDEIGHT_COUNT_PERCENT)+ \"%\")\n",
    "print('Total count of words - ' + str(WORDNINE) + ' :' + str(WORDNINE_COUNT) + \"             \" + str(WORDNINE_COUNT_PERCENT)+ \"%\")\n",
    "print('Total count of words - ' + str(WORDTEN) + ' :' + str(WORDTEN_COUNT) + \"               \" + str(WORDTEN_COUNT_PERCENT)+ \"%\")\n",
    "print('Total Number of Records: ' + str(linecount)) \n",
    "\n",
    "\n",
    "APPENDED_TEXT = APPENDED_TEXT.replace('#', '')\n",
    "APPENDED_TEXT = APPENDED_TEXT.replace('.', '')\n",
    "APPENDED_TEXT = APPENDED_TEXT.replace(',', '')\n",
    "APPENDED_TEXT = APPENDED_TEXT.replace(',', '')\n",
    "\n",
    "\n",
    "\n",
    "print('')\n",
    "\n",
    "print(\"Length of appended text array : \" + str(len(APPENDED_TEXT)))\n",
    "\n",
    "print('')\n",
    "from collections import Counter, OrderedDict\n",
    "DISC = APPENDED_TEXT.split()\n",
    "x = Counter(DISC)\n",
    "del x['⠀'],x['AND'],x['THE'],x['OF'],x['TO'],x['A'],x['IN'],x['&'],x['MY'],x['FOR'],x['I'],x['NOT'],x['IS'],x['ARE']\n",
    "del x['WITH'],x['ALL'],x['ON'],x['-'],x['YOU'],x['BY'],x['IT'],x['NO'],x['OR'],x['OWN'],x['THAT'],x['AT'],x['BE'],x['|'],x['WILL'],\n",
    "del x['BUT'],x['AN'],x['ABOUT'],x['AS'],x['FROM'],x['WHO'],x['ME'],x['WE'],x['HAVE'],x['OUR'],x['AM'],x['LIKE'],x['JUST']\n",
    "del x['THIS'],x['THEY'],x['IF'],x['HAS'],x['&AMP'],x['HAS'],x['CAN'],x['NOW'],x['SO'],x['ONLY'],x['WAS'],x['WHAT'],x['THEIR'],x['YOUR'],x['WOULD']\n",
    "del x['DO'],x['&AMP;'],x['ONE'],x['WANT'],x['BEEN'],x['THEM'],x['MORE'],x['TODAY'],x['GET'],x['WHEN'],x['COMMENT'],x['HER'],x['SHE'],x['FURTHER']\n",
    "del x['HE'],x['HIS'],x['OUT'],x['HOW'],x['BECAUSE'],x['HIM'],x['WHY'],x['THINK'],x[\"IT'S\"],x['TAKE'],x['OVER'],x[''],x[''],\n",
    "del x['END'], x['ALSO'],x['SINCE'],x['END'],x['THAT'],x['UP'],x['IT’S'],x['SEE'],x['KNOW'],x['SHOULD'],x['HAD'],x['SAYS'],x['SAID'],x['DID'],x['—'],x['EVERY']\n",
    "del x['YOU'],x['J'],x['WERE'],x['THERE'],x['“YOU'],x['THOSE'],x['OFTEN'],x['RIGHT']\n",
    "\n",
    "\n",
    "\n",
    "#SPECIAL DELETE \n",
    "del x[tweet_delete_a],x[tweet_delete_b],x[tweet_delete_c],x[tweet_delete_d],x[tweet_delete_e]\n",
    "\n",
    "large_top_tweets = OrderedDict(x.most_common(50))\n",
    "top_tweets = OrderedDict(x.most_common(20))\n",
    "print(top_tweets)\n",
    "\n",
    "\n"
   ]
  },
  {
   "cell_type": "markdown",
   "metadata": {},
   "source": [
    "# TWEET VISUALIATION\n",
    "<a id='TWEET'></a>\n",
    "[JUMP TO HEAD](#HEAD)  \n",
    "[JUMP TO PARAMS](#PARAMS)"
   ]
  },
  {
   "cell_type": "code",
   "execution_count": 49,
   "metadata": {},
   "outputs": [
    {
     "data": {
      "image/png": "[encoded data removed]",
      "text/plain": [
       "<Figure size 1440x720 with 1 Axes>"
      ]
     },
     "metadata": {
      "needs_background": "light"
     },
     "output_type": "display_data"
    }
   ],
   "source": [
    "import os\n",
    "import matplotlib.pyplot as plt\n",
    "\n",
    "E = top_tweets\n",
    "one = (0.1, 0.1, 0.1, 0.1)\n",
    "two = (0.1, 0.1, 0.1, 0.1)\n",
    "three = (0.1, 0.1, 0.1, 0.1)\n",
    "four= (0.1, 0.1, 0.1, 0.1)\n",
    "five= (0.1, 0.1, 0.1, 0.1)\n",
    "six= (0.1, 0.1, 0.1, 0.1)\n",
    "seven= (0.1, 0.1, 0.1, 0.1)\n",
    "eight= (0.1, 0.1, 0.1, 0.1)\n",
    "nine= (0.1, 0.1, 0.1, 0.1)\n",
    "ten= (0.1, 0.1, 0.1, 0.1)\n",
    "eleven= (0.1, 0.1, 0.1, 0.1)\n",
    "twelve= (0.1, 0.1, 0.1, 0.1)\n",
    "thirteen= (0.1, 0.1, 0.1, 0.1)\n",
    "fourteen= (0.1, 0.1, 0.1, 0.1)\n",
    "fithteen= (0.1, 0.1, 0.1, 0.1)\n",
    "sixteen= (0.1, 0.1, 0.1, 0.1)\n",
    "seventeen= (0.1, 0.1, 0.1, 0.1)\n",
    "eighteen= (0.1, 0.1, 0.1, 0.1)\n",
    "nineteen= (0.1, 0.1, 0.1, 0.1)\n",
    "twenty= (0.1, 0.1, 0.1, 0.1)\n",
    "\n",
    "\n",
    "\n",
    "color_last = [one, two,three,four,five,six,seven,eight,nine,ten,eleven,twelve,thirteen,fourteen,fithteen,sixteen,seventeen,eighteen,nineteen,twenty]\n",
    "color = (0.1, 0.1, 0.1, 0.1)\n",
    "plt.bar(range(len(E)), list(E.values()), align='center', color=color_last,  edgecolor='blue')\n",
    "\n",
    "plt.xticks(range(len(E)), list(E.keys()), rotation='vertical', fontsize=20)\n",
    "plt.title(\"Most Frequently Tweeted Words\", fontsize=30)\n",
    "plt.ylabel('Number of Occurrences (thousands)', fontsize=20 )\n",
    "plt.xlabel('Tweeted term by Frequency', horizontalalignment='left', position=(0,25),fontsize=18)\n",
    "plt.rcParams[\"figure.figsize\"] = (20,10)\n",
    "\n",
    "exists = os.path.isfile('TWEETS.png')\n",
    "if exists:\n",
    "    os.remove(\"TWEETS.png\")\n",
    "\n",
    "    \n",
    "plt.savefig(\"TWEETS\", bbox_inches=\"tight\")\n",
    "plt.show()\n"
   ]
  },
  {
   "cell_type": "markdown",
   "metadata": {},
   "source": [
    "# TWEET COMPARISON"
   ]
  },
  {
   "cell_type": "code",
   "execution_count": 50,
   "metadata": {},
   "outputs": [
    {
     "data": {
      "image/png": "[encoded data removed]",
      "text/plain": [
       "<Figure size 1440x720 with 1 Axes>"
      ]
     },
     "metadata": {
      "needs_background": "light"
     },
     "output_type": "display_data"
    }
   ],
   "source": [
    "import matplotlib.pyplot as plt\n",
    "B = {str(WORDONE):int(WORDONE_COUNT), \n",
    "     str(WORDTWO):int(WORDTWO_COUNT),\n",
    "    str(WORDTHREE):int(WORDTHREE_COUNT),\n",
    "    str(WORDFOUR):int(WORDFOUR_COUNT),\n",
    "    str(WORDFIVE):int(WORDFIVE_COUNT)}\n",
    "\n",
    "\n",
    "\n",
    "plt.bar(range(len(B)), list(B.values()), align='center', alpha=0.5, color=('#ff8c66'),  edgecolor='blue')\n",
    "\n",
    "plt.xticks(range(len(B)), list(B.keys()), rotation='horizontal', fontsize=20)\n",
    "plt.title(\"Tweet Popular Tweet Word Comparison\", fontsize=30)\n",
    "plt.ylabel('Number of Occurrences (thousands)', fontsize=18)\n",
    "#plt.xlabel('These are the words in which Tweeters describe themselves', horizontalalignment='left', position=(0,25), fontsize=18)\n",
    "plt.rcParams[\"figure.figsize\"] = (20,10)\n",
    "#plt.savefig(\"BESPOKE\", bbox_inches=\"tight\")\n",
    "\n",
    "\n",
    "exists = os.path.isfile('comparetweets.png')\n",
    "if exists:\n",
    "    os.remove(\"comparetweets.png\")\n",
    "\n",
    "    \n",
    "plt.savefig(\"comparetweets\")\n",
    "plt.show()"
   ]
  },
  {
   "cell_type": "markdown",
   "metadata": {},
   "source": [
    "## USER DESCRIPTION NUMERICAL ANALYSIS\n",
    "\n",
    "Change the below values to see how they rank in tweet frequency **YOU DON'T NEED TO WORRY ABOUT CASE SENSITIVITY IN WORDING**, that is covered in the code."
   ]
  },
  {
   "cell_type": "code",
   "execution_count": 22,
   "metadata": {},
   "outputs": [
    {
     "name": "stdout",
     "output_type": "stream",
     "text": [
      "Total count of words - DEMOCRAT :82\n",
      "Total count of words - CONSERVATIVE :114\n",
      "Total count of words - REPUBLICAN :29\n",
      "Total count of words - MEXICAN :6\n",
      "Total count of words - AMERICAN :82\n",
      "Total count of words - LIBERAL :70\n",
      "Total count of words - TERM :5\n",
      "Total count of words - TERM :5\n",
      "Total count of words - TERM :5\n",
      "Total count of words - TERM :5\n",
      "Total Number of Records: 3262\n",
      "\n",
      "OrderedDict([('LOVE', 149), ('TRUMP', 139), ('MAGA', 127), ('DE', 106), ('PROUD', 87), ('FAN', 84), ('LOVER', 81), ('LIFE', 75), ('WORLD', 74), ('CONSERVATIVE', 74), ('POLITICS', 70), ('MOM', 67), ('GOD', 64), ('RESIST', 63), ('NEWS', 63), ('AMERICAN', 62), ('PEOPLE', 62), ('US', 61), ('MUSIC', 60), ('Y', 60)])\n"
     ]
    }
   ],
   "source": [
    "WORDONE= BIO_WORDONE.upper()\n",
    "WORDTWO= BIO_WORDTWO.upper()\n",
    "WORDTHREE= BIO_WORDTHREE.upper()\n",
    "WORDFOUR = BIO_WORDFOUR.upper()\n",
    "WORDFIVE = BIO_WORDFIVE.upper()\n",
    "WORDSIX = BIO_WORDSIX.upper()\n",
    "WORDSEVEN = BIO_WORDSEVEN.upper()\n",
    "WORDEIGHT = BIO_WORDEIGHT.upper()\n",
    "WORDNINE = BIO_WORDNINE.upper()\n",
    "WORDTEN = BIO_WORDTEN.upper()\n",
    "\n",
    "\n",
    "\n",
    "\n",
    "\n",
    "\n",
    "WORDONE_COUNT = 0\n",
    "WORDTWO_COUNT = 0 \n",
    "WORDTHREE_COUNT = 0 \n",
    "WORDFOUR_COUNT = 0\n",
    "WORDFIVE_COUNT = 0\n",
    "WORDSIX_COUNT = 0\n",
    "WORDSEVEN_COUNT= 0\n",
    "WORDEIGHT_COUNT= 0\n",
    "WORDNINE_COUNT = 0\n",
    "WORDTEN_COUNT = 0\n",
    "\n",
    "\n",
    "linecount = 0\n",
    "APPENDED_DESCRIPTION = \"\"\n",
    "\n",
    "\n",
    "\n",
    "for x in range(0, len(status_array)):\n",
    "    linecount = linecount + 1\n",
    "    description = str(status_array[x]['user']['description']).upper()\n",
    "    APPENDED_DESCRIPTION = APPENDED_DESCRIPTION + str(description)\n",
    "    \n",
    "    \n",
    "    if str(description).count(str(WORDONE)) >= 1:\n",
    "        WORDONE_COUNT = WORDONE_COUNT + 1\n",
    "    if str(description).count(str(WORDTWO)) >= 1:\n",
    "        WORDTWO_COUNT = WORDTWO_COUNT + 1\n",
    "    if str(description).count(str(WORDTHREE)) >= 1:\n",
    "        WORDTHREE_COUNT = WORDTHREE_COUNT + 1\n",
    "    if str(description).count(str(WORDFOUR)) >= 1:\n",
    "        WORDFOUR_COUNT = WORDFOUR_COUNT + 1\n",
    "    if str(description).count(str(WORDFIVE)) >= 1:\n",
    "        WORDFIVE_COUNT = WORDFIVE_COUNT + 1\n",
    "    if str(description).count(str(WORDSIX)) >= 1:\n",
    "        WORDSIX_COUNT = WORDSIX_COUNT + 1\n",
    "    if str(description).count(str(WORDSEVEN)) >= 1:\n",
    "        WORDSEVEN_COUNT = WORDSEVEN_COUNT + 1\n",
    "    if str(description).count(str(WORDEIGHT)) >= 1:\n",
    "        WORDEIGHT_COUNT = WORDEIGHT_COUNT + 1\n",
    "    if str(description).count(str(WORDNINE)) >= 1:\n",
    "        WORDNINE_COUNT = WORDNINE_COUNT + 1\n",
    "    if str(description).count(str(WORDTEN)) >= 1:\n",
    "        WORDTEN_COUNT = WORDTEN_COUNT + 1\n",
    "\n",
    "      \n",
    "      \n",
    "        \n",
    "print('Total count of words - ' + str(WORDONE) + ' :' + str(WORDONE_COUNT))\n",
    "print('Total count of words - ' + str(WORDTWO) + ' :' + str(WORDTWO_COUNT))\n",
    "print('Total count of words - ' + str(WORDTHREE) + ' :' + str(WORDTHREE_COUNT))\n",
    "print('Total count of words - ' + str(WORDFOUR) + ' :' + str(WORDFOUR_COUNT))\n",
    "print('Total count of words - ' + str(WORDFIVE) + ' :' + str(WORDFIVE_COUNT))\n",
    "print('Total count of words - ' + str(WORDSIX) + ' :' + str(WORDSIX_COUNT))\n",
    "print('Total count of words - ' + str(WORDSEVEN) + ' :' + str(WORDSEVEN_COUNT))\n",
    "print('Total count of words - ' + str(WORDEIGHT) + ' :' + str(WORDEIGHT_COUNT))\n",
    "print('Total count of words - ' + str(WORDNINE) + ' :' + str(WORDNINE_COUNT))\n",
    "print('Total count of words - ' + str(WORDTEN) + ' :' + str(WORDTEN_COUNT))\n",
    "print('Total Number of Records: ' + str(linecount)) \n",
    "\n",
    "\n",
    "APPENDED_DESCRIPTION = APPENDED_DESCRIPTION.replace('#', '')\n",
    "APPENDED_DESCRIPTION = APPENDED_DESCRIPTION.replace('.', '')\n",
    "APPENDED_DESCRIPTION = APPENDED_DESCRIPTION.replace(',', '')\n",
    "APPENDED_DESCRIPTION = APPENDED_DESCRIPTION.replace(',', '')\n",
    "\n",
    "\n",
    "\n",
    "\n",
    "from collections import Counter, OrderedDict\n",
    "DISC = APPENDED_DESCRIPTION.split()\n",
    "x = Counter(DISC)\n",
    "del x['⠀'],x['AND'],x['THE'],x['OF'],x['TO'],x['A'],x['IN'],x['&'],x['MY'],x['FOR'],x['I'],x['NOT'],x['IS'],x['ARE']\n",
    "del x['WITH'],x['ALL'],x['ON'],x['-'],x['YOU'],x['BY'],x['IT'],x['NO'],x['OR'],x['OWN'],x['THAT'],x['AT'],x['BE'],x['|'],x['WILL'],\n",
    "del x['BUT'],x['AN'],x['ABOUT'],x['AS'],x['FROM'],x['WHO'],x['ME'],x['WE'],x['HAVE'],x['OUR'],x['AM'],x['LIKE'],x['JUST']\n",
    "del x['THIS'],x['THEY'],x['IF'],x['HAS'],x['&AMP'],x['HAS'],x['CAN'],x['NOW'],x['SO'],x['ONLY'],x['WAS'],x['WHAT'],x['THEIR'],x['YOUR'],x['WOULD']\n",
    "del x['DO'],x['&AMP;'],x['ONE'],x['WANT'],x['BEEN'],x['THEM'],x['MORE'],x['/'],x['•'],x[\"I'M\"],x[''],x['']\n",
    "\n",
    "large_bio_desc = OrderedDict(x.most_common(50))\n",
    "top_bio_desc = OrderedDict(x.most_common(20))\n",
    "print('')\n",
    "print(top_bio_desc)\n"
   ]
  },
  {
   "cell_type": "markdown",
   "metadata": {},
   "source": [
    "# BIO VISUALIATION\n",
    "\n",
    "<a id='BIO'></a>\n",
    "[JUMP TO HEAD](#HEAD)  \n",
    "[JUMP TO PARAMS](#PARAMS)"
   ]
  },
  {
   "cell_type": "code",
   "execution_count": 23,
   "metadata": {
    "scrolled": true
   },
   "outputs": [
    {
     "data": {
      "image/png": "[encoded data removed]",
      "text/plain": [
       "<Figure size 1440x720 with 1 Axes>"
      ]
     },
     "metadata": {
      "needs_background": "light"
     },
     "output_type": "display_data"
    }
   ],
   "source": [
    "import matplotlib.pyplot as plt\n",
    "\n",
    "D = top_bio_desc\n",
    "\n",
    "plt.bar(range(len(D)), list(D.values()), align='center', color=(0.1, 0.5, 1, 0.1),  edgecolor='blue')\n",
    "\n",
    "plt.xticks(range(len(D)), list(D.keys()), rotation='vertical', fontsize=20)\n",
    "plt.title(\"Tweeters Bio - Most popular Self Description\", fontsize=30)\n",
    "plt.ylabel('Number of Occurrences (thousands)', fontsize=18)\n",
    "plt.xlabel('These are the words in which Tweeters describe themselves', horizontalalignment='left', position=(0,25), fontsize=18)\n",
    "plt.rcParams[\"figure.figsize\"] = (20,10)\n",
    "\n",
    "\n",
    "exists = os.path.isfile('BIO.png')\n",
    "if exists:\n",
    "    os.remove(\"BIO.png\")\n",
    "\n",
    "\n",
    "plt.savefig(\"BIO\", bbox_inches=\"tight\")\n",
    "plt.show()"
   ]
  },
  {
   "cell_type": "markdown",
   "metadata": {},
   "source": [
    "## BIO TERM COMPARISON"
   ]
  },
  {
   "cell_type": "code",
   "execution_count": 24,
   "metadata": {
    "scrolled": false
   },
   "outputs": [
    {
     "data": {
      "image/png": "[encoded data removed]",
      "text/plain": [
       "<Figure size 1440x720 with 1 Axes>"
      ]
     },
     "metadata": {
      "needs_background": "light"
     },
     "output_type": "display_data"
    }
   ],
   "source": [
    "import matplotlib.pyplot as plt\n",
    "B = {str(WORDONE):int(WORDONE_COUNT), \n",
    "     str(WORDTWO):int(WORDTWO_COUNT),\n",
    "    str(WORDTHREE):int(WORDTHREE_COUNT),\n",
    "    str(WORDFOUR):int(WORDFOUR_COUNT),\n",
    "    str(WORDFIVE):int(WORDFIVE_COUNT)}\n",
    "\n",
    "\n",
    "\n",
    "plt.bar(range(len(B)), list(B.values()), align='center', alpha=0.5, color=('#ff8c66'),  edgecolor='blue')\n",
    "\n",
    "plt.xticks(range(len(B)), list(B.keys()), rotation='horizontal')\n",
    "plt.title(\"Tweeters Bio - Most popular Self Description\", fontsize=30)\n",
    "plt.ylabel('Number of Occurrences (thousands)', fontsize=18)\n",
    "#plt.xlabel('These are the words in which Tweeters describe themselves', horizontalalignment='left', position=(0,25), fontsize=18)\n",
    "plt.rcParams[\"figure.figsize\"] = (20,10)\n",
    "#plt.savefig(\"BESPOKE\", bbox_inches=\"tight\")\n",
    "\n",
    "exists = os.path.isfile('COMPARE.png')\n",
    "if exists:\n",
    "    os.remove(\"COMPARE.png\")\n",
    "\n",
    "\n",
    "\n",
    "plt.savefig(\"COMPARE\")\n",
    "plt.show()"
   ]
  },
  {
   "cell_type": "markdown",
   "metadata": {
    "collapsed": true
   },
   "source": [
    "# SENTIMENT ANALYSIS \n",
    "\n",
    "The sentiment property returns a named tuple of the form Sentiment (polarity, subjectivity). The polarity score is a float within the range [-1.0, 1.0]. The subjectivity is a float within the range [0.0, 1.0] where 0.0 is very objective and 1.0 is very subjective.\n",
    "\n",
    "# Now the Theory\n",
    "Thanks to Siraj Raval and freecode camp for the sample here\n",
    "\n",
    "TextBlob\n",
    "TextBlob is a Python (2 and 3) library for processing textual data. It provides a simple API for diving into common natural language processing (NLP) tasks such as part-of-speech tagging, noun phrase extraction, sentiment analysis, classification, translation, and more.\n",
    "\n",
    "A textblob can be created in the following way (example, and not part of the original code):\n",
    "\n",
    "example = TextBlob(\"Python is a high-level, general-purpose programming language.\")\n",
    "And tokenization can be performed by the following methods:\n",
    "words: returns the words of text\n",
    "\n",
    "usage:\n",
    "\n",
    "example.words\n",
    "sentences: returns the sentences of text\n",
    "\n",
    "usage:\n",
    "\n",
    "example.sentences\n"
   ]
  },
  {
   "cell_type": "code",
   "execution_count": 26,
   "metadata": {},
   "outputs": [],
   "source": [
    "from textblob import TextBlob\n",
    "import tweepy\n",
    "\n",
    "VALUE = TOPIC\n",
    "\n",
    "auth = tweepy.OAuthHandler(CONSUMER_KEY, CONSUMER_SECRET)\n",
    "auth.set_access_token(ACCESS_TOKEN, ACCESS_SECRET)\n",
    "api = tweepy.API(auth)"
   ]
  },
  {
   "cell_type": "code",
   "execution_count": 27,
   "metadata": {},
   "outputs": [],
   "source": [
    "public_tweets = api.search(VALUE)"
   ]
  },
  {
   "cell_type": "code",
   "execution_count": 28,
   "metadata": {},
   "outputs": [
    {
     "name": "stdout",
     "output_type": "stream",
     "text": [
      "RT @lopezobrador_: Agradezco la solidaridad de ricos y pobres, de la inmensa mayoría de los mexicanos en el tema de las tarifas que quiere…\n",
      "Sentiment(polarity=0.0, subjectivity=0.0)\n",
      "objective\n",
      "\n",
      "\n",
      "RT @LEBassett: The trolling in London is vicious as Trump arrives https://t.co/qJlFvYYDR4\n",
      "Sentiment(polarity=-1.0, subjectivity=1.0)\n",
      "Negatively subjective\n",
      "\n",
      "\n",
      "@LisaRago1 @SassBaller Also animals. When Trump married his first wife she had a poodle. The dog couldn’t stand Trump.\n",
      "Sentiment(polarity=0.25, subjectivity=0.29166666666666663)\n",
      "Subjective\n",
      "\n",
      "\n",
      "RT @RoyalFamily: The Queen, President Trump and the First Lady view a display of items from the Royal Collection illustrating the enduring…\n",
      "Sentiment(polarity=0.25, subjectivity=0.3333333333333333)\n",
      "Subjective\n",
      "\n",
      "\n",
      "RT @TalbertSwan: \"Resist Trump. Resist Racism. Resist Cruelty. Resist Hate. Resist Sexism.\"\n",
      "\n",
      "Protest banners were hung from London's Vauxha…\n",
      "Sentiment(polarity=-0.8, subjectivity=0.9)\n",
      "Negatively subjective\n",
      "\n",
      "\n",
      "RT @funder: Trump should resign right now. Retweet if you agree. #TrumpResignNOW\n",
      "Sentiment(polarity=0.2857142857142857, subjectivity=0.5357142857142857)\n",
      "Subjective\n",
      "\n",
      "\n",
      "RT @TalbertSwan: \"Resist Trump. Resist Racism. Resist Cruelty. Resist Hate. Resist Sexism.\"\n",
      "\n",
      "Protest banners were hung from London's Vauxha…\n",
      "Sentiment(polarity=-0.8, subjectivity=0.9)\n",
      "Negatively subjective\n",
      "\n",
      "\n",
      "'Unmasked' co-author Brent Bozell says ‘radicalized’ media wanted to destroy Trump, but it backfired | Fox News https://t.co/T0RPeJZoTt\n",
      "Sentiment(polarity=-0.2, subjectivity=0.0)\n",
      "Negatively subjective\n",
      "\n",
      "\n",
      "RT @C_3C_3: When President Obama traveled overseas he apologized to the countries that have been ripping off the United States for decades.…\n",
      "Sentiment(polarity=0.0, subjectivity=0.0)\n",
      "objective\n",
      "\n",
      "\n",
      "RT @pollsofpolitics: If it's @JoeBiden vs @realDonaldTrump in the #2020Election for #POTUS who gets your vote??\n",
      "\n",
      "Please vote and retweet to…\n",
      "Sentiment(polarity=0.0, subjectivity=0.0)\n",
      "objective\n",
      "\n",
      "\n",
      "RT @gregolear: Of course Trump doesn't want to be impeached. Impeachment means a lot of fancy public hearings, and then a trial in the Sena…\n",
      "Sentiment(polarity=0.0, subjectivity=0.06666666666666667)\n",
      "objective\n",
      "\n",
      "\n",
      "objective_tweets : 36.36 %\n",
      "subjective_tweets : 27.27 %\n",
      "negitively_subjective tweets: 36.36 %\n",
      "Total sentiments: 11\n"
     ]
    }
   ],
   "source": [
    "objective_tweet=0\n",
    "subjective_tweet=0\n",
    "negitively_subjective=0\n",
    "for tweet in public_tweets:\n",
    "    print(tweet.text)\n",
    "    analysis = TextBlob(tweet.text)\n",
    "    print(analysis.sentiment)\n",
    "    if analysis.sentiment[0]>0:\n",
    "       subjective_tweet = subjective_tweet + 1\n",
    "       print('Subjective')\n",
    "    elif analysis.sentiment[0]<0:\n",
    "       negitively_subjective = negitively_subjective  + 1\n",
    "       print('Negatively subjective')\n",
    "    else:\n",
    "       objective_tweet = objective_tweet + 1\n",
    "       print('objective')\n",
    "    print('\\n')\n",
    "\n",
    "    \n",
    "sentiment_total = objective_tweet + subjective_tweet + negitively_subjective  \n",
    "\n",
    "objective_tweet = round(((objective_tweet/sentiment_total) * 100),2)\n",
    "subjective_tweet = round(((subjective_tweet/sentiment_total) * 100),2)\n",
    "negitively_subjective = round(((negitively_subjective/sentiment_total) * 100),2)\n",
    "\n",
    "\n",
    "\n",
    "\n",
    "\n",
    "\n",
    "print('objective_tweets : '+ str(objective_tweet) + \" %\")\n",
    "print('subjective_tweets : '+ str(subjective_tweet) + \" %\")\n",
    "print('negitively_subjective tweets: '+ str(negitively_subjective) + \" %\")\n",
    "print(\"Total sentiments: \" + str(sentiment_total))"
   ]
  },
  {
   "cell_type": "markdown",
   "metadata": {
    "collapsed": true
   },
   "source": [
    "# SAMPLE"
   ]
  },
  {
   "cell_type": "code",
   "execution_count": 29,
   "metadata": {},
   "outputs": [
    {
     "data": {
      "text/plain": [
       "'RT @lopezobrador_: Agradezco la solidaridad de ricos y pobres, de la inmensa mayoría de los mexicanos en el tema de las tarifas que quiere…'"
      ]
     },
     "execution_count": 29,
     "metadata": {},
     "output_type": "execute_result"
    }
   ],
   "source": [
    "status_array[100]['text']"
   ]
  },
  {
   "cell_type": "markdown",
   "metadata": {},
   "source": [
    "# MOST REFERENCED PEOPLE"
   ]
  },
  {
   "cell_type": "code",
   "execution_count": 30,
   "metadata": {},
   "outputs": [
    {
     "name": "stdout",
     "output_type": "stream",
     "text": [
      "Number of times users were quoted :3776\n",
      "Most quoted users are : OrderedDict([('RoyalFamily', 271), ('realDonaldTrump', 162), ('SadiqKhan', 94), ('funder', 92), ('AOC', 83)])\n",
      "\n"
     ]
    }
   ],
   "source": [
    "quote_count = 0\n",
    "quoted_users = []\n",
    "\n",
    "# USING FOLLOWING REDUCES TO ONLY IF QUOTED if status_array[current]['is_quote_status'] == True: \n",
    "\n",
    "for current in range(0, len(status_array)):\n",
    "    \"\"\"If quoted, then check mentions and append mention screen names to array\"\"\"\n",
    "    \n",
    "    if status_array[current]['entities']['user_mentions'] is not None:\n",
    "        for y in range(0, len(status_array[current]['entities']['user_mentions'])):\n",
    "            quoted_users.append(status_array[current]['entities']['user_mentions'][y]['screen_name'])\n",
    "\n",
    "                \n",
    "print(\"Number of times users were quoted :\" + str(len(quoted_users)))\n",
    "       \n",
    "quoteCounter = Counter(quoted_users)\n",
    "quoteCounted = OrderedDict(quoteCounter.most_common(5))\n",
    "\n",
    "\n",
    "print(\"Most quoted users are : \" + str(quoteCounted) + \"\\n\")   \n",
    "    \n",
    "reference_items = list(quoteCounted.items())\n",
    "\n"
   ]
  },
  {
   "cell_type": "markdown",
   "metadata": {
    "collapsed": true
   },
   "source": [
    "# GOOGLE TRENDS "
   ]
  },
  {
   "cell_type": "code",
   "execution_count": 31,
   "metadata": {},
   "outputs": [
    {
     "data": {
      "text/plain": [
       "\"\\nimport csv\\nimport matplotlib.pyplot as plt; plt.rcdefaults()\\nimport numpy as np\\nimport matplotlib.pyplot as plt\\n\\nwith open('multiTimeline.csv', newline='') as csvfile:\\n    data = list(csv.reader(csvfile))\\ngoogle =data[3:]\\n\\ndates = []\\nvalues = []\\nfor x in range(0, len(google)):\\n    dates.append(str(google[x][0]))\\n    values.append(google[x][1])\\n    \\n\\n\\n\\ny_pos = np.arange(len(dates))\\n\\n\\nplt.scatter(dates, values)\\n\\nplt.title('Google Trend Over time')\\nplt.ylabel('Popularity as % of Max')\\nplt.xticks(y_pos, dates, fontsize=10, rotation=30)\\nplt.locator_params(axis='x', nbins=6)\\nplt.locator_params(axis='Y', nbins=6)\\n\\nplt.show()\\n\""
      ]
     },
     "execution_count": 31,
     "metadata": {},
     "output_type": "execute_result"
    }
   ],
   "source": [
    "\"\"\"\n",
    "import csv\n",
    "import matplotlib.pyplot as plt; plt.rcdefaults()\n",
    "import numpy as np\n",
    "import matplotlib.pyplot as plt\n",
    "\n",
    "with open('multiTimeline.csv', newline='') as csvfile:\n",
    "    data = list(csv.reader(csvfile))\n",
    "google =data[3:]\n",
    "\n",
    "dates = []\n",
    "values = []\n",
    "for x in range(0, len(google)):\n",
    "    dates.append(str(google[x][0]))\n",
    "    values.append(google[x][1])\n",
    "    \n",
    "\n",
    "\n",
    "\n",
    "y_pos = np.arange(len(dates))\n",
    "\n",
    "\n",
    "plt.scatter(dates, values)\n",
    "\n",
    "plt.title('Google Trend Over time')\n",
    "plt.ylabel('Popularity as % of Max')\n",
    "plt.xticks(y_pos, dates, fontsize=10, rotation=30)\n",
    "plt.locator_params(axis='x', nbins=6)\n",
    "plt.locator_params(axis='Y', nbins=6)\n",
    "\n",
    "plt.show()\n",
    "\"\"\""
   ]
  },
  {
   "cell_type": "code",
   "execution_count": 32,
   "metadata": {},
   "outputs": [
    {
     "data": {
      "text/plain": [
       "'\\nimport csv\\nimport matplotlib.pyplot as plt; plt.rcdefaults()\\nimport numpy as np\\nimport matplotlib.pyplot as plt\\n\\nwith open(\\'geoMap.csv\\', newline=\\'\\') as csvfile:\\n    data = list(csv.reader(csvfile))\\ngoogle =data[3:]\\n\\nplaces = []\\nvalues = []\\nfor x in range(0, len(google)):\\n    places.append(str(google[x][0]))\\n    values.append(google[x][1])\\n    \\nplaces = places[0:5]\\nvalues = values[0:5]\\n\\n# this is for plotting purpose\\nindex = np.arange(len(places))\\nplt.barh(index, values)\\nplt.ylabel(\\'District\\', fontsize=10)\\nplt.xlabel(\\'Proportion Index\\', fontsize=10)\\nplt.yticks(index, places, fontsize=10, rotation=0)\\nplt.title(\\'Interest by subregion\\')\\nplt.savefig(\"gcompare\")\\nplt.show()\\n\\n'"
      ]
     },
     "execution_count": 32,
     "metadata": {},
     "output_type": "execute_result"
    }
   ],
   "source": [
    "\"\"\"\n",
    "import csv\n",
    "import matplotlib.pyplot as plt; plt.rcdefaults()\n",
    "import numpy as np\n",
    "import matplotlib.pyplot as plt\n",
    "\n",
    "with open('geoMap.csv', newline='') as csvfile:\n",
    "    data = list(csv.reader(csvfile))\n",
    "google =data[3:]\n",
    "\n",
    "places = []\n",
    "values = []\n",
    "for x in range(0, len(google)):\n",
    "    places.append(str(google[x][0]))\n",
    "    values.append(google[x][1])\n",
    "    \n",
    "places = places[0:5]\n",
    "values = values[0:5]\n",
    "\n",
    "# this is for plotting purpose\n",
    "index = np.arange(len(places))\n",
    "plt.barh(index, values)\n",
    "plt.ylabel('District', fontsize=10)\n",
    "plt.xlabel('Proportion Index', fontsize=10)\n",
    "plt.yticks(index, places, fontsize=10, rotation=0)\n",
    "plt.title('Interest by subregion')\n",
    "plt.savefig(\"gcompare\")\n",
    "plt.show()\n",
    "\n",
    "\"\"\""
   ]
  },
  {
   "cell_type": "markdown",
   "metadata": {},
   "source": [
    "# SCAN A TWEET FOR A GIVEN BIO "
   ]
  },
  {
   "cell_type": "code",
   "execution_count": 33,
   "metadata": {},
   "outputs": [
    {
     "name": "stdout",
     "output_type": "stream",
     "text": [
      "Number of matching tweets: 4\n",
      "Top 50 terms in their tweets: OrderedDict([('@ROYALFAMILY:', 3), ('QUEEN,', 3), ('PRESIDENT', 3), ('TRUMP', 3), ('FIRST', 2), ('LADY', 2), ('VIEW', 2), ('DISPLAY', 2), ('ITEMS', 2), ('ROYAL', 2), ('COLLECTION', 2), ('ILLUSTRATING', 2), ('ENDURING…RT', 2), ('RT', 1), ('MRS', 1), ('STAND', 1), ('PRINCE', 1), ('WALES', 1), ('DUCHESS', 1), ('CORNWALL', 1), ('US', 1), ('UK', 1), ('NATIONA…RT', 1), ('@FUNDER:', 1), ('LONDON’S', 1), ('MAYOR', 1), ('SADIQ', 1), ('KHAN', 1), ('SENT', 1), ('SCATHING', 1), ('NEW', 1), ('VIDEO', 1), ('MESSAGE', 1), ('TRUMP:', 1), ('“ONLY', 1), ('WEAK', 1), ('MEN', 1), ('FEAR', 1), ('STRONG', 1), ('WOMEN”', 1), ('#TRUMPSANINTERNATION…', 1)])\n"
     ]
    }
   ],
   "source": [
    "from collections import Counter, OrderedDict\n",
    "CHOSEN_BIO_WORD = CHOSEN_BIO_WORD.upper()\n",
    "\n",
    "\n",
    "TARGETARRAY = []\n",
    "TARGETTWEET = \"\"\n",
    "linecount = 0\n",
    "for x in range(0, len(status_array)):\n",
    "    text = str(status_array[x]['text']).upper()\n",
    "    description = str(status_array[x]['user']['description']).upper()\n",
    "   \n",
    "    if str(description).count(str(CHOSEN_BIO_WORD)) >= 1:\n",
    "        TARGETARRAY.append(status_array[x])\n",
    "        TARGETTWEET = TARGETTWEET +  str(status_array[x]['text']).upper()\n",
    "\n",
    "\n",
    "\n",
    "DISC = TARGETTWEET.split()\n",
    "x = Counter(DISC)\n",
    "del x['⠀'],x['AND'],x['THE'],x['OF'],x['TO'],x['A'],x['IN'],x['&'],x['MY'],x['FOR'],x['I'],x['NOT'],x['IS'],x['ARE']\n",
    "del x['WITH'],x['ALL'],x['ON'],x['-'],x['YOU'],x['BY'],x['IT'],x['NO'],x['OR'],x['OWN'],x['THAT'],x['AT'],x['BE'],x['|'],x['WILL'],\n",
    "del x['BUT'],x['AN'],x['ABOUT'],x['AS'],x['FROM'],x['WHO'],x['ME'],x['WE'],x['HAVE'],x['OUR'],x['AM'],x['LIKE'],x['JUST']\n",
    "del x['THIS'],x['THEY'],x['IF'],x['HAS'],x['&AMP'],x['HAS'],x['CAN'],x['NOW'],x['SO'],x['ONLY'],x['WAS'],x['WHAT'],x['THEIR'],x['YOUR'],x['WOULD']\n",
    "del x['DO'],x['&AMP;'],x['ONE'],x['WANT'],x['BEEN'],x['THEM'],x['MORE'],x['/'],x['•'],x[\"I'M\"],x[''],x['']\n",
    "\n",
    "refinedTWEETS = OrderedDict(x.most_common(50))\n",
    "print(\"Number of matching tweets: \" + str(len(TARGETARRAY)))\n",
    "print(\"Top 50 terms in their tweets: \" + str(refinedTWEETS))"
   ]
  },
  {
   "cell_type": "markdown",
   "metadata": {},
   "source": [
    "# SCAN BIO FOR GIVEN TWEET"
   ]
  },
  {
   "cell_type": "code",
   "execution_count": 34,
   "metadata": {},
   "outputs": [
    {
     "name": "stdout",
     "output_type": "stream",
     "text": [
      "Number of matching tweets: 7\n",
      "Top 50 terms in their bio: OrderedDict([('CONSERVATIVE', 3), ('VERY', 2), ('TRUSTEE,', 2), ('//', 2), ('WIFE,', 1), ('MUM,', 1), ('GRANDMOTHER.', 1), ('WASPI', 1), ('WOMAN.', 1), ('PRO', 1), ('BREXIT', 1), ('PARTY', 1), ('LESS.', 1), ('FEELING', 1), ('LET', 1), ('DOWN.', 1), ('POSITIVE', 1), ('ALLOWED', 1), ('LEAVE.TEACHER', 1), ('MATHEMATICS', 1), ('ENGLISH.', 1), ('CO-ORGANISER,', 1), ('@INSTOFIDEAS', 1), ('EDUCATION', 1), ('FORUM', 1), ('HTTPS://T.CO/X0CPWIDHJY;', 1), ('@BLAKE_SOCIETY;', 1), ('@YOUNG_JOURNOS.17', 1), ('MEMBER', 1), (\"DEVIL'S\", 1), ('ADVOCATEA', 1), ('BRAND', 1), ('NEW', 1), ('PROFILE.', 1), ('FRESH', 1), ('BEGINNING.', 1), ('HOPE', 1), ('REMEMBER', 1), ('ME.', 1), ('PRINCIPLE', 1), ('ALSO', 1), ('REPUBLICAN.', 1), ('FORMER', 1), ('@EF', 1), ('TEACHER.DOTING', 1), ('DAD.', 1), ('BELIEVER', 1), ('BREXIT.', 1), ('MAINSTREAM', 1), ('SUPPORTER', 1)])\n"
     ]
    }
   ],
   "source": [
    "from collections import Counter, OrderedDict\n",
    "\n",
    "\n",
    "CHOSEN_TWEET_WORD = CHOSEN_TWEET_WORD.upper()\n",
    "\n",
    "\n",
    "TARGETARRAY = []\n",
    "TARGETBIO = \"\"\n",
    "linecount = 0\n",
    "for x in range(0, len(status_array)):\n",
    "    text = str(status_array[x]['text']).upper()\n",
    "    description = str(status_array[x]['user']['description']).upper()\n",
    "   \n",
    "    if str(text).count(str(CHOSEN_TWEET_WORD)) >= 1:\n",
    "        TARGETARRAY.append(status_array[x])\n",
    "        TARGETBIO = TARGETBIO + str(status_array[x]['user']['description']).upper()\n",
    "\n",
    "\n",
    "\n",
    "DISC = TARGETBIO.split()\n",
    "x = Counter(DISC)\n",
    "del x['⠀'],x['AND'],x['THE'],x['OF'],x['TO'],x['A'],x['IN'],x['&'],x['MY'],x['FOR'],x['I'],x['NOT'],x['IS'],x['ARE']\n",
    "del x['WITH'],x['ALL'],x['ON'],x['-'],x['YOU'],x['BY'],x['IT'],x['NO'],x['OR'],x['OWN'],x['THAT'],x['AT'],x['BE'],x['|'],x['WILL'],\n",
    "del x['BUT'],x['AN'],x['ABOUT'],x['AS'],x['FROM'],x['WHO'],x['ME'],x['WE'],x['HAVE'],x['OUR'],x['AM'],x['LIKE'],x['JUST']\n",
    "del x['THIS'],x['THEY'],x['IF'],x['HAS'],x['&AMP'],x['HAS'],x['CAN'],x['NOW'],x['SO'],x['ONLY'],x['WAS'],x['WHAT'],x['THEIR'],x['YOUR'],x['WOULD']\n",
    "del x['DO'],x['&AMP;'],x['ONE'],x['WANT'],x['BEEN'],x['THEM'],x['MORE'],x['/'],x['•'],x[\"I'M\"],x[''],x['']\n",
    "\n",
    "refinedBio = OrderedDict(x.most_common(50))\n",
    "print(\"Number of matching tweets: \" + str(len(TARGETARRAY)))\n",
    "print(\"Top 50 terms in their bio: \" + str(refinedBio))"
   ]
  },
  {
   "cell_type": "markdown",
   "metadata": {},
   "source": [
    "# LINK BIO AND TWEET"
   ]
  },
  {
   "cell_type": "code",
   "execution_count": 35,
   "metadata": {},
   "outputs": [
    {
     "name": "stdout",
     "output_type": "stream",
     "text": [
      "OrderedDict([('TRUMP', 1950), ('PRESIDENT', 639), ('LONDON', 372), ('UK', 372), ('QUEEN', 362), ('DONALD', 277), ('MAYOR', 270), ('DE', 264), ('@ROYALFAMILY:', 255), ('KHAN', 245), ('US', 240), ('FIRST', 218), ('TRUMP’S', 212), ('LADY', 188), ('VISIT', 183), ('SADIQ', 171), ('ROYAL', 166), ('VIEW', 158), ('DISPLAY', 154), ('COLLECTION', 154), ('ITEMS', 152), ('PRINCE', 149), (\"TRUMP'S\", 148), ('ILLUSTRATING', 147), ('STAND', 136), ('@REALDONALDTRUMP', 132), ('WALES', 124), ('STATE', 120), ('DUCHESS', 119), ('CORNWALL', 118), ('MRS', 117), ('ENDURING…RT', 116), ('LA', 116), ('EL', 112), ('AGAINST', 110), ('RESIST', 102), ('MESSAGE', 101), ('SECRETARY', 99), ('TRYING', 95), ('SEEMS', 90), ('ELAINE', 90), ('NEWS', 89), ('IMPEACHMENT', 87), ('OBAMA', 87), ('TRUMP:', 87), ('@FUNDER:', 87), ('USE', 86), ('POSITION', 86), ('PROTEST', 86), ('NATIONA…RT', 86)])\n",
      "\n",
      "bio\n",
      "OrderedDict([('LOVE', 149), ('TRUMP', 139), ('MAGA', 127), ('DE', 106), ('PROUD', 87), ('FAN', 84), ('LOVER', 81), ('LIFE', 75), ('WORLD', 74), ('CONSERVATIVE', 74), ('POLITICS', 70), ('MOM', 67), ('GOD', 64), ('RESIST', 63), ('NEWS', 63), ('AMERICAN', 62), ('PEOPLE', 62), ('US', 61), ('MUSIC', 60), ('Y', 60), (\"DON'T\", 58), ('LA', 58), ('MOTHER', 56), ('FOLLOW', 56), ('FAMILY', 55), ('SOCIAL', 54), ('GOOD', 54), ('COUNTRY', 54), ('RETIRED', 53), ('PATRIOT', 53), ('THERESISTANCE', 52), ('AMERICA', 51), ('WIFE', 50), ('TIME', 50), ('POLITICAL', 49), ('WRITER', 49), ('PRESIDENT', 49), ('SUPPORTER', 48), ('DEMOCRAT', 46), ('FATHER', 45), ('TWITTER', 44), ('VIEWS', 43), ('MARRIED', 43), ('TRUTH', 42), ('RESISTANCE', 42), ('LIBERAL', 42), ('LIVING', 42), ('KAG', 42), ('CHRISTIAN', 42), ('🇺🇸', 41)])\n"
     ]
    }
   ],
   "source": [
    "print(large_top_tweets)\n",
    "print(\"\")\n",
    "print(\"bio\")\n",
    "print(large_bio_desc)"
   ]
  },
  {
   "cell_type": "code",
   "execution_count": 36,
   "metadata": {},
   "outputs": [
    {
     "name": "stdout",
     "output_type": "stream",
     "text": [
      "No of matches : 3.49%\n",
      "RT @ClarenceHouse: President Trump and the First Lady join The Prince of Wales and The Duchess of Cornwall for tea at Clarence House. \n",
      "\n",
      "#US…\n",
      "\n",
      "Bio: \n",
      "Follower of Yahshua the Messiah. Sabbath Observer. #MAGA #KAG Conservative. Pro-life. #3Stars4GenFlynn. #Qanon #WWG1WGA #IStandWithGenFlynn\n"
     ]
    }
   ],
   "source": [
    "#PICK TWO OR \n",
    "\n",
    "CHOSEN_WORD_ONE = CHOSEN_TWEET_WORD_ONE.upper()\n",
    "BIO_CHOSEN_WORD_ONE = BIO_CHOSEN_WORD_ONE.upper()\n",
    "\n",
    "\n",
    "\n",
    "\n",
    "TARGETARRAY = []\n",
    "linecount = 0\n",
    "for x in range(0, len(status_array)):\n",
    "    text = str(status_array[x]['text']).upper()\n",
    "    description = str(status_array[x]['user']['description']).upper()\n",
    "   \n",
    "    if str(text).count(str(CHOSEN_WORD_ONE)) >= 1 and str(description).count(str(BIO_CHOSEN_WORD_ONE)) >= 1:\n",
    "        TARGETARRAY.append(status_array[x])\n",
    "\n",
    "\n",
    "match_percentage =  (len(TARGETARRAY)/len(status_array)) * 100\n",
    "match_percentage = round(match_percentage,2)\n",
    "print(\"No of matches : \" + str(match_percentage) + \"%\" )    \n",
    "print(TARGETARRAY[0]['text'])\n",
    "print(\"\")\n",
    "print('Bio: ')\n",
    "print(TARGETARRAY[0]['user']['description'])"
   ]
  },
  {
   "cell_type": "code",
   "execution_count": 37,
   "metadata": {},
   "outputs": [
    {
     "data": {
      "text/plain": [
       "'Fri Dec 07 13:45:24 +0000 2012'"
      ]
     },
     "execution_count": 37,
     "metadata": {},
     "output_type": "execute_result"
    }
   ],
   "source": [
    "status_array[1]['user']['created_at']"
   ]
  },
  {
   "cell_type": "markdown",
   "metadata": {},
   "source": [
    "# COUNT NEW USERS    "
   ]
  },
  {
   "cell_type": "code",
   "execution_count": 38,
   "metadata": {
    "scrolled": true
   },
   "outputs": [
    {
     "name": "stdout",
     "output_type": "stream",
     "text": [
      "No of Profiles newer than 10 days are : 0.64%\n"
     ]
    }
   ],
   "source": [
    "import time\n",
    "from datetime import datetime, timedelta\n",
    "present = datetime.now()\n",
    "\n",
    "timerange = 10\n",
    "\n",
    "\n",
    "\n",
    "newcount = 0\n",
    "\n",
    "for x in range(0, len(status_array)):\n",
    "    created_at = time.strftime('%Y-%m-%d %H:%M:%S', time.strptime(status_array[x]['user']['created_at'],'%a %b %d %H:%M:%S +0000 %Y'))\n",
    "    then = datetime.strptime(created_at, \"%Y-%m-%d %H:%M:%S\")\n",
    "    delta = datetime.now() - then\n",
    "    if delta.days < timerange:\n",
    "        newcount = newcount + 1\n",
    "        #print(status_array[x]['user']['created_at'])\n",
    "        #print(created_at)\n",
    "        #print(delta)\n",
    "\n",
    "        \n",
    "percentnewcount = (newcount/len(status_array)) * 100\n",
    "percentnewcount = round(percentnewcount,2)\n",
    "\n",
    "\n",
    "\n",
    "print(\"No of Profiles newer than \" + str(timerange) + \" days are : \" + str(percentnewcount) + \"%\")\n"
   ]
  },
  {
   "cell_type": "markdown",
   "metadata": {},
   "source": [
    "# COUNT FOLLOWERS"
   ]
  },
  {
   "cell_type": "code",
   "execution_count": 39,
   "metadata": {},
   "outputs": [
    {
     "name": "stdout",
     "output_type": "stream",
     "text": [
      "No of people with less than 10 followers :3.68%\n",
      "No of people with more than 1000000 followers :0.21%\n"
     ]
    }
   ],
   "source": [
    "count = 0 \n",
    "maxcount = 0\n",
    "followercount = 10\n",
    "maxfollowercount = 1000000\n",
    "\n",
    "for x in range(0, len(status_array)):\n",
    "    if status_array[x]['user']['followers_count'] < followercount:\n",
    "        count = count + 1 \n",
    "        \n",
    "    if status_array[x]['user']['followers_count'] > maxfollowercount:\n",
    "        maxcount = maxcount + 1 \n",
    "    \n",
    "percentcount = (count / len(status_array)) * 100\n",
    "percentcount = round(percentcount,2)\n",
    "\n",
    "\n",
    "maxpercentcount = (maxcount / len(status_array)) * 100\n",
    "maxpercentcount = round(maxpercentcount,2)\n",
    "\n",
    "print(\"No of people with less than \" + str(followercount) + \" followers :\" + str(percentcount) + \"%\")\n",
    "print(\"No of people with more than \" + str(maxfollowercount) + \" followers :\" + str(maxpercentcount) + \"%\")"
   ]
  },
  {
   "cell_type": "markdown",
   "metadata": {},
   "source": [
    "# MOST RETWEETED"
   ]
  },
  {
   "cell_type": "code",
   "execution_count": 40,
   "metadata": {},
   "outputs": [
    {
     "name": "stdout",
     "output_type": "stream",
     "text": [
      "The most retweeted user is: cindycrum\n",
      "Created on :Mon Jun 03 16:44:42 +0000 2019\n",
      "Their tweet was : RT @mattmfm: How seriously does the rest of the world take Trump? Well, here’s how Sky News is advertising his UK state visit. Watch. https…\n",
      "No of retweets: 56223\n"
     ]
    }
   ],
   "source": [
    "import operator\n",
    "\n",
    "retweet_count = []\n",
    "\n",
    "for x in range(0, len(status_array)):\n",
    "    retweet_count.append(status_array[x]['retweet_count'])\n",
    "\n",
    "# Requires operator lib    \n",
    "index, value = max(enumerate(retweet_count), key=operator.itemgetter(1))\n",
    "\n",
    "if status_array[index]['retweet_count'] != value:\n",
    "    print('something went wrong')\n",
    "    \n",
    "most_retweeted = str(status_array[index]['text'])\n",
    "\n",
    "print(\"The most retweeted user is: \" + str(status_array[index]['user']['screen_name'])) \n",
    "print('Created on :' + str(status_array[index]['created_at']))\n",
    "print(\"Their tweet was : \" + str(most_retweeted))\n",
    "print(\"No of retweets: \" + str(value))"
   ]
  },
  {
   "cell_type": "markdown",
   "metadata": {},
   "source": [
    "# REPORT GENERATOR\n",
    "<a id='GENERATOR'>''</a>\n",
    "[HEAD](#HEAD)\n",
    "\n"
   ]
  },
  {
   "cell_type": "code",
   "execution_count": 41,
   "metadata": {
    "scrolled": false
   },
   "outputs": [
    {
     "name": "stdout",
     "output_type": "stream",
     "text": [
      "# MURCHIE85 TWITTER PROCESSING \n",
      "\n",
      "&#x1F34E; **TOPIC = \"Trump\"**\n",
      "\n",
      "\n",
      "## AUTOMATED RESEARCH SUMMARY\n",
      "\n",
      "\n",
      "![image](https://ichef.bbci.co.uk/news/660/cpsprodpb/0D2B/production/_102517330_ac93680d-df35-4664-bbfe-7ff26a698888.jpg)\n",
      "\n",
      "<br></br>\n",
      "\n",
      "<div class=\"alert alert-block alert-danger\"><b> This repo is for pulling metrics on a given keyword or hashtag and performs a series of reporting and analysis.</b></div>\n",
      "\n",
      "\n",
      "\n",
      "\n",
      "![image](TWEETS.png)\n",
      "\n",
      "\n",
      "\n",
      "\n",
      "|                ** Sample-Tweets  **        |\n",
      "| :-------------: |\n",
      "| <div class=\"alert alert-block alert-warning\">RT @ELLEUK: Mayor of London, @SadiqKhan has a message for @realDonaldTrump on his arrival to London about how women ought to be treated glo…</div><div class=\"alert alert-block alert-success\">RT @lopezobrador_: Agradezco la solidaridad de ricos y pobres, de la inmensa mayoría de los mexicanos en el tema de las tarifas que quiere…</div><div class=\"alert alert-block alert-info\">RT @florentderue: La vidéo de Sky News qui annonce la visite de Donald Trump en Grande Bretagne est magique \n",
      "\n",
      "https://t.co/tUyNYlhfZG</div> |\n",
      "\n",
      "\n",
      "## GOOGLE SEARCH DEMOGRAPHICS \n",
      "\n",
      "Tweeting demographic           | Countries\n",
      ":-------------------------:|:-------------------------:\n",
      "![](maps.png)  |  ![](gcompare.png)\n",
      "<br>\n",
      "\n",
      "## RELATED TOPICS  & QUERIES \n",
      "\n",
      "topics          | searches\n",
      ":-------------------------:|:-------------------------:\n",
      "![](topic.png)  |  ![](query.png)\n",
      "\n",
      "<br>\n",
      "<br>\n",
      "\n",
      "\n",
      "## RELATED METRICS\n",
      "<br>\n",
      "\n",
      "| Metric | Value |\n",
      "| ------------- | ------------- |\n",
      "| #1 Most tweeted to  | **RoyalFamily** |\n",
      "| #2 Most tweeted to  | **realDonaldTrump** |\n",
      "| #3 Most tweeted to  | **SadiqKhan** |\n",
      "| NewProfiles (less than 10 days) | 0.64%  |\n",
      "| Tweeters with < 10 followers  | 3.68%|\n",
      "| Tweeters with > 1000000 followers  | 0.21%  |\n",
      "\n",
      "\n",
      "<br>\n",
      "\n",
      "## MOST POPULAR TWEET TERMS \n",
      "<br>\n",
      "\n",
      "| Popularity Rank  | Term |\n",
      "| ------------- | ------------- |\n",
      "| first  | **TRUMP**  |\n",
      "| second  | **PRESIDENT**  |\n",
      "| third  | **LONDON** |\n",
      "| fourth  | **UK**  |\n",
      "| fifth  | **QUEEN**  |\n",
      "\n",
      "\n",
      "<br>\n",
      "\n",
      "![image](comparetweets.png)\n",
      "\n",
      "## Twitter Bio Analysis\n",
      "![image](BIO.png)\n",
      "\n",
      "### SENTIMENT ANALYSIS\n",
      "\n",
      "\n",
      "VIEWS WERE : **SUBJECTIVE**  (27.27%) & **NEGATIVELY-SUBJECTIVE** (36.36%) **OBJECTIVE** (36.36%)\n",
      "\n",
      "### TWEET SAMPLE \n",
      "\n",
      "Random value picked from array: \n",
      "\n",
      "<div class=\"alert alert-block alert-info\">RT @lopezobrador_: Agradezco la solidaridad de ricos y pobres, de la inmensa mayoría de los mexicanos en el tema de las tarifas que quiere…</div>\n",
      "\n",
      "### MOST RETWEETED\n",
      "\n",
      "<div class=\"alert alert-block alert-danger\"> RT @mattmfm: How seriously does the rest of the world take Trump? Well, here’s how Sky News is advertising his UK state visit. Watch. https…</div>\n",
      "\n",
      "### CONCLUSION & EXTERNAL ANALYSIS\n",
      "\n",
      "*This is my [Adam McMurchie`s] opinion on the data from the tweets, it serves as no objective truth.Since the tweets themselves are a mixture of fact & opinion.\n",
      "<br>\n",
      "\n",
      "Authors analytical summary on request.\n",
      "\n",
      "**RECOMMENDATIONS** WILL BE UPDATED IN NEXT  24 HOURS \n",
      "<br>\n"
     ]
    }
   ],
   "source": [
    "\n",
    "#PRINT FORMAT\n",
    "print('# MURCHIE85 TWITTER PROCESSING ')\n",
    "print('')\n",
    "print('&#x1F34E; **TOPIC = \"' + str(TOPIC) + '\"**')\n",
    "print('')\n",
    "print('')\n",
    "print('## AUTOMATED RESEARCH SUMMARY')\n",
    "print('')\n",
    "print('')\n",
    "print('![image](' + str(image) + ')')\n",
    "print('')\n",
    "print('<br></br>')\n",
    "print('')\n",
    "print('<div class=\"alert alert-block alert-danger\"><b> This repo is for pulling metrics on a given keyword or hashtag and performs a series of reporting and analysis.</b></div>')\n",
    "print('')\n",
    "print('')\n",
    "print('')\n",
    "print('') \n",
    "print('![image](TWEETS.png)')\n",
    "print('')\n",
    "print('')\n",
    "print('')\n",
    "print('')\n",
    "print('|                ** Sample-Tweets  **        |')\n",
    "print('| :-------------: |')\n",
    "print('| <div class=\"alert alert-block alert-warning\">' + str(status_array[10]['text']) + '</div><div class=\"alert alert-block alert-success\">' + str(status_array[100]['text']) + '</div><div class=\"alert alert-block alert-info\">' + str(status_array[70]['text']) + '</div> |')\n",
    "print('')\n",
    "print('')\n",
    "print('## GOOGLE SEARCH DEMOGRAPHICS ')\n",
    "print('')\n",
    "print('Tweeting demographic           | Countries')\n",
    "print(':-------------------------:|:-------------------------:')\n",
    "print('![](maps.png)  |  ![](gcompare.png)')\n",
    "print('<br>')\n",
    "print('')\n",
    "print('## RELATED TOPICS  & QUERIES ')\n",
    "print('')\n",
    "print('topics          | searches')\n",
    "print(':-------------------------:|:-------------------------:')\n",
    "print('![](topic.png)  |  ![](query.png)')\n",
    "print('')\n",
    "print('<br>')\n",
    "print('<br>')\n",
    "print('')\n",
    "print('')\n",
    "print('## RELATED METRICS')\n",
    "print('<br>')\n",
    "print('')\n",
    "print('| Metric | Value |')\n",
    "print('| ------------- | ------------- |')\n",
    "print('| #1 Most tweeted to  | **' + str(reference_items[0][0]) + '** |')\n",
    "print('| #2 Most tweeted to  | **' + str(reference_items[1][0]) + '** |')\n",
    "print('| #3 Most tweeted to  | **' + str(reference_items[2][0]) + '** |')\n",
    "print('| NewProfiles (less than 10 days) | ' + str(str(percentnewcount)) + '%  |')\n",
    "print('| Tweeters with < ' + str(followercount) + ' followers  | ' + str(percentcount) + '%|')\n",
    "print('| Tweeters with > ' + str(maxfollowercount) + ' followers  | '  + str(maxpercentcount) + '%  |')\n",
    "print('')\n",
    "print('')\n",
    "print('<br>')\n",
    "print('')\n",
    "print('## MOST POPULAR TWEET TERMS ')\n",
    "print('<br>')\n",
    "print('')\n",
    "print('| Popularity Rank  | Term |')\n",
    "print('| ------------- | ------------- |')\n",
    "print('| first  | **' + str(str(list(top_tweets)[0:1])).replace('[','').replace(']','').replace(\"'\",'') + '**  |')\n",
    "print('| second  | **' + str(str(list(top_tweets)[1:2])).replace('[','').replace(']','').replace(\"'\",'') + '**  |')\n",
    "print('| third  | **' + str(str(list(top_tweets)[2:3])).replace('[','').replace(']','').replace(\"'\",'') + '** |')\n",
    "print('| fourth  | **' + str(str(list(top_tweets)[3:4])).replace('[','').replace(']','').replace(\"'\",'') + '**  |')\n",
    "print('| fifth  | **' + str(str(list(top_tweets)[4:5])).replace('[','').replace(']','').replace(\"'\",'') + '**  |')\n",
    "print('')\n",
    "print('')\n",
    "print('<br>')\n",
    "print('')\n",
    "print('![image](comparetweets.png)')\n",
    "print('')\n",
    "print('## Twitter Bio Analysis')\n",
    "print('![image](BIO.png)')\n",
    "print('')\n",
    "print('### SENTIMENT ANALYSIS')\n",
    "print('')\n",
    "print('')\n",
    "print('VIEWS WERE : **SUBJECTIVE**  (' + str(subjective_tweet) + '%) & **NEGATIVELY-SUBJECTIVE** (' + str(negitively_subjective) + '%) **OBJECTIVE** (' + str(objective_tweet) +'%)')\n",
    "print('')\n",
    "print('### TWEET SAMPLE ')\n",
    "print('')\n",
    "print('Random value picked from array: ')\n",
    "print('')\n",
    "print('<div class=\"alert alert-block alert-info\">' + str(status_array[100]['text']) + '</div>')\n",
    "print('')\n",
    "print('### MOST RETWEETED')\n",
    "print('')\n",
    "print('<div class=\"alert alert-block alert-danger\"> ' + str(most_retweeted) + '</div>')\n",
    "print('')\n",
    "print('### CONCLUSION & EXTERNAL ANALYSIS')\n",
    "print('')\n",
    "print('*This is my [Adam McMurchie`s] opinion on the data from the tweets, it serves as no objective truth.Since the tweets themselves are a mixture of fact & opinion.')\n",
    "print('<br>')\n",
    "print('')\n",
    "print('Authors analytical summary on request.')\n",
    "print('')\n",
    "print('**RECOMMENDATIONS** WILL BE UPDATED IN NEXT  24 HOURS ')\n",
    "print('<br>')\n",
    "\n",
    "\n"
   ]
  },
  {
   "cell_type": "code",
   "execution_count": null,
   "metadata": {},
   "outputs": [],
   "source": []
  }
 ],
 "metadata": {
  "kernelspec": {
   "display_name": "Python 3",
   "language": "python",
   "name": "python3"
  },
  "language_info": {
   "codemirror_mode": {
    "name": "ipython",
    "version": 3
   },
   "file_extension": ".py",
   "mimetype": "text/x-python",
   "name": "python",
   "nbconvert_exporter": "python",
   "pygments_lexer": "ipython3",
   "version": "3.7.3"
  }
 },
 "nbformat": 4,
 "nbformat_minor": 2
}
